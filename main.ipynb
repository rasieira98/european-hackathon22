{
 "cells": [
  {
   "cell_type": "markdown",
   "id": "c9ad162a",
   "metadata": {},
   "source": [
    "# Schneider Electric European Hackathon\n",
    "## Challenge Data-Science: Zero Deforestation Mission\n",
    "- - -\n",
    "<img src=\"https://user-images.githubusercontent.com/116558787/201539352-ad0e29cb-501d-4644-9134-33a8b07ad693.PNG\" alt=\"Schneider\" width=\"800\"/>\n",
    "\n",
    "\n",
    "### Group SDG-UR: \n",
    "- - -\n",
    "\n",
    "- Ramón Sieira Martínez (SDG Group, Spain)\n",
    "- Francisco Javier Martínez de Pisón (University of La Rioja, Spain)\n",
    "- Jose Divasón (University of La Rioja, Spain)\n",
    "\n",
    "---\n",
    "\n",
    "This Jupyter notebook allows one to train and create submissions for the Data-Schneider-European-Hackathon \"Zero Deforestation Mission\". It also contains the methodology and the general ideas that we have followed.\n",
    "\n",
    "##### Key ideas of our approach:\n",
    "- - -\n",
    "\n",
    "1. Training is performed with a 3-fold cross-validation. The model that obtains the best F1-Macro is saved.\n",
    "2. The training dataset has been balanced.\n",
    "3. The final prediction in the submission corresponds to an ensemble of 8 models, each one trained using a 5-fold cross-validation.\n",
    "\n",
    "\n",
    "##### Detailed methodology:\n",
    "- - -\n",
    "\n",
    "###### Step 1: Tuning the learning rate, bath size and epochs\n",
    "\n",
    "After a first visual inspection of the images contained in the dataset, we have performed several test in order to find an optimal batch size, also adjusting the learning rate and finding an adequate value of epochs needed.\n",
    "\n",
    "We performed some test with a baseline approach. The goal at this step is to have some idea about the performance of a simple model.\n",
    "\n",
    "We have also tried with different batch sizes (from 16 to 72), which is very important for us because, in principle, a larger batch size should speed up the calculations, which means we can perform more tests in less time (which is the key in a competition like this). Surprisingly, we have obtained slower and worse results with large bath sizes, even though we also tried with different learning rates (keeping it constant, increasing it linearly with respect to the learning rate, etc.). This has been very surprising and an unexpected result, but due to lack of time we have not studied this problem further. Therefore, we have proceeded with 16 as batch size, 0.00001 as learning rate and 100 epochs.\n",
    "\n",
    "###### Step 2: Finding augmentation filters\n",
    "\n",
    "Data augmentation is a fundamental task when training any deep learning model. To try to make the process as fast as possible, we use the Kornia library to perform data augmentation on GPU instead of using CPU.\n",
    "\n",
    "The first thing we have done is to test various types of data augmentation that are available in the library (separately). For this task, we used a model \"tf_efficientnet_b3_ns\".\n",
    "\n",
    "We have tried the following augmentations. Due to the lack of time we have not performed many tests, only a few of them:\n",
    "\n",
    "- HORIZONTAL_FLIP\n",
    "- VERTICAL_FLIP\n",
    "- ERASING_MAX_RATIO\n",
    "- COLORJITTER_BRIGHTNESS\n",
    "- COLORJITTER_CONTRAST\n",
    "- COLORJITTER_SATURATION\n",
    "- COLORJITTER_HUE\n",
    "- ROTATION_DEGREES\n",
    "- SHARPNESS_VALUE\n",
    "- MOTIONBLUR_KERNEL_SIZE\n",
    "- MOTIONBLUR_KERNEL_ANGLE\n",
    "- MOTIONBLUR_KERNEL_DIRECTION\n",
    "\n",
    "The goal has been to find which augmentations really increase the final score. Some of them decrease the score, so we directly discarded them. We have discovered that some of them do produce a high increase, like saturation, sharpness, rotations and blur. It was not clear if some of the other filters really produce an improvement, so we did not perform further experiments with them to save up time.\n",
    "\n",
    "###### Step 3: Finding an augmentation range\n",
    "\n",
    "Those filters with the best results are selected and their maximum and minimum values are determined. We have not performed many test to find an optimal range because here is not enough time for that, so sometimes we have had to estimate it based only on one or two results.\n",
    "\n",
    "Finally, the following augmentations and ranges have been selected:\n",
    "```\n",
    "    saturation_min_max = (0.01, 0.20) \n",
    "    rotation_min_max = (0.01, 20.00)\n",
    "    sharpness_min_max = (0.06, 0.20)  \n",
    "    blur_motion_min_max = np.array([5, 7]) \n",
    "```\n",
    "We always perform a horizontal flip with probability 0.50, since we have seen it increases the performance of the model.\n",
    "\n",
    "\n",
    "###### Step 4: Random search with different backbones and augmentations\n",
    "\n",
    "A random search is performed with different backbones and values of the selected filters and within the ranges defined in step 2. This is done in several GPUs. Some models failed because they did not fit in some of the GPUs (Nvidia 3070), so sometimes we were not able to test each configuration.\n",
    "\n",
    "###### Step 5: Selection of the best models and use of pseudolabelling\n",
    "\n",
    "After the random search, we have selected the models with the best scores. Such models are again trained using pseudo-labelling, i.e., using the prediction that has been previously obtained from the test dataset.\n",
    "\n",
    "###### Step 6: Ensemble\n",
    "\n",
    "The best models of the previous step are selected and we build a Weighted Blending Ensemble to achieve a final 0.82378 f1-score. To do it, we tested the combinations of the 2, 3, 4, ..., N best models that have been obtained in the previous step, where N is optimized to get the best result. The weights of the models are obtained by optimization with the validation predictions.\n",
    "\n",
    "\n",
    "---\n",
    "\n",
    "#### Further comments:\n",
    "---\n",
    "\n",
    "The code can be used directly from the notebook or with its python version from the console. \n",
    "\n",
    "The following example allows one to train a \"tf_efficientnet_b3_ns\" model with a 3-fold cross-validation and several augmentations (horizontal flip, color saturation, rotarion, sharpness and motion blur): \n",
    "\n",
    "```\n",
    "python 01006_FINAL_CODE.py --OUTPUT_DIR results/MODEL_FIRST/ --VERBOSE 0 --BACKBONE tf_efficientnet_b3_ns --GPU_DEVICE cuda:0 --VERSION 01003 --NUM_EPOCHS 130 --BATCH_SIZE 16 --LR 0.00001 --NUM_FOLDS 3 --RUN_FOLDS 1 --AUGMENTATION True --HORIZONTAL_FLIP 0.50 --COLORJITTER_PROB 0.181641967391821 --COLORJITTER_SATURATION 0.0927803557147827 --ROTATION_PROB 0.181641967391821 --ROTATION_DEGREES 19.1576227380687 --SHARPNESS_PROB 0.181641967391821 --SHARPNESS_VALUE 0.140246520091931 --MOTIONBLUR_PROB 0.181641967391821 --MOTIONBLUR_KERNEL_SIZE 7\n",
    "```\n",
    "\n",
    "The parameters' description follows:\n",
    "\n",
    "\n",
    "*Training Parameters*\n",
    "\n",
    "- OUTPUT_DIR = Directory for results\n",
    "- TRAIN_MODEL = To train models\n",
    "- CREATE_SUBMISSION = To create submissions\n",
    "- VERBOSE = Verbose\n",
    "- INCLUDE_TEST = Include test in train for pseudo-labeling\n",
    "- MIN_THR_TEST = Threshold of preds to include in pseudo\n",
    "- TARGET_DIR_PREDS = Directory with preds for test in pseudo\n",
    "- PREVIOUS_MODEL = Dir with previous model\n",
    "- BACKBONE = Backbone\n",
    "- GPU_DEVICE = GPU device\n",
    "- SEED = Main Seed\n",
    "- NUM_FOLDS = Number of folds\n",
    "- RUN_FOLDS = Number of folds to run (1 to quick validation)\n",
    "- LR = Min Learning Rate\n",
    "- NUM_EPOCHS = Max epochs\n",
    "- BATCH_SIZE = Batch size\n",
    "- NUM_WORKERS = Numworkers in Dataloader\n",
    "- SAMPLES_BY_CLASS = Number of row of each class included in balanced train db\n",
    "- USA_FP16 = To use 16 Float in GPU\n",
    "- VERSION = Code Version\n",
    "\n",
    "[Kornia Augmentation Filters](https://kornia.readthedocs.io/en/v0.4.1/augmentation.html#module-api)\n",
    "\n",
    "- AUGMENTATION = Apply augmentation\n",
    "- HORIZONTAL_FLIP = Probability for flip\n",
    "- VERTICAL_FLIP = Probability for flip\n",
    "- ERASING_MAX_PROB = Probability for erasing\n",
    "- ERASING_MAX_RATIO = Max ratio box to erase\n",
    "- COLORJITTER_PROB = Probability for colorjitter\n",
    "- COLORJITTER_BRIGHTNESS = Value for brightness\n",
    "- COLORJITTER_CONTRAST = Value for contrast\n",
    "- COLORJITTER_SATURATION = Value for saturation\n",
    "- COLORJITTER_HUE = Value for hue\n",
    "- ROTATION_PROB = Probability for rotation\n",
    "- ROTATION_DEGREES = Max degrees for rotation\n",
    "- SHARPNESS_PROB = Probability for sharpness\n",
    "- SHARPNESS_VALUE = Max value of sharpness\n",
    "      \n",
    "- MOTIONBLUR_PROB = Probability for motionblur\n",
    "- MOTIONBLUR_KERNEL_SIZE = Max size ofkernel motion\n",
    "- MOTIONBLUR_KERNEL_ANGLE = Max angle of the motion\n",
    "- MOTIONBLUR_KERNEL_DIRECTION = Direction of the motion"
   ]
  },
  {
   "cell_type": "markdown",
   "id": "a3af904d",
   "metadata": {},
   "source": [
    "# Import Packages"
   ]
  },
  {
   "cell_type": "code",
   "execution_count": 44,
   "id": "47e3aef9",
   "metadata": {
    "ExecuteTime": {
     "end_time": "2022-11-18T09:46:26.349796Z",
     "start_time": "2022-11-18T09:46:26.337823Z"
    }
   },
   "outputs": [
    {
     "data": {
      "text/plain": [
       "('1.13.0+cu117', '1.23.3', '1.4.4', '0.6.8')"
      ]
     },
     "execution_count": 44,
     "metadata": {},
     "output_type": "execute_result"
    }
   ],
   "source": [
    "import os, glob, random, time, sys, pickle, gc\n",
    "import numpy as np, pandas as pd\n",
    "import matplotlib.pyplot as plt\n",
    "import ast\n",
    "\n",
    "from scipy import signal\n",
    "import cv2\n",
    "import logging\n",
    "from contextlib import contextmanager\n",
    "from joblib import Parallel, delayed\n",
    "from pathlib import Path\n",
    "from typing import Optional\n",
    "import IPython\n",
    "\n",
    "import torch\n",
    "import torch.nn as nn\n",
    "import torch.nn.functional as F\n",
    "from torch.utils.data import Dataset, DataLoader, RandomSampler, WeightedRandomSampler\n",
    "import torch.utils.data as torchdata\n",
    "# import torch.optim as optim\n",
    "import torch_optimizer as optim\n",
    "from torchvision import transforms, models, datasets, io\n",
    "from torchvision.utils import make_grid\n",
    "\n",
    "from transformers import get_linear_schedule_with_warmup\n",
    "import transformers\n",
    "from torch.cuda.amp import autocast, GradScaler\n",
    "\n",
    "from albumentations.core.transforms_interface import ImageOnlyTransform\n",
    "import kornia\n",
    "\n",
    "from tqdm import tqdm\n",
    "# from tqdm.notebook import tqdm\n",
    "from functools import partial\n",
    "from sklearn import metrics\n",
    "from sklearn.model_selection import StratifiedKFold, GroupKFold, train_test_split, KFold\n",
    "from sklearn.metrics import multilabel_confusion_matrix, roc_auc_score, accuracy_score, f1_score, precision_score, recall_score, ConfusionMatrixDisplay, confusion_matrix, mean_squared_error, precision_recall_fscore_support\n",
    "from skimage.transform import resize\n",
    "\n",
    "import albumentations as A\n",
    "import albumentations.pytorch.transforms as T\n",
    "from IPython.display import clear_output\n",
    "\n",
    "from PIL import Image, ImageOps\n",
    "import timm\n",
    "from timm.models.efficientnet import tf_efficientnet_b0_ns, tf_efficientnet_b1_ns, tf_efficientnet_b2_ns, tf_efficientnet_b3_ns, tf_efficientnet_b4_ns\n",
    "from timm.models.efficientnet import tf_efficientnet_b6_ns\n",
    "from timm.models.mobilenetv3 import mobilenetv3_small_075, mobilenetv3_small_100, mobilenetv3_large_075, mobilenetv3_large_100\n",
    "from timm.models.resnest import resnest50d, resnest101e, resnest200e\n",
    "\n",
    "import warnings\n",
    "# warnings.filterwarnings('ignore')\n",
    "\n",
    "pd.set_option('display.max_rows', 1000)\n",
    "pd.set_option('display.max_columns', 1000)\n",
    "pd.set_option('display.width', 1000)\n",
    "\n",
    "torch.__version__, np.__version__, pd.__version__, kornia.__version__"
   ]
  },
  {
   "cell_type": "markdown",
   "id": "bc6b28b3",
   "metadata": {},
   "source": [
    "# Console Commands"
   ]
  },
  {
   "cell_type": "code",
   "execution_count": 45,
   "id": "c5839b0a",
   "metadata": {
    "ExecuteTime": {
     "end_time": "2022-11-18T09:46:26.363285Z",
     "start_time": "2022-11-18T09:46:26.351254Z"
    }
   },
   "outputs": [
    {
     "data": {
      "text/plain": [
       "_StoreAction(option_strings=['--MOTIONBLUR_KERNEL_DIRECTION'], dest='MOTIONBLUR_KERNEL_DIRECTION', nargs=None, const=None, default=0.0, type=<class 'float'>, choices=None, required=False, help=None, metavar=None)"
      ]
     },
     "execution_count": 45,
     "metadata": {},
     "output_type": "execute_result"
    }
   ],
   "source": [
    "# ArgumentS From Console\n",
    "# ----------------------\n",
    "def in_nb():\n",
    "    import __main__ as main\n",
    "    return not hasattr(main, '__file__')\n",
    "\n",
    "import argparse\n",
    "parser = argparse.ArgumentParser()\n",
    "parser.add_argument(\"--OUTPUT_DIR\", type=str, default=\"None\") #Directory for results\n",
    "\n",
    "# Training parameters\n",
    "parser.add_argument(\"--TRAIN_MODEL\", type=str, default=\"True\") # To train models\n",
    "parser.add_argument(\"--CREATE_SUBMISSION\", type=str, default=\"True\") # To create submissions\n",
    "parser.add_argument(\"--VERBOSE\", type=int, default=0) #Verbose?\n",
    "parser.add_argument(\"--INCLUDE_TEST\", type=str, default=\"False\") # Include test in train for pseudo-labeling\n",
    "parser.add_argument(\"--MIN_THR_TEST\", type=float, default= -99999) # Threshold of preds to include in pseudo\n",
    "parser.add_argument(\"--TARGET_DIR_PREDS\", type=str, default=\"None\") # Directory with preds for test in pseudo\n",
    "parser.add_argument(\"--PREVIOUS_MODEL\", type=str, default=\"None\") # Dir with previous model\n",
    "parser.add_argument(\"--BACKBONE\", type=str, default=\"tf_efficientnet_b3_ns\") #Backbone\n",
    "parser.add_argument(\"--GPU_DEVICE\", type=str, default=\"cuda:0\") # GPU device\n",
    "parser.add_argument(\"--SEED\", type=int, default=12345) # Main Seed\n",
    "parser.add_argument(\"--NUM_FOLDS\", type=int, default=5) # Number of folds\n",
    "parser.add_argument(\"--RUN_FOLDS\", type=int, default=1) # Number of folds to run (1 to quick validation)\n",
    "parser.add_argument(\"--LR\", type=float, default=0.00001) # Min LR\n",
    "parser.add_argument(\"--NUM_EPOCHS\", type=int, default=40) # Max epochs\n",
    "parser.add_argument(\"--BATCH_SIZE\", type=int, default=16) # Batsize\n",
    "parser.add_argument(\"--NUM_WORKERS\", type=int, default=4) # Numworkers in Dataloader\n",
    "parser.add_argument(\"--SAMPLES_BY_CLASS\", type=int, default=64) # Number of row of each class included in balanced train db\n",
    "parser.add_argument(\"--USA_FP16\", type=str, default=\"False\") # To use 16 Float in GPU\n",
    "parser.add_argument(\"--VERSION\", type=str, default=\"01002\") #Version of code\n",
    "\n",
    "# Augmentation https://kornia.readthedocs.io/en/v0.4.1/augmentation.html#module-api\n",
    "parser.add_argument(\"--AUGMENTATION\", type=str, default=\"False\") #Apply augmentation\n",
    "parser.add_argument(\"--HORIZONTAL_FLIP\", type=float, default=0.0) #Probability for flip\n",
    "parser.add_argument(\"--VERTICAL_FLIP\", type=float, default=0.0) #Probability for flip\n",
    "\n",
    "parser.add_argument(\"--ERASING_MAX_PROB\", type=float, default=0.0) #Probability for erasing\n",
    "parser.add_argument(\"--ERASING_MAX_RATIO\", type=float, default=0.33) #Max ratio box to erase\n",
    "\n",
    "parser.add_argument(\"--COLORJITTER_PROB\", type=float, default=0.0) #Probability for colorjitter\n",
    "parser.add_argument(\"--COLORJITTER_BRIGHTNESS\", type=float, default=0.0) #Value for\n",
    "parser.add_argument(\"--COLORJITTER_CONTRAST\", type=float, default=0.0) #Value for\n",
    "parser.add_argument(\"--COLORJITTER_SATURATION\", type=float, default=0.0) #Value for\n",
    "parser.add_argument(\"--COLORJITTER_HUE\", type=float, default=0.0) #Value for\n",
    "\n",
    "parser.add_argument(\"--ROTATION_PROB\", type=float, default=0.0) #Probability for rotation\n",
    "parser.add_argument(\"--ROTATION_DEGREES\", type=float, default=0.10) #Max degrees for rotation\n",
    "\n",
    "parser.add_argument(\"--SHARPNESS_PROB\", type=float, default=0.0) #Probability for sharpness\n",
    "parser.add_argument(\"--SHARPNESS_VALUE\", type=float, default=0.10) #Max value of sharpness\n",
    "      \n",
    "parser.add_argument(\"--MOTIONBLUR_PROB\", type=float, default=0.0) #Probability for motionblur\n",
    "parser.add_argument(\"--MOTIONBLUR_KERNEL_SIZE\", type=int, default=3) #Max size ofkernel motion\n",
    "parser.add_argument(\"--MOTIONBLUR_KERNEL_ANGLE\", type=float, default=0.10) #Max angle of the motion\n",
    "parser.add_argument(\"--MOTIONBLUR_KERNEL_DIRECTION\", type=float, default=0.0) #Direction of the motion"
   ]
  },
  {
   "cell_type": "code",
   "execution_count": 46,
   "id": "926ad1fc",
   "metadata": {
    "ExecuteTime": {
     "end_time": "2022-11-18T09:46:26.369400Z",
     "start_time": "2022-11-18T09:46:26.364400Z"
    }
   },
   "outputs": [
    {
     "name": "stderr",
     "output_type": "stream",
     "text": [
      "usage: ipykernel_launcher.py [-h] [--OUTPUT_DIR OUTPUT_DIR]\n",
      "                             [--TRAIN_MODEL TRAIN_MODEL]\n",
      "                             [--CREATE_SUBMISSION CREATE_SUBMISSION]\n",
      "                             [--VERBOSE VERBOSE] [--INCLUDE_TEST INCLUDE_TEST]\n",
      "                             [--MIN_THR_TEST MIN_THR_TEST]\n",
      "                             [--TARGET_DIR_PREDS TARGET_DIR_PREDS]\n",
      "                             [--PREVIOUS_MODEL PREVIOUS_MODEL]\n",
      "                             [--BACKBONE BACKBONE] [--GPU_DEVICE GPU_DEVICE]\n",
      "                             [--SEED SEED] [--NUM_FOLDS NUM_FOLDS]\n",
      "                             [--RUN_FOLDS RUN_FOLDS] [--LR LR]\n",
      "                             [--NUM_EPOCHS NUM_EPOCHS]\n",
      "                             [--BATCH_SIZE BATCH_SIZE]\n",
      "                             [--NUM_WORKERS NUM_WORKERS]\n",
      "                             [--SAMPLES_BY_CLASS SAMPLES_BY_CLASS]\n",
      "                             [--USA_FP16 USA_FP16] [--VERSION VERSION]\n",
      "                             [--AUGMENTATION AUGMENTATION]\n",
      "                             [--HORIZONTAL_FLIP HORIZONTAL_FLIP]\n",
      "                             [--VERTICAL_FLIP VERTICAL_FLIP]\n",
      "                             [--ERASING_MAX_PROB ERASING_MAX_PROB]\n",
      "                             [--ERASING_MAX_RATIO ERASING_MAX_RATIO]\n",
      "                             [--COLORJITTER_PROB COLORJITTER_PROB]\n",
      "                             [--COLORJITTER_BRIGHTNESS COLORJITTER_BRIGHTNESS]\n",
      "                             [--COLORJITTER_CONTRAST COLORJITTER_CONTRAST]\n",
      "                             [--COLORJITTER_SATURATION COLORJITTER_SATURATION]\n",
      "                             [--COLORJITTER_HUE COLORJITTER_HUE]\n",
      "                             [--ROTATION_PROB ROTATION_PROB]\n",
      "                             [--ROTATION_DEGREES ROTATION_DEGREES]\n",
      "                             [--SHARPNESS_PROB SHARPNESS_PROB]\n",
      "                             [--SHARPNESS_VALUE SHARPNESS_VALUE]\n",
      "                             [--MOTIONBLUR_PROB MOTIONBLUR_PROB]\n",
      "                             [--MOTIONBLUR_KERNEL_SIZE MOTIONBLUR_KERNEL_SIZE]\n",
      "                             [--MOTIONBLUR_KERNEL_ANGLE MOTIONBLUR_KERNEL_ANGLE]\n",
      "                             [--MOTIONBLUR_KERNEL_DIRECTION MOTIONBLUR_KERNEL_DIRECTION]\n",
      "ipykernel_launcher.py: error: unrecognized arguments: -f /home/edmans/.local/share/jupyter/runtime/kernel-7e9b85f2-0256-4e75-8520-3eb533daf628.json\n"
     ]
    },
    {
     "ename": "SystemExit",
     "evalue": "2",
     "output_type": "error",
     "traceback": [
      "An exception has occurred, use %tb to see the full traceback.\n",
      "\u001b[0;31mSystemExit\u001b[0m\u001b[0;31m:\u001b[0m 2\n"
     ]
    },
    {
     "name": "stderr",
     "output_type": "stream",
     "text": [
      "/home/edmans/anaconda3/envs/schneider22/lib/python3.10/site-packages/IPython/core/interactiveshell.py:3561: UserWarning: To exit: use 'exit', 'quit', or Ctrl-D.\n",
      "  warn(\"To exit: use 'exit', 'quit', or Ctrl-D.\", stacklevel=1)\n"
     ]
    }
   ],
   "source": [
    "COMMAND = 'CONSOLE'\n",
    "# VERSION = \"01002\"\n",
    "# COMMAND = 'BASIC'\n",
    "\n",
    "if COMMAND=='BASIC':\n",
    "    cmdline = \"--OUTPUT_DIR results/BASIC_MODEL_008_HORIZONTAL_FLIP/\"\n",
    "    cmdline += \" --VERBOSE 0 --BACKBONE tf_efficientnet_b3_ns --GPU_DEVICE cuda:0\"\n",
    "    cmdline += \" --NUM_EPOCHS 50 --BATCH_SIZE 16 --LR 0.00001 --NUM_FOLDS 3 --RUN_FOLDS 3\"\n",
    "    cmdline += \" --AUGMENTATION True --HORIZONTAL_FLIP 0.50\" #--COLORJITTER_PROB 0.50 --COLORJITTER_BRIGHTNESS 0.05\"\n",
    "    cmdline += \" --INCLUDE_TEST False --TARGET_DIR_PREDS None\"\n",
    "#     cmdline += \" --INCLUDE_TEST True --TARGET_DIR_PREDS results/BASIC_MODEL/\"\n",
    "    cmdline = cmdline.split(' ')\n",
    "\n",
    "if COMMAND=='CONSOLE':\n",
    "    cmdline = sys.argv[1:]   # Read from console\n",
    "\n",
    "arg_in = parser.parse_args(cmdline)\n",
    "str_todos = ' '.join(str(arg_in).split(' '))\n",
    "# str_todos = str_todos.replace(',','__')\n",
    "# str_todos = str_todos.replace('Namespace(','')\n",
    "# str_todos = str_todos.replace(')','')\n",
    "# str_todos = str_todos.replace('=','_')\n",
    "# str_todos = str_todos.replace('.','_')\n",
    "# str_todos = str_todos.replace(\"'\",\"\")\n",
    "# str_todos = str_todos.replace('\\\\r','')\n",
    "print(str_todos)"
   ]
  },
  {
   "cell_type": "code",
   "execution_count": null,
   "id": "adc0fc8a",
   "metadata": {
    "ExecuteTime": {
     "end_time": "2022-11-18T09:46:26.370878Z",
     "start_time": "2022-11-18T09:46:26.370871Z"
    }
   },
   "outputs": [],
   "source": [
    "# Convert to boolean\n",
    "arg_in.INCLUDE_TEST = True if arg_in.INCLUDE_TEST=='True' else False\n",
    "arg_in.TRAIN_MODEL = True if arg_in.TRAIN_MODEL=='True' else False\n",
    "arg_in.AUGMENTATION = True if arg_in.AUGMENTATION=='True' else False\n",
    "arg_in.USA_FP16 = True if arg_in.USA_FP16=='True' else False\n",
    "arg_in.CREATE_SUBMISSION = True if arg_in.CREATE_SUBMISSION=='True' else False"
   ]
  },
  {
   "cell_type": "markdown",
   "id": "c3b436d9",
   "metadata": {},
   "source": [
    "# Config"
   ]
  },
  {
   "cell_type": "code",
   "execution_count": null,
   "id": "e34a5b01",
   "metadata": {
    "ExecuteTime": {
     "end_time": "2022-11-18T09:46:26.371581Z",
     "start_time": "2022-11-18T09:46:26.371574Z"
    },
    "scrolled": true
   },
   "outputs": [],
   "source": [
    "# [i for i in timm.list_models(pretrained=True) if 'efficient' in i]"
   ]
  },
  {
   "cell_type": "code",
   "execution_count": null,
   "id": "1c8a8c2f",
   "metadata": {
    "ExecuteTime": {
     "end_time": "2022-11-18T09:46:26.372726Z",
     "start_time": "2022-11-18T09:46:26.372718Z"
    }
   },
   "outputs": [],
   "source": [
    "# os.environ['CUDA_VISIBLE_DEVICES'] = \"0\"\n",
    "# torch.cuda.is_available()"
   ]
  },
  {
   "cell_type": "code",
   "execution_count": null,
   "id": "84b2a68c",
   "metadata": {
    "ExecuteTime": {
     "end_time": "2022-11-18T09:46:26.373472Z",
     "start_time": "2022-11-18T09:46:26.373466Z"
    }
   },
   "outputs": [],
   "source": [
    "OUTPUT_DIR = arg_in.OUTPUT_DIR\n",
    "GPU_DEVICE = arg_in.GPU_DEVICE\n",
    "VERSION = arg_in.VERSION\n",
    "\n",
    "BACKBONE = arg_in.BACKBONE\n",
    "AUGMENTATION = arg_in.AUGMENTATION\n",
    "HORIZONTAL_FLIP = arg_in.HORIZONTAL_FLIP\n",
    "VERTICAL_FLIP = arg_in.VERTICAL_FLIP\n",
    "ERASING_MAX_PROB = arg_in.ERASING_MAX_PROB\n",
    "ERASING_MAX_RATIO = arg_in.ERASING_MAX_RATIO\n",
    "\n",
    "COLORJITTER_PROB = arg_in.COLORJITTER_PROB\n",
    "COLORJITTER_BRIGHTNESS = arg_in.COLORJITTER_BRIGHTNESS\n",
    "COLORJITTER_CONTRAST = arg_in.COLORJITTER_CONTRAST\n",
    "COLORJITTER_SATURATION = arg_in.COLORJITTER_SATURATION\n",
    "COLORJITTER_HUE = arg_in.COLORJITTER_HUE\n",
    "\n",
    "ROTATION_PROB = arg_in.ROTATION_PROB\n",
    "ROTATION_DEGREES = arg_in.ROTATION_DEGREES\n",
    "\n",
    "SHARPNESS_PROB = arg_in.SHARPNESS_PROB\n",
    "SHARPNESS_VALUE = arg_in.SHARPNESS_VALUE\n",
    "\n",
    "MOTIONBLUR_PROB = arg_in.MOTIONBLUR_PROB\n",
    "MOTIONBLUR_KERNEL_SIZE = arg_in.MOTIONBLUR_KERNEL_SIZE\n",
    "MOTIONBLUR_KERNEL_ANGLE = arg_in.MOTIONBLUR_KERNEL_ANGLE\n",
    "MOTIONBLUR_KERNEL_DIRECTION= arg_in.MOTIONBLUR_KERNEL_DIRECTION\n",
    "\n",
    "# Train parameters\n",
    "NUM_FOLDS = arg_in.NUM_FOLDS\n",
    "RUN_FOLDS = arg_in.RUN_FOLDS\n",
    "CREATE_SUBMISSION = arg_in.CREATE_SUBMISSION\n",
    "PREVIOUS_MODEL = arg_in.PREVIOUS_MODEL\n",
    "SEED = arg_in.SEED\n",
    "\n",
    "TRAIN_MODEL = arg_in.TRAIN_MODEL\n",
    "INCLUDE_TEST = arg_in.INCLUDE_TEST\n",
    "MIN_THR_TEST = arg_in.MIN_THR_TEST\n",
    "TARGET_DIR_PREDS = arg_in.TARGET_DIR_PREDS\n",
    "USA_FP16 = arg_in.USA_FP16\n",
    "NUM_CLASSES = 3\n",
    "device = (GPU_DEVICE if torch.cuda.is_available() else 'cpu')\n",
    "device"
   ]
  },
  {
   "cell_type": "code",
   "execution_count": null,
   "id": "8bb2d2d2",
   "metadata": {
    "ExecuteTime": {
     "end_time": "2022-11-18T09:46:26.374823Z",
     "start_time": "2022-11-18T09:46:26.374814Z"
    }
   },
   "outputs": [],
   "source": [
    "# Training parameters\n",
    "BATCH_TRAIN = arg_in.BATCH_SIZE #16\n",
    "NUM_WORKERS = arg_in.NUM_WORKERS #4\n",
    "BATCH_VALID = BATCH_TRAIN\n",
    "BATCH_TEST = BATCH_TRAIN\n",
    "\n",
    "# --------------------------------------\n",
    "# Define 'CosineAnnealingWarmUpRestarts' parameters\n",
    "LR = arg_in.LR #1e-5 #Learning rate\n",
    "T_MULT = 1 # Multiplier factor of next cycle\n",
    "ETA_MAX = 0.001  #0.002 0.001 # Maximum value of LR\n",
    "EPOCHS_UP = 5 # Epochs up cicle  EPOCHS_CYCLE//4\n",
    "NUM_EPOCHS = arg_in.NUM_EPOCHS #40 # Max epochs\n",
    "EPOCHS_CYCLE = NUM_EPOCHS # Epochs in a complete cycle  EPOCHS//(1+T_MULT+(T_MULT*T_MULT))\n",
    "\n",
    "SAMPLES_BY_CLASS = arg_in.SAMPLES_BY_CLASS #64\n",
    "ITERS_EPOCH = int(SAMPLES_BY_CLASS * NUM_CLASSES // BATCH_TRAIN) #*(NUM_FOLDS-1) // (BATCH_TRAIN*(NUM_FOLDS)) #Calcula los iters por epoch\n",
    "print('ITERS_EPOCH=', ITERS_EPOCH, 'EPOCHS_UP=', EPOCHS_UP, 'NUM_EPOCHS=', NUM_EPOCHS)\n",
    "GAMMA = 0.90 # Reduction factor in each cycle\n",
    "# -------------------------------------\n",
    "EARLY_STOP = 9999 # Early stop"
   ]
  },
  {
   "cell_type": "markdown",
   "id": "5424102a",
   "metadata": {},
   "source": [
    "# Utils"
   ]
  },
  {
   "cell_type": "code",
   "execution_count": null,
   "id": "1151b185",
   "metadata": {
    "ExecuteTime": {
     "end_time": "2022-11-18T09:46:26.375488Z",
     "start_time": "2022-11-18T09:46:26.375481Z"
    }
   },
   "outputs": [],
   "source": [
    "def seed_everything(seed):\n",
    "    random.seed(seed)\n",
    "    os.environ['PYTHONHASHSEED'] = str(seed)\n",
    "    np.random.seed(seed)\n",
    "    torch.manual_seed(seed)\n",
    "    torch.cuda.manual_seed(seed)\n",
    "    torch.cuda.manual_seed_all(seed)\n",
    "    torch.backends.cudnn.deterministic = True\n",
    "    torch.backends.cudnn.benchmark = False\n",
    "    \n",
    "def mean_auc(y_true, y_pred):\n",
    "    auc_mean = []\n",
    "    for ncol in range(y_true.shape[1]):\n",
    "        if np.sum(y_true[:,ncol])>0:\n",
    "            auc_mean.append(roc_auc_score(y_true[:,ncol], y_pred[:, ncol]))\n",
    "    return np.mean(auc_mean)"
   ]
  },
  {
   "cell_type": "code",
   "execution_count": null,
   "id": "f7f0b816",
   "metadata": {
    "ExecuteTime": {
     "end_time": "2022-11-18T09:46:26.376832Z",
     "start_time": "2022-11-18T09:46:26.376826Z"
    }
   },
   "outputs": [],
   "source": [
    "# https://pytorch.org/vision/main/auto_examples/plot_visualization_utils.html\n",
    "plt.rcParams[\"savefig.bbox\"] = 'tight'\n",
    "\n",
    "def show(imgs):\n",
    "    if not isinstance(imgs, list):\n",
    "        imgs = [imgs]\n",
    "    fig, axs = plt.subplots(ncols=len(imgs), figsize=(15,10), squeeze=False)\n",
    "    for i, img in enumerate(imgs):\n",
    "        img = img.detach()\n",
    "        img = transforms.functional.to_pil_image(img)\n",
    "        axs[0, i].imshow(np.asarray(img))\n",
    "        axs[0, i].set(xticklabels=[], yticklabels=[], xticks=[], yticks=[])"
   ]
  },
  {
   "cell_type": "code",
   "execution_count": null,
   "id": "ba73fe15",
   "metadata": {
    "ExecuteTime": {
     "end_time": "2022-11-18T09:46:26.378052Z",
     "start_time": "2022-11-18T09:46:26.378043Z"
    }
   },
   "outputs": [],
   "source": [
    "# Use from jupyter notebook notebook\n",
    "from notebook import notebookapp\n",
    "import urllib\n",
    "import json\n",
    "import ipykernel\n",
    "from pathlib import Path\n",
    "\n",
    "def notebook_path():\n",
    "    \"\"\"Returns the absolute path of the Notebook or None if it cannot be determined\n",
    "    NOTE: works only when the security is token-based or there is also no password\n",
    "    \"\"\"\n",
    "    connection_file = os.path.basename(ipykernel.get_connection_file())\n",
    "    kernel_id = connection_file.split('-', 1)[1].split('.')[0]\n",
    "\n",
    "    for srv in notebookapp.list_running_servers():\n",
    "        try:\n",
    "            if srv['token']=='' and not srv['password']:  # No token and no password, ahem...\n",
    "                req = urllib.request.urlopen(srv['url']+'api/sessions')\n",
    "            else:\n",
    "                req = urllib.request.urlopen(srv['url']+'api/sessions?token='+srv['token'])\n",
    "            sessions = json.load(req)\n",
    "            for sess in sessions:\n",
    "                if sess['kernel']['id'] == kernel_id:\n",
    "                    return os.path.join(srv['notebook_dir'],sess['notebook']['path'])\n",
    "        except:\n",
    "            pass  # There may be stale entries in the runtime directory \n",
    "    return None\n",
    "\n",
    "def create_output_dir(display = True, create=True, dirbase = '../results'):\n",
    "    base_dir = Path(dirbase)\n",
    "    if not os.path.exists(base_dir) and create:\n",
    "        os.mkdir(base_dir)\n",
    "    currentNotebook = notebook_path().split('/')\n",
    "    currentNotebook = currentNotebook[-1]\n",
    "    dir_models = currentNotebook[:-6]\n",
    "    dir_models = dir_models.replace('.','_')\n",
    "    output_dir = base_dir / Path(dir_models) #settings[\"globals\"][\"output_dir\"])\n",
    "\n",
    "    if not os.path.exists(output_dir) and create:\n",
    "        os.mkdir(output_dir)\n",
    "        if display:\n",
    "            print(\"Directory \" , output_dir ,  \" Created \")\n",
    "    elif display:\n",
    "        print(\"Directory \" , output_dir ,  \" already exists\")\n",
    "    return output_dir"
   ]
  },
  {
   "cell_type": "code",
   "execution_count": 47,
   "id": "ec0def7b",
   "metadata": {
    "ExecuteTime": {
     "end_time": "2022-11-18T09:46:26.386135Z",
     "start_time": "2022-11-18T09:46:26.380120Z"
    }
   },
   "outputs": [],
   "source": [
    "import math\n",
    "from torch.optim.lr_scheduler import _LRScheduler\n",
    "class CosineAnnealingWarmUpRestarts(_LRScheduler):\n",
    "    def __init__(self, optimizer, T_0, T_mult=1, eta_max=0.1, T_up=0, gamma=1., last_epoch=-1):\n",
    "        if T_0 <= 0 or not isinstance(T_0, int):\n",
    "            raise ValueError(\"Expected positive integer T_0, but got {}\".format(T_0))\n",
    "        if T_mult < 1 or not isinstance(T_mult, int):\n",
    "            raise ValueError(\"Expected integer T_mult >= 1, but got {}\".format(T_mult))\n",
    "        if T_up < 0 or not isinstance(T_up, int):\n",
    "            raise ValueError(\"Expected positive integer T_up, but got {}\".format(T_up))\n",
    "        self.T_0 = T_0\n",
    "        self.T_mult = T_mult\n",
    "        self.base_eta_max = eta_max\n",
    "        self.eta_max = eta_max\n",
    "        self.T_up = T_up\n",
    "        self.T_i = T_0\n",
    "        self.gamma = gamma\n",
    "        self.cycle = 0\n",
    "        self.T_cur = last_epoch\n",
    "        super(CosineAnnealingWarmUpRestarts, self).__init__(optimizer, last_epoch)\n",
    "\n",
    "    \n",
    "    def get_lr(self):\n",
    "        if self.T_cur == -1:\n",
    "            return self.base_lrs\n",
    "        elif self.T_cur < self.T_up:\n",
    "            return [(self.eta_max - base_lr)*self.T_cur / self.T_up + base_lr for base_lr in self.base_lrs]\n",
    "        else:\n",
    "            return [base_lr + (self.eta_max - base_lr) * (1 + math.cos(math.pi * (self.T_cur-self.T_up) / (self.T_i - self.T_up))) / 2\n",
    "                    for base_lr in self.base_lrs]\n",
    "\n",
    "    def step(self, epoch=None):\n",
    "        if epoch is None:\n",
    "            epoch = self.last_epoch + 1\n",
    "            self.T_cur = self.T_cur + 1\n",
    "            if self.T_cur >= self.T_i:\n",
    "                self.cycle += 1\n",
    "                self.T_cur = self.T_cur - self.T_i\n",
    "                self.T_i = (self.T_i - self.T_up) * self.T_mult + self.T_up\n",
    "        else:\n",
    "            if epoch >= self.T_0:\n",
    "                if self.T_mult == 1:\n",
    "                    self.T_cur = epoch % self.T_0\n",
    "                    self.cycle = epoch // self.T_0\n",
    "                else:\n",
    "                    n = int(math.log((epoch / self.T_0 * (self.T_mult - 1) + 1), self.T_mult))\n",
    "                    self.cycle = n\n",
    "                    self.T_cur = epoch - self.T_0 * (self.T_mult ** n - 1) / (self.T_mult - 1)\n",
    "                    self.T_i = self.T_0 * self.T_mult ** (n)\n",
    "            else:\n",
    "                self.T_i = self.T_0\n",
    "                self.T_cur = epoch\n",
    "                \n",
    "        self.eta_max = self.base_eta_max * (self.gamma**self.cycle)\n",
    "        self.last_epoch = math.floor(epoch)\n",
    "        for param_group, lr in zip(self.optimizer.param_groups, self.get_lr()):\n",
    "            param_group['lr'] = lr"
   ]
  },
  {
   "cell_type": "markdown",
   "id": "9b983f33",
   "metadata": {},
   "source": [
    "# Create DataSet"
   ]
  },
  {
   "cell_type": "code",
   "execution_count": 48,
   "id": "48f32774",
   "metadata": {
    "ExecuteTime": {
     "end_time": "2022-11-18T09:46:26.398421Z",
     "start_time": "2022-11-18T09:46:26.387493Z"
    }
   },
   "outputs": [
    {
     "ename": "NameError",
     "evalue": "name 'OUTPUT_DIR' is not defined",
     "output_type": "error",
     "traceback": [
      "\u001b[0;31m---------------------------------------------------------------------------\u001b[0m",
      "\u001b[0;31mNameError\u001b[0m                                 Traceback (most recent call last)",
      "\u001b[0;32m/tmp/ipykernel_4338/3791577364.py\u001b[0m in \u001b[0;36m<cell line: 2>\u001b[0;34m()\u001b[0m\n\u001b[1;32m      1\u001b[0m \u001b[0;31m# Create Directory\u001b[0m\u001b[0;34m\u001b[0m\u001b[0;34m\u001b[0m\u001b[0m\n\u001b[0;32m----> 2\u001b[0;31m \u001b[0;32mif\u001b[0m \u001b[0mOUTPUT_DIR\u001b[0m \u001b[0;34m==\u001b[0m \u001b[0;34m'None'\u001b[0m\u001b[0;34m:\u001b[0m\u001b[0;34m\u001b[0m\u001b[0;34m\u001b[0m\u001b[0m\n\u001b[0m\u001b[1;32m      3\u001b[0m     \u001b[0moutput_dir\u001b[0m \u001b[0;34m=\u001b[0m \u001b[0mcreate_output_dir\u001b[0m\u001b[0;34m(\u001b[0m\u001b[0mdisplay\u001b[0m\u001b[0;34m=\u001b[0m\u001b[0;32mTrue\u001b[0m\u001b[0;34m,\u001b[0m \u001b[0mcreate\u001b[0m\u001b[0;34m=\u001b[0m\u001b[0;32mTrue\u001b[0m\u001b[0;34m,\u001b[0m \u001b[0mdirbase\u001b[0m \u001b[0;34m=\u001b[0m \u001b[0;34m'results/'\u001b[0m\u001b[0;34m)\u001b[0m\u001b[0;34m\u001b[0m\u001b[0;34m\u001b[0m\u001b[0m\n\u001b[1;32m      4\u001b[0m \u001b[0;32melse\u001b[0m\u001b[0;34m:\u001b[0m\u001b[0;34m\u001b[0m\u001b[0;34m\u001b[0m\u001b[0m\n\u001b[1;32m      5\u001b[0m     \u001b[0moutput_dir\u001b[0m \u001b[0;34m=\u001b[0m \u001b[0mPath\u001b[0m\u001b[0;34m(\u001b[0m\u001b[0mOUTPUT_DIR\u001b[0m\u001b[0;34m)\u001b[0m\u001b[0;34m\u001b[0m\u001b[0;34m\u001b[0m\u001b[0m\n",
      "\u001b[0;31mNameError\u001b[0m: name 'OUTPUT_DIR' is not defined"
     ]
    }
   ],
   "source": [
    "# Create Directory\n",
    "if OUTPUT_DIR == 'None':\n",
    "    output_dir = create_output_dir(display=True, create=True, dirbase = 'results/')\n",
    "else:\n",
    "    output_dir = Path(OUTPUT_DIR)\n",
    "\n",
    "if not os.path.exists(output_dir):\n",
    "    if not os.path.exists('results'):\n",
    "        os.mkdir('results')\n",
    "    os.mkdir(output_dir)\n",
    "    print(\"Directory \" , output_dir ,  \" Created \")"
   ]
  },
  {
   "cell_type": "code",
   "execution_count": null,
   "id": "98120851",
   "metadata": {
    "ExecuteTime": {
     "end_time": "2022-11-18T09:46:26.399799Z",
     "start_time": "2022-11-18T09:46:26.399792Z"
    }
   },
   "outputs": [],
   "source": [
    "train_df = pd.read_csv('train.csv')\n",
    "test_df = pd.read_csv('test.csv')\n",
    "len_train_df = len(train_df)\n",
    "train_df.label.unique()"
   ]
  },
  {
   "cell_type": "markdown",
   "id": "c660cf6c",
   "metadata": {},
   "source": [
    "## Folds in Train"
   ]
  },
  {
   "cell_type": "code",
   "execution_count": null,
   "id": "cb04eb8b",
   "metadata": {
    "ExecuteTime": {
     "end_time": "2022-11-18T09:46:26.400866Z",
     "start_time": "2022-11-18T09:46:26.400858Z"
    }
   },
   "outputs": [],
   "source": [
    "seed_everything(SEED)\n",
    "kfold = StratifiedKFold(n_splits=NUM_FOLDS, shuffle=True, random_state=SEED)\n",
    "train_df['kfold'] = -1\n",
    "for fold, (t_idx, v_idx) in enumerate(kfold.split(train_df, y=train_df.label)):\n",
    "    train_df.loc[v_idx, \"kfold\"] = fold\n",
    "train_df.head()\n",
    "\n",
    "for fold in range(NUM_FOLDS):\n",
    "    print('\\FOLD DISTRIBUTION:',fold, list(train_df[train_df.kfold==fold]['label'].value_counts()))"
   ]
  },
  {
   "cell_type": "code",
   "execution_count": null,
   "id": "f4559ab5",
   "metadata": {
    "ExecuteTime": {
     "end_time": "2022-11-18T09:46:26.401538Z",
     "start_time": "2022-11-18T09:46:26.401531Z"
    }
   },
   "outputs": [],
   "source": [
    "train_df.head(), test_df.head()"
   ]
  },
  {
   "cell_type": "code",
   "execution_count": null,
   "id": "9c8c8e25",
   "metadata": {
    "ExecuteTime": {
     "end_time": "2022-11-18T09:46:26.402867Z",
     "start_time": "2022-11-18T09:46:26.402858Z"
    }
   },
   "outputs": [],
   "source": [
    "print(train_df.shape, test_df.shape)"
   ]
  },
  {
   "cell_type": "code",
   "execution_count": null,
   "id": "e0ceec2d-8575-411b-9b84-7b2e1b773663",
   "metadata": {
    "ExecuteTime": {
     "end_time": "2022-11-18T09:46:26.404004Z",
     "start_time": "2022-11-18T09:46:26.403995Z"
    }
   },
   "outputs": [],
   "source": [
    "train_df['label'].value_counts()"
   ]
  },
  {
   "cell_type": "markdown",
   "id": "f8c3133f",
   "metadata": {
    "ExecuteTime": {
     "end_time": "2022-11-15T11:44:38.336552Z",
     "start_time": "2022-11-15T11:44:38.331962Z"
    }
   },
   "source": [
    "## Include Test for PseudoLabelling"
   ]
  },
  {
   "cell_type": "code",
   "execution_count": 49,
   "id": "740bf5ff",
   "metadata": {
    "ExecuteTime": {
     "end_time": "2022-11-18T09:46:26.415449Z",
     "start_time": "2022-11-18T09:46:26.408305Z"
    }
   },
   "outputs": [
    {
     "ename": "NameError",
     "evalue": "name 'INCLUDE_TEST' is not defined",
     "output_type": "error",
     "traceback": [
      "\u001b[0;31m---------------------------------------------------------------------------\u001b[0m",
      "\u001b[0;31mNameError\u001b[0m                                 Traceback (most recent call last)",
      "\u001b[0;32m/tmp/ipykernel_4338/3192516359.py\u001b[0m in \u001b[0;36m<cell line: 1>\u001b[0;34m()\u001b[0m\n\u001b[0;32m----> 1\u001b[0;31m \u001b[0;32mif\u001b[0m \u001b[0mINCLUDE_TEST\u001b[0m\u001b[0;34m:\u001b[0m\u001b[0;34m\u001b[0m\u001b[0;34m\u001b[0m\u001b[0m\n\u001b[0m\u001b[1;32m      2\u001b[0m     \u001b[0mprint\u001b[0m\u001b[0;34m(\u001b[0m\u001b[0;34mf'Training with train+test datasets using {TARGET_DIR_PREDS} predictions.'\u001b[0m\u001b[0;34m)\u001b[0m\u001b[0;34m\u001b[0m\u001b[0;34m\u001b[0m\u001b[0m\n\u001b[1;32m      3\u001b[0m     \u001b[0mtest_df_tmp\u001b[0m \u001b[0;34m=\u001b[0m \u001b[0mtest_df\u001b[0m\u001b[0;34m.\u001b[0m\u001b[0mcopy\u001b[0m\u001b[0;34m(\u001b[0m\u001b[0;34m)\u001b[0m\u001b[0;34m\u001b[0m\u001b[0;34m\u001b[0m\u001b[0m\n\u001b[1;32m      4\u001b[0m \u001b[0;34m\u001b[0m\u001b[0m\n\u001b[1;32m      5\u001b[0m     \u001b[0;32mwith\u001b[0m \u001b[0mopen\u001b[0m\u001b[0;34m(\u001b[0m\u001b[0mPath\u001b[0m\u001b[0;34m(\u001b[0m\u001b[0mTARGET_DIR_PREDS\u001b[0m\u001b[0;34m)\u001b[0m \u001b[0;34m/\u001b[0m \u001b[0;34mf'preds_test.pkl'\u001b[0m\u001b[0;34m,\u001b[0m \u001b[0;34m'rb'\u001b[0m\u001b[0;34m)\u001b[0m \u001b[0;32mas\u001b[0m \u001b[0mfile\u001b[0m\u001b[0;34m:\u001b[0m\u001b[0;34m\u001b[0m\u001b[0;34m\u001b[0m\u001b[0m\n",
      "\u001b[0;31mNameError\u001b[0m: name 'INCLUDE_TEST' is not defined"
     ]
    }
   ],
   "source": [
    "if INCLUDE_TEST:\n",
    "    print(f'Training with train+test datasets using {TARGET_DIR_PREDS} predictions.')\n",
    "    test_df_tmp = test_df.copy()\n",
    "    \n",
    "    with open(Path(TARGET_DIR_PREDS) / f'preds_test.pkl', 'rb') as file:\n",
    "        preds_test = pickle.load(file)\n",
    "    \n",
    "    # Select only rows greather than MIN_THR_TEST\n",
    "    max_in_row = np.max(preds_test, 1)\n",
    "    selec_rows_test = max_in_row > MIN_THR_TEST\n",
    "    test_df_tmp['label'] = np.argmax(preds_test, 1)\n",
    "    test_df_tmp = test_df_tmp.loc[selec_rows_test].reset_index(drop=True)\n",
    "    \n",
    "    # Include kfold columns\n",
    "    seed_everything(SEED)\n",
    "    kfold = StratifiedKFold(n_splits=NUM_FOLDS, shuffle=True, random_state=SEED)\n",
    "    test_df_tmp['kfold'] = -1\n",
    "    for fold, (t_idx, v_idx) in enumerate(kfold.split(test_df_tmp, y=test_df_tmp.label)):\n",
    "        test_df_tmp.loc[v_idx, \"kfold\"] = fold\n",
    "    test_df_tmp = test_df_tmp[train_df.columns].reset_index(drop=True)\n",
    "    train_df = pd.concat([train_df, test_df_tmp]).reset_index(drop=True)\n",
    "\n",
    "print(train_df.shape, test_df.shape)"
   ]
  },
  {
   "cell_type": "markdown",
   "id": "d785bc5c",
   "metadata": {},
   "source": [
    "# Look a Sample"
   ]
  },
  {
   "cell_type": "code",
   "execution_count": null,
   "id": "0d32eb42",
   "metadata": {
    "ExecuteTime": {
     "end_time": "2022-11-18T09:46:26.416543Z",
     "start_time": "2022-11-18T09:46:26.416537Z"
    }
   },
   "outputs": [],
   "source": [
    "if False:\n",
    "    imgs = []\n",
    "    labels = []\n",
    "    for nrow, row in train_df.iloc[:6].iterrows():\n",
    "        img = Image.open(row['example_path'])\n",
    "        img = transforms.PILToTensor()(img)\n",
    "        imgs.append(img)\n",
    "        labels.append(row['label'])\n",
    "    grid = make_grid(imgs, nrow=3)\n",
    "    show(grid)\n",
    "    plt.title(labels)\n",
    "    \n",
    "    imgs = []\n",
    "    for nrow, row in test_df.iloc[:6].iterrows():\n",
    "        img = Image.open(row['example_path'])\n",
    "        img = transforms.PILToTensor()(img)\n",
    "        imgs.append(img)\n",
    "    grid = make_grid(imgs, nrow=3)\n",
    "    show(grid)"
   ]
  },
  {
   "cell_type": "markdown",
   "id": "1a5e1640",
   "metadata": {},
   "source": [
    "# Augmentations"
   ]
  },
  {
   "cell_type": "code",
   "execution_count": null,
   "id": "ffbf48e4",
   "metadata": {
    "ExecuteTime": {
     "end_time": "2022-11-18T09:46:26.417410Z",
     "start_time": "2022-11-18T09:46:26.417404Z"
    }
   },
   "outputs": [],
   "source": [
    "# See: https://kornia.readthedocs.io/en/v0.4.1/augmentation.html#module-api\n",
    "def augment_imgs(imgs):\n",
    "    if HORIZONTAL_FLIP>0.0:\n",
    "        imgs = kornia.augmentation.RandomHorizontalFlip(p=HORIZONTAL_FLIP)(imgs)\n",
    "    if VERTICAL_FLIP>0.0:\n",
    "        imgs = kornia.augmentation.RandomVerticalFlip(p=VERTICAL_FLIP)(imgs)\n",
    "    if ERASING_MAX_PROB>0.0:\n",
    "        imgs = kornia.augmentation.RandomErasing(ratio=(0.02, ERASING_MAX_RATIO), p=ERASING_MAX_PROB)(imgs)\n",
    "    if COLORJITTER_PROB>0.0:\n",
    "        imgs = kornia.augmentation.ColorJitter(brightness=COLORJITTER_BRIGHTNESS,\n",
    "                                            contrast=COLORJITTER_CONTRAST,\n",
    "                                            saturation=COLORJITTER_SATURATION,\n",
    "                                            hue=COLORJITTER_HUE,\n",
    "                                            p=COLORJITTER_PROB)(imgs)\n",
    "    if ROTATION_PROB>0.0:\n",
    "        imgs = kornia.augmentation.RandomRotation(degrees=ROTATION_DEGREES,\n",
    "                                                  p=ROTATION_PROB)(imgs)\n",
    "        \n",
    "    if SHARPNESS_PROB>0.0:\n",
    "        imgs = kornia.augmentation.RandomSharpness(sharpness=SHARPNESS_VALUE,\n",
    "                                                  p=SHARPNESS_PROB)(imgs)\n",
    "        \n",
    "    if MOTIONBLUR_PROB>0.0:\n",
    "        imgs = kornia.augmentation.RandomMotionBlur(kernel_size=MOTIONBLUR_KERNEL_SIZE,\n",
    "                                                    angle=MOTIONBLUR_KERNEL_ANGLE,\n",
    "                                                    direction=MOTIONBLUR_KERNEL_DIRECTION,\n",
    "                                                    p=MOTIONBLUR_PROB)(imgs)\n",
    "    return imgs"
   ]
  },
  {
   "cell_type": "markdown",
   "id": "3a60a007",
   "metadata": {},
   "source": [
    "# DataLoaders"
   ]
  },
  {
   "cell_type": "code",
   "execution_count": 50,
   "id": "5aef4bfa",
   "metadata": {
    "ExecuteTime": {
     "end_time": "2022-11-18T09:46:26.422996Z",
     "start_time": "2022-11-18T09:46:26.419590Z"
    }
   },
   "outputs": [],
   "source": [
    "class ImgDataset:\n",
    "    def __init__(self, df, transforms=None, mode=\"train\"):\n",
    "        self.mode = mode\n",
    "        self.df = df\n",
    "        \n",
    "    def __len__(self):\n",
    "        return len(self.df)\n",
    "    \n",
    "    def __getitem__(self, idx):\n",
    "        record = self.df.iloc[idx]\n",
    "        filename = record['example_path']\n",
    "#         img = Image.open(filename)\n",
    "#         img = transforms.PILToTensor()(img)\n",
    "        img = cv2.imread(filename)\n",
    "        img = kornia.image_to_tensor(img)\n",
    "        img = kornia.color.bgr_to_rgb(img)\n",
    "        img = img.type(torch.DoubleTensor) / 255.\n",
    "        labels = np.zeros(3)\n",
    "        if self.mode=='train' or self.mode=='valid':\n",
    "            labels[record['label']] = 1.0\n",
    "        return {\"img\" : img, \"labels\" : labels, 'filename' : filename}\n",
    "    \n",
    "# # Test Visualize img and labels\n",
    "# # -----------------------------------\n",
    "# seed_everything(1234)\n",
    "# trainset = ImgDataset(df = train_df.iloc[:8], mode=\"train\")\n",
    "# train_loader = DataLoader(trainset, batch_size=4, shuffle=True, drop_last=True, num_workers=0)\n",
    "# for input_dl in tqdm(train_loader):\n",
    "#     if True:\n",
    "#         input_dl['img'] = transform_kornia(input_dl['img'].to(device))\n",
    "# #     print(input_dl['img'].shape)\n",
    "# #     print(input_dl['labels'].cpu().numpy()[0])\n",
    "    \n",
    "#     fig, ax = plt.subplots(1,2,figsize=(20,10))\n",
    "#     img0 = kornia.tensor_to_image(input_dl['img'][0])\n",
    "#     img1 = kornia.tensor_to_image(input_dl['img'][1])\n",
    "#     ax[0].imshow(img0)\n",
    "#     ax[0].axis('off')    \n",
    "#     ax[0].set_title('Label=' + str(input_dl['labels'][0].numpy()) + ' Name=' + input_dl['filename'][0].split('/')[-1])\n",
    "#     ax[1].imshow(img1)\n",
    "#     ax[1].axis('off')\n",
    "#     ax[1].set_title('Label=' + str(input_dl['labels'][1].numpy()) + ' Name=' + input_dl['filename'][1].split('/')[-1])\n",
    "#     plt.show()"
   ]
  },
  {
   "cell_type": "markdown",
   "id": "a219cd1d",
   "metadata": {},
   "source": [
    "# Model"
   ]
  },
  {
   "cell_type": "code",
   "execution_count": 51,
   "id": "333915ba",
   "metadata": {
    "ExecuteTime": {
     "end_time": "2022-11-18T09:46:26.429663Z",
     "start_time": "2022-11-18T09:46:26.424385Z"
    }
   },
   "outputs": [],
   "source": [
    "def Model():\n",
    "    model = timm.create_model(BACKBONE, pretrained=True, num_classes=NUM_CLASSES, in_chans=3)\n",
    "    return model"
   ]
  },
  {
   "cell_type": "markdown",
   "id": "ac96e504",
   "metadata": {},
   "source": [
    "# Train/Val Funs"
   ]
  },
  {
   "cell_type": "code",
   "execution_count": 52,
   "id": "f44e4eea",
   "metadata": {
    "ExecuteTime": {
     "end_time": "2022-11-18T09:46:26.434480Z",
     "start_time": "2022-11-18T09:46:26.431124Z"
    }
   },
   "outputs": [],
   "source": [
    "class AverageMeter(object):\n",
    "    \"\"\"Computes and stores the average and current value\"\"\"\n",
    "\n",
    "    def __init__(self):\n",
    "        self.reset()\n",
    "\n",
    "    def reset(self):\n",
    "        self.val = 0\n",
    "        self.avg = 0\n",
    "        self.sum = 0\n",
    "        self.count = 0\n",
    "\n",
    "    def update(self, val, n=1):\n",
    "        self.val = val\n",
    "        self.sum += val * n\n",
    "        self.count += n\n",
    "        self.avg = self.sum / self.count"
   ]
  },
  {
   "cell_type": "code",
   "execution_count": 53,
   "id": "e17c0c79",
   "metadata": {
    "ExecuteTime": {
     "end_time": "2022-11-18T09:46:26.442196Z",
     "start_time": "2022-11-18T09:46:26.435747Z"
    }
   },
   "outputs": [],
   "source": [
    "# For training\n",
    "def train_epoch(model, loader, criterion, optimizer, scheduler, epoch):\n",
    "    model.train()\n",
    "    y_true = []\n",
    "    y_pred = []\n",
    "    losses = AverageMeter()\n",
    "    \n",
    "    t = tqdm(loader)\n",
    "    for i, sample in enumerate(t):\n",
    "        optimizer.zero_grad()\n",
    "        input_img = sample['img'].float().to(device)\n",
    "        \n",
    "        if AUGMENTATION:\n",
    "            input_img = augment_imgs(input_img)\n",
    "            \n",
    "        target = sample['labels'].float().to(device)\n",
    "        bs = input_img.size(0)\n",
    "        with torch.cuda.amp.autocast():\n",
    "#             output = model(input)\n",
    "#             loss = criterion(output['logit'], target) #BCEWithLogitLoss\n",
    "\n",
    "            output = model(input_img)\n",
    "            max_label = torch.argmax(target, dim=1)\n",
    "            loss = criterion(output, max_label)   # CrossEntropyLoss\n",
    "\n",
    "        if USA_FP16:\n",
    "            # For FP16\n",
    "            scaler.scale(loss).backward()\n",
    "            scaler.step(optimizer)\n",
    "            scaler.update()\n",
    "        else:\n",
    "            loss.backward()\n",
    "            optimizer.step()\n",
    "\n",
    "        if scheduler:\n",
    "            scheduler.step()\n",
    "        \n",
    "        y_true.append(target.cpu().numpy())\n",
    "        y_pred.append(output.detach().cpu().numpy())\n",
    "        losses.update(loss.item(), bs)\n",
    "        t.set_description(f\"Train E:{epoch} - Loss:{losses.avg:0.4f}\")\n",
    "    t.close()\n",
    "    y_true = np.vstack(y_true)\n",
    "    y_pred = np.vstack(y_pred)\n",
    "    return losses.avg, y_true, y_pred\n",
    "\n",
    "# For validation\n",
    "def valid_epoch(model, loader, criterion, epoch):\n",
    "    model.eval()\n",
    "    y_true = []\n",
    "    y_pred = []\n",
    "    losses = AverageMeter()\n",
    "    with torch.no_grad():\n",
    "        t = tqdm(loader)\n",
    "        for i, sample in enumerate(t):\n",
    "            input_img = sample['img'].float().to(device)\n",
    "            target = sample['labels'].float().to(device)\n",
    "            bs = input_img.size(0)\n",
    "            \n",
    "#             output = model(input)\n",
    "#             loss = criterion(output['logit'], target) #BCEWithLogitLoss\n",
    "            \n",
    "            output = model(input_img)\n",
    "            max_label = torch.argmax(target,dim=1)\n",
    "            loss = criterion(output, max_label)\n",
    "            \n",
    "            y_true.append(target.cpu().numpy())\n",
    "            y_pred.append(output.detach().cpu().numpy())\n",
    "            losses.update(loss.item(), bs)\n",
    "            t.set_description(f\"Valid E:{epoch} - Loss:{losses.avg:0.4f}\")\n",
    "        t.close()\n",
    "    y_true = np.vstack(y_true)\n",
    "    y_pred = np.vstack(y_pred)\n",
    "    return losses.avg, y_true, y_pred"
   ]
  },
  {
   "cell_type": "markdown",
   "id": "5c49a200",
   "metadata": {},
   "source": [
    "# Training"
   ]
  },
  {
   "cell_type": "code",
   "execution_count": 26,
   "id": "fd5d9ead",
   "metadata": {
    "ExecuteTime": {
     "end_time": "2022-11-16T00:07:52.113423Z",
     "start_time": "2022-11-16T00:07:52.108132Z"
    }
   },
   "outputs": [],
   "source": [
    "# # GPU con 8 Gigas\n",
    "# BATCH_TRAIN = 16 #10\n",
    "# NUM_WORKERS = 4\n",
    "# BATCH_VALID = BATCH_TRAIN\n",
    "# BATCH_TEST = BATCH_TRAIN\n",
    "\n",
    "# # --------------------------------------\n",
    "# # Parametros para optimizar con 'CosineAnnealingWarmUpRestarts'\n",
    "# LR = 1e-5 #Learning rate\n",
    "# T_MULT = 1 # Factor multiplicador de  la longitud del siguiente ciclo\n",
    "# ETA_MAX = 0.001  #0.002 0.001 # Valor maximo LR\n",
    "# EPOCHS_UP = 5 # Epochs ciclo de subida  EPOCHS_CYCLE//4\n",
    "# NUM_EPOCHS = 40 # Max epochs\n",
    "# EPOCHS_CYCLE = NUM_EPOCHS #Epochs ciclo completo EPOCHS//(1+T_MULT+(T_MULT*T_MULT))\n",
    "# # Num iters per epoch len of (num_folds-1) trainning DB / BATCH_SIZE\n",
    "\n",
    "# SAMPLES_BY_CLASS = 64\n",
    "# AUGMENTATION = False\n",
    "\n",
    "# ITERS_EPOCH = int(SAMPLES_BY_CLASS * NUM_CLASSES // BATCH_TRAIN) #*(NUM_FOLDS-1) // (BATCH_TRAIN*(NUM_FOLDS)) #Calcula los iters por epoch\n",
    "# # ITERS_EPOCH = int(len(df_para_sed.query('kfold > 2')) // (BATCH_TRAIN)) #Calcula los iters por epoc\n",
    "# print(ITERS_EPOCH, EPOCHS_UP, NUM_EPOCHS)\n",
    "\n",
    "# GAMMA = 0.90 # Factor reductor del maximo de cada ciclo\n",
    "# # -------------------------------------\n",
    "# EARLY_STOP = 9999 # Numero de epochs para si no mejora\n",
    "\n",
    "\n",
    "# output_dir = create_output_dir(display=True, create=True, dirbase = 'resultados')\n",
    "# # output_dir = Path('resultados/0049_model/')\n",
    "# str(output_dir)\n"
   ]
  },
  {
   "cell_type": "code",
   "execution_count": 27,
   "id": "f6520cd6",
   "metadata": {
    "ExecuteTime": {
     "end_time": "2022-11-16T00:22:39.647131Z",
     "start_time": "2022-11-16T00:07:52.115886Z"
    }
   },
   "outputs": [
    {
     "name": "stdout",
     "output_type": "stream",
     "text": [
      "FOLD: 0\n",
      "(1142, 6) (572, 6)\n"
     ]
    },
    {
     "name": "stderr",
     "output_type": "stream",
     "text": [
      "Train E:0 - Loss:1.8015: 100%|██████████████████| 12/12 [00:03<00:00,  3.11it/s]\n",
      "Valid E:0 - Loss:3.0493: 100%|██████████████████| 36/36 [00:03<00:00, 10.39it/s]\n"
     ]
    },
    {
     "name": "stdout",
     "output_type": "stream",
     "text": [
      "########## >>>>>>>> Model Improved From F1-macro=0 ----> loss==0.28823812584696124\n",
      "Fold=00 Epoch=00 TrainLOSS=1.8015\tValidLOSS=3.0493  ValidACC=0.4143  ValidAUC=0.6263\n",
      "\t\t\t f1_micro=0.4143  f1_macro=0.2882  f1_weighted=0.3092\n",
      "BestE=00 min=0.1/0.1\tBest_LOSS=3.0493  Best_ACC=0.4143  Best_AUC=0.6263\n",
      "\t\t\t best_f1_micro=0.4143  best_f1_macro=0.2882  best_f1_weighted=0.3092\n"
     ]
    },
    {
     "name": "stderr",
     "output_type": "stream",
     "text": [
      "Train E:1 - Loss:1.3138: 100%|██████████████████| 12/12 [00:02<00:00,  5.46it/s]\n",
      "Valid E:1 - Loss:2.4446: 100%|██████████████████| 36/36 [00:03<00:00, 10.68it/s]\n"
     ]
    },
    {
     "name": "stdout",
     "output_type": "stream",
     "text": [
      "########## >>>>>>>> Model Improved From F1-macro=0.28823812584696124 ----> loss==0.3295912918254401\n",
      "Fold=00 Epoch=01 TrainLOSS=1.3138\tValidLOSS=2.4446  ValidACC=0.4633  ValidAUC=0.5776\n",
      "\t\t\t f1_micro=0.4633  f1_macro=0.3296  f1_weighted=0.4102\n",
      "BestE=01 min=0.1/0.2\tBest_LOSS=2.4446  Best_ACC=0.4633  Best_AUC=0.5776\n",
      "\t\t\t best_f1_micro=0.4633  best_f1_macro=0.3296  best_f1_weighted=0.4102\n"
     ]
    },
    {
     "name": "stderr",
     "output_type": "stream",
     "text": [
      "Train E:2 - Loss:0.8427: 100%|██████████████████| 12/12 [00:02<00:00,  5.32it/s]\n",
      "Valid E:2 - Loss:2.0331: 100%|██████████████████| 36/36 [00:03<00:00, 10.64it/s]\n"
     ]
    },
    {
     "name": "stdout",
     "output_type": "stream",
     "text": [
      "########## >>>>>>>> Model Improved From F1-macro=0.3295912918254401 ----> loss==0.40625434873800886\n",
      "Fold=00 Epoch=02 TrainLOSS=0.8427\tValidLOSS=2.0331  ValidACC=0.4790  ValidAUC=0.5999\n",
      "\t\t\t f1_micro=0.4790  f1_macro=0.4063  f1_weighted=0.4859\n",
      "BestE=02 min=0.1/0.3\tBest_LOSS=2.0331  Best_ACC=0.4790  Best_AUC=0.5999\n",
      "\t\t\t best_f1_micro=0.4790  best_f1_macro=0.4063  best_f1_weighted=0.4859\n"
     ]
    },
    {
     "name": "stderr",
     "output_type": "stream",
     "text": [
      "Train E:3 - Loss:0.8350: 100%|██████████████████| 12/12 [00:02<00:00,  5.52it/s]\n",
      "Valid E:3 - Loss:1.9450: 100%|██████████████████| 36/36 [00:03<00:00, 10.83it/s]\n"
     ]
    },
    {
     "name": "stdout",
     "output_type": "stream",
     "text": [
      "########## >>>>>>>> Model Improved From F1-macro=0.40625434873800886 ----> loss==0.4488442651637458\n",
      "Fold=00 Epoch=03 TrainLOSS=0.8350\tValidLOSS=1.9450  ValidACC=0.5157  ValidAUC=0.6810\n",
      "\t\t\t f1_micro=0.5157  f1_macro=0.4488  f1_weighted=0.5301\n",
      "BestE=03 min=0.1/0.5\tBest_LOSS=1.9450  Best_ACC=0.5157  Best_AUC=0.6810\n",
      "\t\t\t best_f1_micro=0.5157  best_f1_macro=0.4488  best_f1_weighted=0.5301\n"
     ]
    },
    {
     "name": "stderr",
     "output_type": "stream",
     "text": [
      "Train E:4 - Loss:0.9271: 100%|██████████████████| 12/12 [00:02<00:00,  5.63it/s]\n",
      "Valid E:4 - Loss:1.3794: 100%|██████████████████| 36/36 [00:03<00:00, 10.95it/s]\n"
     ]
    },
    {
     "name": "stdout",
     "output_type": "stream",
     "text": [
      "########## >>>>>>>> Model Improved From F1-macro=0.4488442651637458 ----> loss==0.6141223710094255\n",
      "Fold=00 Epoch=04 TrainLOSS=0.9271\tValidLOSS=1.3794  ValidACC=0.6818  ValidAUC=0.7776\n",
      "\t\t\t f1_micro=0.6818  f1_macro=0.6141  f1_weighted=0.6791\n",
      "BestE=04 min=0.1/0.5\tBest_LOSS=1.3794  Best_ACC=0.6818  Best_AUC=0.7776\n",
      "\t\t\t best_f1_micro=0.6818  best_f1_macro=0.6141  best_f1_weighted=0.6791\n"
     ]
    },
    {
     "name": "stderr",
     "output_type": "stream",
     "text": [
      "Train E:5 - Loss:0.9409: 100%|██████████████████| 12/12 [00:02<00:00,  5.61it/s]\n",
      "Valid E:5 - Loss:1.3268: 100%|██████████████████| 36/36 [00:03<00:00, 10.76it/s]\n"
     ]
    },
    {
     "name": "stdout",
     "output_type": "stream",
     "text": [
      "########## >>>>>>>> Model Improved From F1-macro=0.6141223710094255 ----> loss==0.6344090288786167\n",
      "Fold=00 Epoch=05 TrainLOSS=0.9409\tValidLOSS=1.3268  ValidACC=0.6853  ValidAUC=0.8246\n",
      "\t\t\t f1_micro=0.6853  f1_macro=0.6344  f1_weighted=0.7025\n",
      "BestE=05 min=0.1/0.6\tBest_LOSS=1.3268  Best_ACC=0.6853  Best_AUC=0.8246\n",
      "\t\t\t best_f1_micro=0.6853  best_f1_macro=0.6344  best_f1_weighted=0.7025\n"
     ]
    },
    {
     "name": "stderr",
     "output_type": "stream",
     "text": [
      "Train E:6 - Loss:0.9277: 100%|██████████████████| 12/12 [00:02<00:00,  5.58it/s]\n",
      "Valid E:6 - Loss:1.1289: 100%|██████████████████| 36/36 [00:03<00:00, 10.83it/s]\n"
     ]
    },
    {
     "name": "stdout",
     "output_type": "stream",
     "text": [
      "Fold=00 Epoch=06 TrainLOSS=0.9277\tValidLOSS=1.1289  ValidACC=0.7080  ValidAUC=0.7986\n",
      "\t\t\t f1_micro=0.7080  f1_macro=0.6291  f1_weighted=0.7186\n",
      "BestE=05 min=0.1/0.7\tBest_LOSS=1.3268  Best_ACC=0.6853  Best_AUC=0.8246\n",
      "\t\t\t best_f1_micro=0.6853  best_f1_macro=0.6344  best_f1_weighted=0.7025\n"
     ]
    },
    {
     "name": "stderr",
     "output_type": "stream",
     "text": [
      "Train E:7 - Loss:0.7194: 100%|██████████████████| 12/12 [00:02<00:00,  5.54it/s]\n",
      "Valid E:7 - Loss:1.1007: 100%|██████████████████| 36/36 [00:03<00:00, 10.86it/s]\n"
     ]
    },
    {
     "name": "stdout",
     "output_type": "stream",
     "text": [
      "########## >>>>>>>> Model Improved From F1-macro=0.6344090288786167 ----> loss==0.6350700393043577\n",
      "Fold=00 Epoch=07 TrainLOSS=0.7194\tValidLOSS=1.1007  ValidACC=0.7010  ValidAUC=0.8202\n",
      "\t\t\t f1_micro=0.7010  f1_macro=0.6351  f1_weighted=0.7027\n",
      "BestE=07 min=0.1/0.8\tBest_LOSS=1.1007  Best_ACC=0.7010  Best_AUC=0.8202\n",
      "\t\t\t best_f1_micro=0.7010  best_f1_macro=0.6351  best_f1_weighted=0.7027\n"
     ]
    },
    {
     "name": "stderr",
     "output_type": "stream",
     "text": [
      "Train E:8 - Loss:0.4749: 100%|██████████████████| 12/12 [00:02<00:00,  5.51it/s]\n",
      "Valid E:8 - Loss:1.0093: 100%|██████████████████| 36/36 [00:03<00:00, 10.41it/s]\n"
     ]
    },
    {
     "name": "stdout",
     "output_type": "stream",
     "text": [
      "########## >>>>>>>> Model Improved From F1-macro=0.6350700393043577 ----> loss==0.6654703133659257\n",
      "Fold=00 Epoch=08 TrainLOSS=0.4749\tValidLOSS=1.0093  ValidACC=0.7517  ValidAUC=0.8376\n",
      "\t\t\t f1_micro=0.7517  f1_macro=0.6655  f1_weighted=0.7463\n",
      "BestE=08 min=0.1/0.9\tBest_LOSS=1.0093  Best_ACC=0.7517  Best_AUC=0.8376\n",
      "\t\t\t best_f1_micro=0.7517  best_f1_macro=0.6655  best_f1_weighted=0.7463\n"
     ]
    },
    {
     "name": "stderr",
     "output_type": "stream",
     "text": [
      "Train E:9 - Loss:0.5457: 100%|██████████████████| 12/12 [00:02<00:00,  5.60it/s]\n",
      "Valid E:9 - Loss:1.0796: 100%|██████████████████| 36/36 [00:03<00:00, 10.11it/s]\n"
     ]
    },
    {
     "name": "stdout",
     "output_type": "stream",
     "text": [
      "Fold=00 Epoch=09 TrainLOSS=0.5457\tValidLOSS=1.0796  ValidACC=0.6836  ValidAUC=0.8368\n",
      "\t\t\t f1_micro=0.6836  f1_macro=0.6092  f1_weighted=0.6780\n",
      "BestE=08 min=0.1/1.0\tBest_LOSS=1.0093  Best_ACC=0.7517  Best_AUC=0.8376\n",
      "\t\t\t best_f1_micro=0.7517  best_f1_macro=0.6655  best_f1_weighted=0.7463\n"
     ]
    },
    {
     "name": "stderr",
     "output_type": "stream",
     "text": [
      "Train E:10 - Loss:0.4303: 100%|█████████████████| 12/12 [00:02<00:00,  5.40it/s]\n",
      "Valid E:10 - Loss:0.9878: 100%|█████████████████| 36/36 [00:03<00:00, 10.75it/s]\n"
     ]
    },
    {
     "name": "stdout",
     "output_type": "stream",
     "text": [
      "Fold=00 Epoch=10 TrainLOSS=0.4303\tValidLOSS=0.9878  ValidACC=0.6993  ValidAUC=0.8120\n",
      "\t\t\t f1_micro=0.6993  f1_macro=0.6547  f1_weighted=0.7044\n",
      "BestE=08 min=0.1/1.1\tBest_LOSS=1.0093  Best_ACC=0.7517  Best_AUC=0.8376\n",
      "\t\t\t best_f1_micro=0.7517  best_f1_macro=0.6655  best_f1_weighted=0.7463\n"
     ]
    },
    {
     "name": "stderr",
     "output_type": "stream",
     "text": [
      "Train E:11 - Loss:0.4381: 100%|█████████████████| 12/12 [00:02<00:00,  5.55it/s]\n",
      "Valid E:11 - Loss:1.0406: 100%|█████████████████| 36/36 [00:03<00:00, 10.78it/s]\n"
     ]
    },
    {
     "name": "stdout",
     "output_type": "stream",
     "text": [
      "Fold=00 Epoch=11 TrainLOSS=0.4381\tValidLOSS=1.0406  ValidACC=0.7150  ValidAUC=0.8264\n",
      "\t\t\t f1_micro=0.7150  f1_macro=0.6654  f1_weighted=0.7159\n",
      "BestE=08 min=0.1/1.2\tBest_LOSS=1.0093  Best_ACC=0.7517  Best_AUC=0.8376\n",
      "\t\t\t best_f1_micro=0.7517  best_f1_macro=0.6655  best_f1_weighted=0.7463\n"
     ]
    },
    {
     "name": "stderr",
     "output_type": "stream",
     "text": [
      "Train E:12 - Loss:0.3951: 100%|█████████████████| 12/12 [00:02<00:00,  5.52it/s]\n",
      "Valid E:12 - Loss:1.0949: 100%|█████████████████| 36/36 [00:03<00:00, 10.70it/s]\n"
     ]
    },
    {
     "name": "stdout",
     "output_type": "stream",
     "text": [
      "########## >>>>>>>> Model Improved From F1-macro=0.6654703133659257 ----> loss==0.6965000595623181\n",
      "Fold=00 Epoch=12 TrainLOSS=0.3951\tValidLOSS=1.0949  ValidACC=0.7692  ValidAUC=0.8747\n",
      "\t\t\t f1_micro=0.7692  f1_macro=0.6965  f1_weighted=0.7682\n",
      "BestE=12 min=0.1/1.3\tBest_LOSS=1.0949  Best_ACC=0.7692  Best_AUC=0.8747\n",
      "\t\t\t best_f1_micro=0.7692  best_f1_macro=0.6965  best_f1_weighted=0.7682\n"
     ]
    },
    {
     "name": "stderr",
     "output_type": "stream",
     "text": [
      "Train E:13 - Loss:0.4551: 100%|█████████████████| 12/12 [00:02<00:00,  5.67it/s]\n",
      "Valid E:13 - Loss:1.0257: 100%|█████████████████| 36/36 [00:03<00:00, 10.88it/s]\n"
     ]
    },
    {
     "name": "stdout",
     "output_type": "stream",
     "text": [
      "Fold=00 Epoch=13 TrainLOSS=0.4551\tValidLOSS=1.0257  ValidACC=0.7185  ValidAUC=0.8665\n",
      "\t\t\t f1_micro=0.7185  f1_macro=0.6664  f1_weighted=0.7297\n",
      "BestE=12 min=0.1/1.4\tBest_LOSS=1.0949  Best_ACC=0.7692  Best_AUC=0.8747\n",
      "\t\t\t best_f1_micro=0.7692  best_f1_macro=0.6965  best_f1_weighted=0.7682\n"
     ]
    },
    {
     "name": "stderr",
     "output_type": "stream",
     "text": [
      "Train E:14 - Loss:0.2708: 100%|█████████████████| 12/12 [00:02<00:00,  5.48it/s]\n",
      "Valid E:14 - Loss:1.0333: 100%|█████████████████| 36/36 [00:03<00:00, 10.67it/s]\n"
     ]
    },
    {
     "name": "stdout",
     "output_type": "stream",
     "text": [
      "Fold=00 Epoch=14 TrainLOSS=0.2708\tValidLOSS=1.0333  ValidACC=0.7413  ValidAUC=0.8423\n",
      "\t\t\t f1_micro=0.7413  f1_macro=0.6909  f1_weighted=0.7450\n",
      "BestE=12 min=0.1/1.5\tBest_LOSS=1.0949  Best_ACC=0.7692  Best_AUC=0.8747\n",
      "\t\t\t best_f1_micro=0.7692  best_f1_macro=0.6965  best_f1_weighted=0.7682\n"
     ]
    },
    {
     "name": "stderr",
     "output_type": "stream",
     "text": [
      "Train E:15 - Loss:0.3261: 100%|█████████████████| 12/12 [00:02<00:00,  5.51it/s]\n",
      "Valid E:15 - Loss:0.8680: 100%|█████████████████| 36/36 [00:03<00:00, 10.81it/s]\n"
     ]
    },
    {
     "name": "stdout",
     "output_type": "stream",
     "text": [
      "########## >>>>>>>> Model Improved From F1-macro=0.6965000595623181 ----> loss==0.7075082687491462\n",
      "Fold=00 Epoch=15 TrainLOSS=0.3261\tValidLOSS=0.8680  ValidACC=0.7587  ValidAUC=0.8598\n",
      "\t\t\t f1_micro=0.7587  f1_macro=0.7075  f1_weighted=0.7603\n",
      "BestE=15 min=0.1/1.6\tBest_LOSS=0.8680  Best_ACC=0.7587  Best_AUC=0.8598\n",
      "\t\t\t best_f1_micro=0.7587  best_f1_macro=0.7075  best_f1_weighted=0.7603\n"
     ]
    },
    {
     "name": "stderr",
     "output_type": "stream",
     "text": [
      "Train E:16 - Loss:0.3430: 100%|█████████████████| 12/12 [00:02<00:00,  5.62it/s]\n",
      "Valid E:16 - Loss:0.8117: 100%|█████████████████| 36/36 [00:03<00:00, 10.65it/s]\n"
     ]
    },
    {
     "name": "stdout",
     "output_type": "stream",
     "text": [
      "Fold=00 Epoch=16 TrainLOSS=0.3430\tValidLOSS=0.8117  ValidACC=0.7517  ValidAUC=0.8460\n",
      "\t\t\t f1_micro=0.7517  f1_macro=0.6982  f1_weighted=0.7505\n",
      "BestE=15 min=0.1/1.7\tBest_LOSS=0.8680  Best_ACC=0.7587  Best_AUC=0.8598\n",
      "\t\t\t best_f1_micro=0.7587  best_f1_macro=0.7075  best_f1_weighted=0.7603\n"
     ]
    },
    {
     "name": "stderr",
     "output_type": "stream",
     "text": [
      "Train E:17 - Loss:0.2292: 100%|█████████████████| 12/12 [00:02<00:00,  5.64it/s]\n",
      "Valid E:17 - Loss:0.8706: 100%|█████████████████| 36/36 [00:03<00:00, 10.55it/s]\n"
     ]
    },
    {
     "name": "stdout",
     "output_type": "stream",
     "text": [
      "Fold=00 Epoch=17 TrainLOSS=0.2292\tValidLOSS=0.8706  ValidACC=0.7657  ValidAUC=0.8420\n",
      "\t\t\t f1_micro=0.7657  f1_macro=0.6947  f1_weighted=0.7633\n",
      "BestE=15 min=0.1/1.8\tBest_LOSS=0.8680  Best_ACC=0.7587  Best_AUC=0.8598\n",
      "\t\t\t best_f1_micro=0.7587  best_f1_macro=0.7075  best_f1_weighted=0.7603\n"
     ]
    },
    {
     "name": "stderr",
     "output_type": "stream",
     "text": [
      "Train E:18 - Loss:0.2655: 100%|█████████████████| 12/12 [00:02<00:00,  5.60it/s]\n",
      "Valid E:18 - Loss:0.7992: 100%|█████████████████| 36/36 [00:03<00:00, 10.86it/s]\n"
     ]
    },
    {
     "name": "stdout",
     "output_type": "stream",
     "text": [
      "Fold=00 Epoch=18 TrainLOSS=0.2655\tValidLOSS=0.7992  ValidACC=0.7727  ValidAUC=0.8465\n",
      "\t\t\t f1_micro=0.7727  f1_macro=0.6879  f1_weighted=0.7642\n",
      "BestE=15 min=0.1/1.9\tBest_LOSS=0.8680  Best_ACC=0.7587  Best_AUC=0.8598\n",
      "\t\t\t best_f1_micro=0.7587  best_f1_macro=0.7075  best_f1_weighted=0.7603\n"
     ]
    },
    {
     "name": "stderr",
     "output_type": "stream",
     "text": [
      "Train E:19 - Loss:0.1951: 100%|█████████████████| 12/12 [00:02<00:00,  5.63it/s]\n",
      "Valid E:19 - Loss:0.7821: 100%|█████████████████| 36/36 [00:03<00:00, 10.53it/s]\n"
     ]
    },
    {
     "name": "stdout",
     "output_type": "stream",
     "text": [
      "########## >>>>>>>> Model Improved From F1-macro=0.7075082687491462 ----> loss==0.7176936213646425\n",
      "Fold=00 Epoch=19 TrainLOSS=0.1951\tValidLOSS=0.7821  ValidACC=0.7762  ValidAUC=0.8708\n",
      "\t\t\t f1_micro=0.7762  f1_macro=0.7177  f1_weighted=0.7713\n",
      "BestE=19 min=0.1/2.0\tBest_LOSS=0.7821  Best_ACC=0.7762  Best_AUC=0.8708\n",
      "\t\t\t best_f1_micro=0.7762  best_f1_macro=0.7177  best_f1_weighted=0.7713\n"
     ]
    },
    {
     "name": "stderr",
     "output_type": "stream",
     "text": [
      "Train E:20 - Loss:0.1497: 100%|█████████████████| 12/12 [00:02<00:00,  5.45it/s]\n",
      "Valid E:20 - Loss:0.9529: 100%|█████████████████| 36/36 [00:03<00:00, 10.79it/s]\n"
     ]
    },
    {
     "name": "stdout",
     "output_type": "stream",
     "text": [
      "Fold=00 Epoch=20 TrainLOSS=0.1497\tValidLOSS=0.9529  ValidACC=0.7710  ValidAUC=0.8779\n",
      "\t\t\t f1_micro=0.7710  f1_macro=0.7117  f1_weighted=0.7642\n",
      "BestE=19 min=0.1/2.1\tBest_LOSS=0.7821  Best_ACC=0.7762  Best_AUC=0.8708\n",
      "\t\t\t best_f1_micro=0.7762  best_f1_macro=0.7177  best_f1_weighted=0.7713\n"
     ]
    },
    {
     "name": "stderr",
     "output_type": "stream",
     "text": [
      "Train E:21 - Loss:0.1412: 100%|█████████████████| 12/12 [00:02<00:00,  5.44it/s]\n",
      "Valid E:21 - Loss:0.8631: 100%|█████████████████| 36/36 [00:03<00:00, 10.73it/s]\n"
     ]
    },
    {
     "name": "stdout",
     "output_type": "stream",
     "text": [
      "Fold=00 Epoch=21 TrainLOSS=0.1412\tValidLOSS=0.8631  ValidACC=0.7517  ValidAUC=0.8720\n",
      "\t\t\t f1_micro=0.7517  f1_macro=0.6929  f1_weighted=0.7550\n",
      "BestE=19 min=0.1/2.2\tBest_LOSS=0.7821  Best_ACC=0.7762  Best_AUC=0.8708\n",
      "\t\t\t best_f1_micro=0.7762  best_f1_macro=0.7177  best_f1_weighted=0.7713\n"
     ]
    },
    {
     "name": "stderr",
     "output_type": "stream",
     "text": [
      "Train E:22 - Loss:0.1388: 100%|█████████████████| 12/12 [00:02<00:00,  5.47it/s]\n",
      "Valid E:22 - Loss:0.8650: 100%|█████████████████| 36/36 [00:03<00:00, 10.73it/s]\n"
     ]
    },
    {
     "name": "stdout",
     "output_type": "stream",
     "text": [
      "Fold=00 Epoch=22 TrainLOSS=0.1388\tValidLOSS=0.8650  ValidACC=0.7465  ValidAUC=0.8466\n",
      "\t\t\t f1_micro=0.7465  f1_macro=0.6852  f1_weighted=0.7439\n",
      "BestE=19 min=0.1/2.3\tBest_LOSS=0.7821  Best_ACC=0.7762  Best_AUC=0.8708\n",
      "\t\t\t best_f1_micro=0.7762  best_f1_macro=0.7177  best_f1_weighted=0.7713\n"
     ]
    },
    {
     "name": "stderr",
     "output_type": "stream",
     "text": [
      "Train E:23 - Loss:0.2206: 100%|█████████████████| 12/12 [00:02<00:00,  5.55it/s]\n",
      "Valid E:23 - Loss:0.8339: 100%|█████████████████| 36/36 [00:03<00:00, 10.67it/s]\n"
     ]
    },
    {
     "name": "stdout",
     "output_type": "stream",
     "text": [
      "Fold=00 Epoch=23 TrainLOSS=0.2206\tValidLOSS=0.8339  ValidACC=0.7465  ValidAUC=0.8462\n",
      "\t\t\t f1_micro=0.7465  f1_macro=0.6794  f1_weighted=0.7435\n",
      "BestE=19 min=0.1/2.4\tBest_LOSS=0.7821  Best_ACC=0.7762  Best_AUC=0.8708\n",
      "\t\t\t best_f1_micro=0.7762  best_f1_macro=0.7177  best_f1_weighted=0.7713\n"
     ]
    },
    {
     "name": "stderr",
     "output_type": "stream",
     "text": [
      "Train E:24 - Loss:0.1135: 100%|█████████████████| 12/12 [00:02<00:00,  5.47it/s]\n",
      "Valid E:24 - Loss:0.8136: 100%|█████████████████| 36/36 [00:03<00:00, 10.24it/s]\n"
     ]
    },
    {
     "name": "stdout",
     "output_type": "stream",
     "text": [
      "Fold=00 Epoch=24 TrainLOSS=0.1135\tValidLOSS=0.8136  ValidACC=0.7762  ValidAUC=0.8610\n",
      "\t\t\t f1_micro=0.7762  f1_macro=0.7074  f1_weighted=0.7715\n",
      "BestE=19 min=0.1/2.5\tBest_LOSS=0.7821  Best_ACC=0.7762  Best_AUC=0.8708\n",
      "\t\t\t best_f1_micro=0.7762  best_f1_macro=0.7177  best_f1_weighted=0.7713\n"
     ]
    },
    {
     "name": "stderr",
     "output_type": "stream",
     "text": [
      "Train E:25 - Loss:0.1541: 100%|█████████████████| 12/12 [00:02<00:00,  5.28it/s]\n",
      "Valid E:25 - Loss:0.8340: 100%|█████████████████| 36/36 [00:03<00:00, 10.79it/s]\n"
     ]
    },
    {
     "name": "stdout",
     "output_type": "stream",
     "text": [
      "########## >>>>>>>> Model Improved From F1-macro=0.7176936213646425 ----> loss==0.7257552544288922\n",
      "Fold=00 Epoch=25 TrainLOSS=0.1541\tValidLOSS=0.8340  ValidACC=0.7815  ValidAUC=0.8710\n",
      "\t\t\t f1_micro=0.7815  f1_macro=0.7258  f1_weighted=0.7799\n",
      "BestE=25 min=0.1/2.6\tBest_LOSS=0.8340  Best_ACC=0.7815  Best_AUC=0.8710\n",
      "\t\t\t best_f1_micro=0.7815  best_f1_macro=0.7258  best_f1_weighted=0.7799\n"
     ]
    },
    {
     "name": "stderr",
     "output_type": "stream",
     "text": [
      "Train E:26 - Loss:0.0476: 100%|█████████████████| 12/12 [00:02<00:00,  5.53it/s]\n",
      "Valid E:26 - Loss:0.8211: 100%|█████████████████| 36/36 [00:03<00:00, 10.97it/s]\n"
     ]
    },
    {
     "name": "stdout",
     "output_type": "stream",
     "text": [
      "Fold=00 Epoch=26 TrainLOSS=0.0476\tValidLOSS=0.8211  ValidACC=0.7832  ValidAUC=0.8742\n",
      "\t\t\t f1_micro=0.7832  f1_macro=0.7225  f1_weighted=0.7793\n",
      "BestE=25 min=0.1/2.7\tBest_LOSS=0.8340  Best_ACC=0.7815  Best_AUC=0.8710\n",
      "\t\t\t best_f1_micro=0.7815  best_f1_macro=0.7258  best_f1_weighted=0.7799\n"
     ]
    },
    {
     "name": "stderr",
     "output_type": "stream",
     "text": [
      "Train E:27 - Loss:0.0924: 100%|█████████████████| 12/12 [00:02<00:00,  5.47it/s]\n",
      "Valid E:27 - Loss:0.8788: 100%|█████████████████| 36/36 [00:03<00:00,  9.99it/s]\n"
     ]
    },
    {
     "name": "stdout",
     "output_type": "stream",
     "text": [
      "Fold=00 Epoch=27 TrainLOSS=0.0924\tValidLOSS=0.8788  ValidACC=0.7762  ValidAUC=0.8625\n",
      "\t\t\t f1_micro=0.7762  f1_macro=0.7229  f1_weighted=0.7724\n",
      "BestE=25 min=0.1/2.8\tBest_LOSS=0.8340  Best_ACC=0.7815  Best_AUC=0.8710\n",
      "\t\t\t best_f1_micro=0.7815  best_f1_macro=0.7258  best_f1_weighted=0.7799\n"
     ]
    },
    {
     "name": "stderr",
     "output_type": "stream",
     "text": [
      "Train E:28 - Loss:0.1209: 100%|█████████████████| 12/12 [00:02<00:00,  5.54it/s]\n",
      "Valid E:28 - Loss:0.8812: 100%|█████████████████| 36/36 [00:03<00:00, 10.37it/s]\n"
     ]
    },
    {
     "name": "stdout",
     "output_type": "stream",
     "text": [
      "Fold=00 Epoch=28 TrainLOSS=0.1209\tValidLOSS=0.8812  ValidACC=0.7815  ValidAUC=0.8599\n",
      "\t\t\t f1_micro=0.7815  f1_macro=0.7235  f1_weighted=0.7781\n",
      "BestE=25 min=0.1/2.9\tBest_LOSS=0.8340  Best_ACC=0.7815  Best_AUC=0.8710\n",
      "\t\t\t best_f1_micro=0.7815  best_f1_macro=0.7258  best_f1_weighted=0.7799\n"
     ]
    },
    {
     "name": "stderr",
     "output_type": "stream",
     "text": [
      "Train E:29 - Loss:0.1056: 100%|█████████████████| 12/12 [00:02<00:00,  5.46it/s]\n",
      "Valid E:29 - Loss:0.8873: 100%|█████████████████| 36/36 [00:03<00:00, 10.79it/s]\n"
     ]
    },
    {
     "name": "stdout",
     "output_type": "stream",
     "text": [
      "########## >>>>>>>> Model Improved From F1-macro=0.7257552544288922 ----> loss==0.7311546436546438\n",
      "Fold=00 Epoch=29 TrainLOSS=0.1056\tValidLOSS=0.8873  ValidACC=0.7972  ValidAUC=0.8623\n",
      "\t\t\t f1_micro=0.7972  f1_macro=0.7312  f1_weighted=0.7924\n",
      "BestE=29 min=0.1/3.0\tBest_LOSS=0.8873  Best_ACC=0.7972  Best_AUC=0.8623\n",
      "\t\t\t best_f1_micro=0.7972  best_f1_macro=0.7312  best_f1_weighted=0.7924\n"
     ]
    },
    {
     "name": "stderr",
     "output_type": "stream",
     "text": [
      "Train E:30 - Loss:0.0878: 100%|█████████████████| 12/12 [00:02<00:00,  5.62it/s]\n",
      "Valid E:30 - Loss:0.8756: 100%|█████████████████| 36/36 [00:03<00:00, 10.90it/s]\n"
     ]
    },
    {
     "name": "stdout",
     "output_type": "stream",
     "text": [
      "########## >>>>>>>> Model Improved From F1-macro=0.7311546436546438 ----> loss==0.7321467854589452\n",
      "Fold=00 Epoch=30 TrainLOSS=0.0878\tValidLOSS=0.8756  ValidACC=0.7955  ValidAUC=0.8641\n",
      "\t\t\t f1_micro=0.7955  f1_macro=0.7321  f1_weighted=0.7915\n",
      "BestE=30 min=0.1/3.1\tBest_LOSS=0.8756  Best_ACC=0.7955  Best_AUC=0.8641\n",
      "\t\t\t best_f1_micro=0.7955  best_f1_macro=0.7321  best_f1_weighted=0.7915\n"
     ]
    },
    {
     "name": "stderr",
     "output_type": "stream",
     "text": [
      "Train E:31 - Loss:0.0685: 100%|█████████████████| 12/12 [00:02<00:00,  5.49it/s]\n",
      "Valid E:31 - Loss:0.8488: 100%|█████████████████| 36/36 [00:03<00:00, 10.79it/s]\n"
     ]
    },
    {
     "name": "stdout",
     "output_type": "stream",
     "text": [
      "Fold=00 Epoch=31 TrainLOSS=0.0685\tValidLOSS=0.8488  ValidACC=0.7850  ValidAUC=0.8668\n",
      "\t\t\t f1_micro=0.7850  f1_macro=0.7199  f1_weighted=0.7808\n",
      "BestE=30 min=0.1/3.2\tBest_LOSS=0.8756  Best_ACC=0.7955  Best_AUC=0.8641\n",
      "\t\t\t best_f1_micro=0.7955  best_f1_macro=0.7321  best_f1_weighted=0.7915\n"
     ]
    },
    {
     "name": "stderr",
     "output_type": "stream",
     "text": [
      "Train E:32 - Loss:0.0603: 100%|█████████████████| 12/12 [00:02<00:00,  5.55it/s]\n",
      "Valid E:32 - Loss:0.8269: 100%|█████████████████| 36/36 [00:03<00:00, 10.87it/s]\n"
     ]
    },
    {
     "name": "stdout",
     "output_type": "stream",
     "text": [
      "########## >>>>>>>> Model Improved From F1-macro=0.7321467854589452 ----> loss==0.7444364677349521\n",
      "Fold=00 Epoch=32 TrainLOSS=0.0603\tValidLOSS=0.8269  ValidACC=0.8077  ValidAUC=0.8747\n",
      "\t\t\t f1_micro=0.8077  f1_macro=0.7444  f1_weighted=0.8040\n",
      "BestE=32 min=0.1/3.3\tBest_LOSS=0.8269  Best_ACC=0.8077  Best_AUC=0.8747\n",
      "\t\t\t best_f1_micro=0.8077  best_f1_macro=0.7444  best_f1_weighted=0.8040\n"
     ]
    },
    {
     "name": "stderr",
     "output_type": "stream",
     "text": [
      "Train E:33 - Loss:0.0438: 100%|█████████████████| 12/12 [00:02<00:00,  5.54it/s]\n",
      "Valid E:33 - Loss:0.8255: 100%|█████████████████| 36/36 [00:03<00:00, 10.80it/s]\n"
     ]
    },
    {
     "name": "stdout",
     "output_type": "stream",
     "text": [
      "Fold=00 Epoch=33 TrainLOSS=0.0438\tValidLOSS=0.8255  ValidACC=0.7955  ValidAUC=0.8789\n",
      "\t\t\t f1_micro=0.7955  f1_macro=0.7333  f1_weighted=0.7934\n",
      "BestE=32 min=0.1/3.4\tBest_LOSS=0.8269  Best_ACC=0.8077  Best_AUC=0.8747\n",
      "\t\t\t best_f1_micro=0.8077  best_f1_macro=0.7444  best_f1_weighted=0.8040\n"
     ]
    },
    {
     "name": "stderr",
     "output_type": "stream",
     "text": [
      "Train E:34 - Loss:0.0504: 100%|█████████████████| 12/12 [00:02<00:00,  5.51it/s]\n",
      "Valid E:34 - Loss:0.8117: 100%|█████████████████| 36/36 [00:03<00:00, 10.84it/s]\n"
     ]
    },
    {
     "name": "stdout",
     "output_type": "stream",
     "text": [
      "Fold=00 Epoch=34 TrainLOSS=0.0504\tValidLOSS=0.8117  ValidACC=0.8059  ValidAUC=0.8783\n",
      "\t\t\t f1_micro=0.8059  f1_macro=0.7371  f1_weighted=0.8019\n",
      "BestE=32 min=0.1/3.5\tBest_LOSS=0.8269  Best_ACC=0.8077  Best_AUC=0.8747\n",
      "\t\t\t best_f1_micro=0.8077  best_f1_macro=0.7444  best_f1_weighted=0.8040\n"
     ]
    },
    {
     "name": "stderr",
     "output_type": "stream",
     "text": [
      "Train E:35 - Loss:0.0499: 100%|█████████████████| 12/12 [00:02<00:00,  5.49it/s]\n",
      "Valid E:35 - Loss:0.8148: 100%|█████████████████| 36/36 [00:03<00:00, 10.91it/s]\n"
     ]
    },
    {
     "name": "stdout",
     "output_type": "stream",
     "text": [
      "Fold=00 Epoch=35 TrainLOSS=0.0499\tValidLOSS=0.8148  ValidACC=0.7972  ValidAUC=0.8773\n",
      "\t\t\t f1_micro=0.7972  f1_macro=0.7263  f1_weighted=0.7938\n",
      "BestE=32 min=0.1/3.6\tBest_LOSS=0.8269  Best_ACC=0.8077  Best_AUC=0.8747\n",
      "\t\t\t best_f1_micro=0.8077  best_f1_macro=0.7444  best_f1_weighted=0.8040\n"
     ]
    },
    {
     "name": "stderr",
     "output_type": "stream",
     "text": [
      "Train E:36 - Loss:0.0326: 100%|█████████████████| 12/12 [00:02<00:00,  5.53it/s]\n",
      "Valid E:36 - Loss:0.7898: 100%|█████████████████| 36/36 [00:03<00:00, 10.96it/s]\n"
     ]
    },
    {
     "name": "stdout",
     "output_type": "stream",
     "text": [
      "Fold=00 Epoch=36 TrainLOSS=0.0326\tValidLOSS=0.7898  ValidACC=0.8007  ValidAUC=0.8790\n",
      "\t\t\t f1_micro=0.8007  f1_macro=0.7300  f1_weighted=0.7972\n",
      "BestE=32 min=0.1/3.7\tBest_LOSS=0.8269  Best_ACC=0.8077  Best_AUC=0.8747\n",
      "\t\t\t best_f1_micro=0.8077  best_f1_macro=0.7444  best_f1_weighted=0.8040\n"
     ]
    },
    {
     "name": "stderr",
     "output_type": "stream",
     "text": [
      "Train E:37 - Loss:0.0153: 100%|█████████████████| 12/12 [00:02<00:00,  5.54it/s]\n",
      "Valid E:37 - Loss:0.7952: 100%|█████████████████| 36/36 [00:03<00:00, 10.77it/s]\n"
     ]
    },
    {
     "name": "stdout",
     "output_type": "stream",
     "text": [
      "Fold=00 Epoch=37 TrainLOSS=0.0153\tValidLOSS=0.7952  ValidACC=0.8042  ValidAUC=0.8835\n",
      "\t\t\t f1_micro=0.8042  f1_macro=0.7385  f1_weighted=0.8023\n",
      "BestE=32 min=0.1/3.8\tBest_LOSS=0.8269  Best_ACC=0.8077  Best_AUC=0.8747\n",
      "\t\t\t best_f1_micro=0.8077  best_f1_macro=0.7444  best_f1_weighted=0.8040\n"
     ]
    },
    {
     "name": "stderr",
     "output_type": "stream",
     "text": [
      "Train E:38 - Loss:0.0165: 100%|█████████████████| 12/12 [00:02<00:00,  5.60it/s]\n",
      "Valid E:38 - Loss:0.7961: 100%|█████████████████| 36/36 [00:03<00:00, 10.87it/s]\n"
     ]
    },
    {
     "name": "stdout",
     "output_type": "stream",
     "text": [
      "Fold=00 Epoch=38 TrainLOSS=0.0165\tValidLOSS=0.7961  ValidACC=0.8112  ValidAUC=0.8816\n",
      "\t\t\t f1_micro=0.8112  f1_macro=0.7434  f1_weighted=0.8088\n",
      "BestE=32 min=0.1/3.9\tBest_LOSS=0.8269  Best_ACC=0.8077  Best_AUC=0.8747\n",
      "\t\t\t best_f1_micro=0.8077  best_f1_macro=0.7444  best_f1_weighted=0.8040\n"
     ]
    },
    {
     "name": "stderr",
     "output_type": "stream",
     "text": [
      "Train E:39 - Loss:0.0300: 100%|█████████████████| 12/12 [00:02<00:00,  5.48it/s]\n",
      "Valid E:39 - Loss:0.7979: 100%|█████████████████| 36/36 [00:03<00:00, 10.83it/s]\n"
     ]
    },
    {
     "name": "stdout",
     "output_type": "stream",
     "text": [
      "########## >>>>>>>> Model Improved From F1-macro=0.7444364677349521 ----> loss==0.7473182029276466\n",
      "Fold=00 Epoch=39 TrainLOSS=0.0300\tValidLOSS=0.7979  ValidACC=0.8129  ValidAUC=0.8803\n",
      "\t\t\t f1_micro=0.8129  f1_macro=0.7473  f1_weighted=0.8115\n",
      "BestE=39 min=0.1/4.0\tBest_LOSS=0.7979  Best_ACC=0.8129  Best_AUC=0.8803\n",
      "\t\t\t best_f1_micro=0.8129  best_f1_macro=0.7473  best_f1_weighted=0.8115\n"
     ]
    },
    {
     "name": "stderr",
     "output_type": "stream",
     "text": [
      "Train E:40 - Loss:0.0196: 100%|█████████████████| 12/12 [00:02<00:00,  5.60it/s]\n",
      "Valid E:40 - Loss:0.8369: 100%|█████████████████| 36/36 [00:03<00:00, 10.85it/s]\n"
     ]
    },
    {
     "name": "stdout",
     "output_type": "stream",
     "text": [
      "Fold=00 Epoch=40 TrainLOSS=0.0196\tValidLOSS=0.8369  ValidACC=0.8129  ValidAUC=0.8789\n",
      "\t\t\t f1_micro=0.8129  f1_macro=0.7451  f1_weighted=0.8101\n",
      "BestE=39 min=0.1/4.1\tBest_LOSS=0.7979  Best_ACC=0.8129  Best_AUC=0.8803\n",
      "\t\t\t best_f1_micro=0.8129  best_f1_macro=0.7473  best_f1_weighted=0.8115\n"
     ]
    },
    {
     "name": "stderr",
     "output_type": "stream",
     "text": [
      "Train E:41 - Loss:0.0971: 100%|█████████████████| 12/12 [00:02<00:00,  5.61it/s]\n",
      "Valid E:41 - Loss:0.8191: 100%|█████████████████| 36/36 [00:03<00:00, 10.82it/s]\n"
     ]
    },
    {
     "name": "stdout",
     "output_type": "stream",
     "text": [
      "Fold=00 Epoch=41 TrainLOSS=0.0971\tValidLOSS=0.8191  ValidACC=0.8094  ValidAUC=0.8822\n",
      "\t\t\t f1_micro=0.8094  f1_macro=0.7427  f1_weighted=0.8063\n",
      "BestE=39 min=0.1/4.2\tBest_LOSS=0.7979  Best_ACC=0.8129  Best_AUC=0.8803\n",
      "\t\t\t best_f1_micro=0.8129  best_f1_macro=0.7473  best_f1_weighted=0.8115\n"
     ]
    },
    {
     "name": "stderr",
     "output_type": "stream",
     "text": [
      "Train E:42 - Loss:0.0851: 100%|█████████████████| 12/12 [00:02<00:00,  5.63it/s]\n",
      "Valid E:42 - Loss:0.8303: 100%|█████████████████| 36/36 [00:03<00:00, 10.86it/s]\n"
     ]
    },
    {
     "name": "stdout",
     "output_type": "stream",
     "text": [
      "########## >>>>>>>> Model Improved From F1-macro=0.7473182029276466 ----> loss==0.7476934766091393\n",
      "Fold=00 Epoch=42 TrainLOSS=0.0851\tValidLOSS=0.8303  ValidACC=0.8129  ValidAUC=0.8826\n",
      "\t\t\t f1_micro=0.8129  f1_macro=0.7477  f1_weighted=0.8099\n",
      "BestE=42 min=0.1/4.3\tBest_LOSS=0.8303  Best_ACC=0.8129  Best_AUC=0.8826\n",
      "\t\t\t best_f1_micro=0.8129  best_f1_macro=0.7477  best_f1_weighted=0.8099\n"
     ]
    },
    {
     "name": "stderr",
     "output_type": "stream",
     "text": [
      "Train E:43 - Loss:0.0297: 100%|█████████████████| 12/12 [00:02<00:00,  5.47it/s]\n",
      "Valid E:43 - Loss:0.8251: 100%|█████████████████| 36/36 [00:03<00:00, 10.81it/s]\n"
     ]
    },
    {
     "name": "stdout",
     "output_type": "stream",
     "text": [
      "########## >>>>>>>> Model Improved From F1-macro=0.7476934766091393 ----> loss==0.7500221840688982\n",
      "Fold=00 Epoch=43 TrainLOSS=0.0297\tValidLOSS=0.8251  ValidACC=0.8147  ValidAUC=0.8832\n",
      "\t\t\t f1_micro=0.8147  f1_macro=0.7500  f1_weighted=0.8116\n",
      "BestE=43 min=0.1/4.4\tBest_LOSS=0.8251  Best_ACC=0.8147  Best_AUC=0.8832\n",
      "\t\t\t best_f1_micro=0.8147  best_f1_macro=0.7500  best_f1_weighted=0.8116\n"
     ]
    },
    {
     "name": "stderr",
     "output_type": "stream",
     "text": [
      "Train E:44 - Loss:0.0085: 100%|█████████████████| 12/12 [00:02<00:00,  5.35it/s]\n",
      "Valid E:44 - Loss:0.8250: 100%|█████████████████| 36/36 [00:03<00:00, 10.65it/s]\n"
     ]
    },
    {
     "name": "stdout",
     "output_type": "stream",
     "text": [
      "Fold=00 Epoch=44 TrainLOSS=0.0085\tValidLOSS=0.8250  ValidACC=0.8199  ValidAUC=0.8814\n",
      "\t\t\t f1_micro=0.8199  f1_macro=0.7487  f1_weighted=0.8157\n",
      "BestE=43 min=0.1/4.5\tBest_LOSS=0.8251  Best_ACC=0.8147  Best_AUC=0.8832\n",
      "\t\t\t best_f1_micro=0.8147  best_f1_macro=0.7500  best_f1_weighted=0.8116\n"
     ]
    },
    {
     "name": "stderr",
     "output_type": "stream",
     "text": [
      "Train E:45 - Loss:0.0390: 100%|█████████████████| 12/12 [00:02<00:00,  5.43it/s]\n",
      "Valid E:45 - Loss:0.8256: 100%|█████████████████| 36/36 [00:03<00:00, 10.48it/s]\n"
     ]
    },
    {
     "name": "stdout",
     "output_type": "stream",
     "text": [
      "Fold=00 Epoch=45 TrainLOSS=0.0390\tValidLOSS=0.8256  ValidACC=0.8094  ValidAUC=0.8815\n",
      "\t\t\t f1_micro=0.8094  f1_macro=0.7381  f1_weighted=0.8062\n",
      "BestE=43 min=0.1/4.6\tBest_LOSS=0.8251  Best_ACC=0.8147  Best_AUC=0.8832\n",
      "\t\t\t best_f1_micro=0.8147  best_f1_macro=0.7500  best_f1_weighted=0.8116\n"
     ]
    },
    {
     "name": "stderr",
     "output_type": "stream",
     "text": [
      "Train E:46 - Loss:0.0302: 100%|█████████████████| 12/12 [00:02<00:00,  5.51it/s]\n",
      "Valid E:46 - Loss:0.8361: 100%|█████████████████| 36/36 [00:03<00:00, 10.92it/s]\n"
     ]
    },
    {
     "name": "stdout",
     "output_type": "stream",
     "text": [
      "########## >>>>>>>> Model Improved From F1-macro=0.7500221840688982 ----> loss==0.7534949853160015\n",
      "Fold=00 Epoch=46 TrainLOSS=0.0302\tValidLOSS=0.8361  ValidACC=0.8217  ValidAUC=0.8805\n",
      "\t\t\t f1_micro=0.8217  f1_macro=0.7535  f1_weighted=0.8180\n",
      "BestE=46 min=0.1/4.7\tBest_LOSS=0.8361  Best_ACC=0.8217  Best_AUC=0.8805\n",
      "\t\t\t best_f1_micro=0.8217  best_f1_macro=0.7535  best_f1_weighted=0.8180\n"
     ]
    },
    {
     "name": "stderr",
     "output_type": "stream",
     "text": [
      "Train E:47 - Loss:0.0272: 100%|█████████████████| 12/12 [00:02<00:00,  5.54it/s]\n",
      "Valid E:47 - Loss:0.8401: 100%|█████████████████| 36/36 [00:03<00:00, 10.53it/s]\n"
     ]
    },
    {
     "name": "stdout",
     "output_type": "stream",
     "text": [
      "Fold=00 Epoch=47 TrainLOSS=0.0272\tValidLOSS=0.8401  ValidACC=0.8147  ValidAUC=0.8786\n",
      "\t\t\t f1_micro=0.8147  f1_macro=0.7472  f1_weighted=0.8115\n",
      "BestE=46 min=0.1/4.8\tBest_LOSS=0.8361  Best_ACC=0.8217  Best_AUC=0.8805\n",
      "\t\t\t best_f1_micro=0.8217  best_f1_macro=0.7535  best_f1_weighted=0.8180\n"
     ]
    },
    {
     "name": "stderr",
     "output_type": "stream",
     "text": [
      "Train E:48 - Loss:0.0178: 100%|█████████████████| 12/12 [00:02<00:00,  5.33it/s]\n",
      "Valid E:48 - Loss:0.8364: 100%|█████████████████| 36/36 [00:03<00:00, 10.45it/s]\n"
     ]
    },
    {
     "name": "stdout",
     "output_type": "stream",
     "text": [
      "Fold=00 Epoch=48 TrainLOSS=0.0178\tValidLOSS=0.8364  ValidACC=0.8147  ValidAUC=0.8825\n",
      "\t\t\t f1_micro=0.8147  f1_macro=0.7422  f1_weighted=0.8100\n",
      "BestE=46 min=0.1/4.9\tBest_LOSS=0.8361  Best_ACC=0.8217  Best_AUC=0.8805\n",
      "\t\t\t best_f1_micro=0.8217  best_f1_macro=0.7535  best_f1_weighted=0.8180\n"
     ]
    },
    {
     "name": "stderr",
     "output_type": "stream",
     "text": [
      "Train E:49 - Loss:0.0135: 100%|█████████████████| 12/12 [00:02<00:00,  4.93it/s]\n",
      "Valid E:49 - Loss:0.8322: 100%|█████████████████| 36/36 [00:03<00:00, 10.44it/s]\n"
     ]
    },
    {
     "name": "stdout",
     "output_type": "stream",
     "text": [
      "Fold=00 Epoch=49 TrainLOSS=0.0135\tValidLOSS=0.8322  ValidACC=0.8094  ValidAUC=0.8813\n",
      "\t\t\t f1_micro=0.8094  f1_macro=0.7414  f1_weighted=0.8055\n",
      "BestE=46 min=0.1/5.0\tBest_LOSS=0.8361  Best_ACC=0.8217  Best_AUC=0.8805\n",
      "\t\t\t best_f1_micro=0.8217  best_f1_macro=0.7535  best_f1_weighted=0.8180\n",
      "FOLD: 1\n",
      "(1143, 6) (571, 6)\n"
     ]
    },
    {
     "name": "stderr",
     "output_type": "stream",
     "text": [
      "Train E:0 - Loss:2.0050: 100%|██████████████████| 12/12 [00:02<00:00,  5.20it/s]\n",
      "Valid E:0 - Loss:2.1114: 100%|██████████████████| 36/36 [00:03<00:00, 10.34it/s]\n"
     ]
    },
    {
     "name": "stdout",
     "output_type": "stream",
     "text": [
      "########## >>>>>>>> Model Improved From F1-macro=0 ----> loss==0.2656107464023478\n",
      "Fold=01 Epoch=00 TrainLOSS=2.0050\tValidLOSS=2.1114  ValidACC=0.2697  ValidAUC=0.4608\n",
      "\t\t\t f1_micro=0.2697  f1_macro=0.2656  f1_weighted=0.2979\n",
      "BestE=00 min=0.1/5.1\tBest_LOSS=2.1114  Best_ACC=0.2697  Best_AUC=0.4608\n",
      "\t\t\t best_f1_micro=0.2697  best_f1_macro=0.2656  best_f1_weighted=0.2979\n"
     ]
    },
    {
     "name": "stderr",
     "output_type": "stream",
     "text": [
      "Train E:1 - Loss:1.0573: 100%|██████████████████| 12/12 [00:02<00:00,  5.42it/s]\n",
      "Valid E:1 - Loss:3.2626: 100%|██████████████████| 36/36 [00:03<00:00, 10.64it/s]\n"
     ]
    },
    {
     "name": "stdout",
     "output_type": "stream",
     "text": [
      "Fold=01 Epoch=01 TrainLOSS=1.0573\tValidLOSS=3.2626  ValidACC=0.2049  ValidAUC=0.4646\n",
      "\t\t\t f1_micro=0.2049  f1_macro=0.2035  f1_weighted=0.2058\n",
      "BestE=00 min=0.1/5.2\tBest_LOSS=2.1114  Best_ACC=0.2697  Best_AUC=0.4608\n",
      "\t\t\t best_f1_micro=0.2697  best_f1_macro=0.2656  best_f1_weighted=0.2979\n"
     ]
    },
    {
     "name": "stderr",
     "output_type": "stream",
     "text": [
      "Train E:2 - Loss:1.0976: 100%|██████████████████| 12/12 [00:02<00:00,  5.41it/s]\n",
      "Valid E:2 - Loss:4.1099: 100%|██████████████████| 36/36 [00:03<00:00, 10.59it/s]\n"
     ]
    },
    {
     "name": "stdout",
     "output_type": "stream",
     "text": [
      "Fold=01 Epoch=02 TrainLOSS=1.0976\tValidLOSS=4.1099  ValidACC=0.2084  ValidAUC=0.5739\n",
      "\t\t\t f1_micro=0.2084  f1_macro=0.2047  f1_weighted=0.2068\n",
      "BestE=00 min=0.1/5.3\tBest_LOSS=2.1114  Best_ACC=0.2697  Best_AUC=0.4608\n",
      "\t\t\t best_f1_micro=0.2697  best_f1_macro=0.2656  best_f1_weighted=0.2979\n"
     ]
    },
    {
     "name": "stderr",
     "output_type": "stream",
     "text": [
      "Train E:3 - Loss:0.8717: 100%|██████████████████| 12/12 [00:02<00:00,  5.45it/s]\n",
      "Valid E:3 - Loss:2.2321: 100%|██████████████████| 36/36 [00:03<00:00, 10.63it/s]\n"
     ]
    },
    {
     "name": "stdout",
     "output_type": "stream",
     "text": [
      "########## >>>>>>>> Model Improved From F1-macro=0.2656107464023478 ----> loss==0.42522301976046467\n",
      "Fold=01 Epoch=03 TrainLOSS=0.8717\tValidLOSS=2.2321  ValidACC=0.4448  ValidAUC=0.6465\n",
      "\t\t\t f1_micro=0.4448  f1_macro=0.4252  f1_weighted=0.4926\n",
      "BestE=03 min=0.1/5.4\tBest_LOSS=2.2321  Best_ACC=0.4448  Best_AUC=0.6465\n",
      "\t\t\t best_f1_micro=0.4448  best_f1_macro=0.4252  best_f1_weighted=0.4926\n"
     ]
    },
    {
     "name": "stderr",
     "output_type": "stream",
     "text": [
      "Train E:4 - Loss:0.8156: 100%|██████████████████| 12/12 [00:02<00:00,  5.55it/s]\n",
      "Valid E:4 - Loss:1.2500: 100%|██████████████████| 36/36 [00:03<00:00, 10.82it/s]\n"
     ]
    },
    {
     "name": "stdout",
     "output_type": "stream",
     "text": [
      "########## >>>>>>>> Model Improved From F1-macro=0.42522301976046467 ----> loss==0.5904031069328806\n",
      "Fold=01 Epoch=04 TrainLOSS=0.8156\tValidLOSS=1.2500  ValidACC=0.6515  ValidAUC=0.7859\n",
      "\t\t\t f1_micro=0.6515  f1_macro=0.5904  f1_weighted=0.6703\n",
      "BestE=04 min=0.1/5.5\tBest_LOSS=1.2500  Best_ACC=0.6515  Best_AUC=0.7859\n",
      "\t\t\t best_f1_micro=0.6515  best_f1_macro=0.5904  best_f1_weighted=0.6703\n"
     ]
    },
    {
     "name": "stderr",
     "output_type": "stream",
     "text": [
      "Train E:5 - Loss:0.7599: 100%|██████████████████| 12/12 [00:02<00:00,  5.22it/s]\n",
      "Valid E:5 - Loss:1.1154: 100%|██████████████████| 36/36 [00:03<00:00, 10.58it/s]\n"
     ]
    },
    {
     "name": "stdout",
     "output_type": "stream",
     "text": [
      "########## >>>>>>>> Model Improved From F1-macro=0.5904031069328806 ----> loss==0.6625049893909792\n",
      "Fold=01 Epoch=05 TrainLOSS=0.7599\tValidLOSS=1.1154  ValidACC=0.7303  ValidAUC=0.8150\n",
      "\t\t\t f1_micro=0.7303  f1_macro=0.6625  f1_weighted=0.7258\n",
      "BestE=05 min=0.1/5.6\tBest_LOSS=1.1154  Best_ACC=0.7303  Best_AUC=0.8150\n",
      "\t\t\t best_f1_micro=0.7303  best_f1_macro=0.6625  best_f1_weighted=0.7258\n"
     ]
    },
    {
     "name": "stderr",
     "output_type": "stream",
     "text": [
      "Train E:6 - Loss:0.8364: 100%|██████████████████| 12/12 [00:02<00:00,  5.47it/s]\n",
      "Valid E:6 - Loss:1.1939: 100%|██████████████████| 36/36 [00:03<00:00, 10.98it/s]\n"
     ]
    },
    {
     "name": "stdout",
     "output_type": "stream",
     "text": [
      "Fold=01 Epoch=06 TrainLOSS=0.8364\tValidLOSS=1.1939  ValidACC=0.6830  ValidAUC=0.8291\n",
      "\t\t\t f1_micro=0.6830  f1_macro=0.6287  f1_weighted=0.6966\n",
      "BestE=05 min=0.1/5.7\tBest_LOSS=1.1154  Best_ACC=0.7303  Best_AUC=0.8150\n",
      "\t\t\t best_f1_micro=0.7303  best_f1_macro=0.6625  best_f1_weighted=0.7258\n"
     ]
    },
    {
     "name": "stderr",
     "output_type": "stream",
     "text": [
      "Train E:7 - Loss:0.5323: 100%|██████████████████| 12/12 [00:02<00:00,  5.56it/s]\n",
      "Valid E:7 - Loss:0.8605: 100%|██████████████████| 36/36 [00:03<00:00, 10.99it/s]\n"
     ]
    },
    {
     "name": "stdout",
     "output_type": "stream",
     "text": [
      "########## >>>>>>>> Model Improved From F1-macro=0.6625049893909792 ----> loss==0.7236314695020605\n",
      "Fold=01 Epoch=07 TrainLOSS=0.5323\tValidLOSS=0.8605  ValidACC=0.7898  ValidAUC=0.8650\n",
      "\t\t\t f1_micro=0.7898  f1_macro=0.7236  f1_weighted=0.7904\n",
      "BestE=07 min=0.1/5.8\tBest_LOSS=0.8605  Best_ACC=0.7898  Best_AUC=0.8650\n",
      "\t\t\t best_f1_micro=0.7898  best_f1_macro=0.7236  best_f1_weighted=0.7904\n"
     ]
    },
    {
     "name": "stderr",
     "output_type": "stream",
     "text": [
      "Train E:8 - Loss:0.6922: 100%|██████████████████| 12/12 [00:02<00:00,  5.58it/s]\n",
      "Valid E:8 - Loss:0.9542: 100%|██████████████████| 36/36 [00:03<00:00, 10.35it/s]\n"
     ]
    },
    {
     "name": "stdout",
     "output_type": "stream",
     "text": [
      "Fold=01 Epoch=08 TrainLOSS=0.6922\tValidLOSS=0.9542  ValidACC=0.7478  ValidAUC=0.8510\n",
      "\t\t\t f1_micro=0.7478  f1_macro=0.6785  f1_weighted=0.7489\n",
      "BestE=07 min=0.1/5.9\tBest_LOSS=0.8605  Best_ACC=0.7898  Best_AUC=0.8650\n",
      "\t\t\t best_f1_micro=0.7898  best_f1_macro=0.7236  best_f1_weighted=0.7904\n"
     ]
    },
    {
     "name": "stderr",
     "output_type": "stream",
     "text": [
      "Train E:9 - Loss:0.6151: 100%|██████████████████| 12/12 [00:02<00:00,  5.43it/s]\n",
      "Valid E:9 - Loss:0.9220: 100%|██████████████████| 36/36 [00:03<00:00, 10.82it/s]\n"
     ]
    },
    {
     "name": "stdout",
     "output_type": "stream",
     "text": [
      "Fold=01 Epoch=09 TrainLOSS=0.6151\tValidLOSS=0.9220  ValidACC=0.7391  ValidAUC=0.8548\n",
      "\t\t\t f1_micro=0.7391  f1_macro=0.6765  f1_weighted=0.7436\n",
      "BestE=07 min=0.1/6.0\tBest_LOSS=0.8605  Best_ACC=0.7898  Best_AUC=0.8650\n",
      "\t\t\t best_f1_micro=0.7898  best_f1_macro=0.7236  best_f1_weighted=0.7904\n"
     ]
    },
    {
     "name": "stderr",
     "output_type": "stream",
     "text": [
      "Train E:10 - Loss:0.4503: 100%|█████████████████| 12/12 [00:02<00:00,  5.45it/s]\n",
      "Valid E:10 - Loss:1.1034: 100%|█████████████████| 36/36 [00:03<00:00, 10.81it/s]\n"
     ]
    },
    {
     "name": "stdout",
     "output_type": "stream",
     "text": [
      "Fold=01 Epoch=10 TrainLOSS=0.4503\tValidLOSS=1.1034  ValidACC=0.7058  ValidAUC=0.8221\n",
      "\t\t\t f1_micro=0.7058  f1_macro=0.6601  f1_weighted=0.7099\n",
      "BestE=07 min=0.1/6.0\tBest_LOSS=0.8605  Best_ACC=0.7898  Best_AUC=0.8650\n",
      "\t\t\t best_f1_micro=0.7898  best_f1_macro=0.7236  best_f1_weighted=0.7904\n"
     ]
    },
    {
     "name": "stderr",
     "output_type": "stream",
     "text": [
      "Train E:11 - Loss:0.4681: 100%|█████████████████| 12/12 [00:02<00:00,  5.39it/s]\n",
      "Valid E:11 - Loss:1.3306: 100%|█████████████████| 36/36 [00:03<00:00, 10.81it/s]\n"
     ]
    },
    {
     "name": "stdout",
     "output_type": "stream",
     "text": [
      "Fold=01 Epoch=11 TrainLOSS=0.4681\tValidLOSS=1.3306  ValidACC=0.7373  ValidAUC=0.8504\n",
      "\t\t\t f1_micro=0.7373  f1_macro=0.6898  f1_weighted=0.7428\n",
      "BestE=07 min=0.1/6.2\tBest_LOSS=0.8605  Best_ACC=0.7898  Best_AUC=0.8650\n",
      "\t\t\t best_f1_micro=0.7898  best_f1_macro=0.7236  best_f1_weighted=0.7904\n"
     ]
    },
    {
     "name": "stderr",
     "output_type": "stream",
     "text": [
      "Train E:12 - Loss:0.5131: 100%|█████████████████| 12/12 [00:02<00:00,  5.41it/s]\n",
      "Valid E:12 - Loss:1.0719: 100%|█████████████████| 36/36 [00:03<00:00, 10.70it/s]\n"
     ]
    },
    {
     "name": "stdout",
     "output_type": "stream",
     "text": [
      "########## >>>>>>>> Model Improved From F1-macro=0.7236314695020605 ----> loss==0.7282174547166411\n",
      "Fold=01 Epoch=12 TrainLOSS=0.5131\tValidLOSS=1.0719  ValidACC=0.7811  ValidAUC=0.8769\n",
      "\t\t\t f1_micro=0.7811  f1_macro=0.7282  f1_weighted=0.7844\n",
      "BestE=12 min=0.1/6.2\tBest_LOSS=1.0719  Best_ACC=0.7811  Best_AUC=0.8769\n",
      "\t\t\t best_f1_micro=0.7811  best_f1_macro=0.7282  best_f1_weighted=0.7844\n"
     ]
    },
    {
     "name": "stderr",
     "output_type": "stream",
     "text": [
      "Train E:13 - Loss:0.5206: 100%|█████████████████| 12/12 [00:02<00:00,  5.52it/s]\n",
      "Valid E:13 - Loss:1.0372: 100%|█████████████████| 36/36 [00:03<00:00, 10.89it/s]\n"
     ]
    },
    {
     "name": "stdout",
     "output_type": "stream",
     "text": [
      "Fold=01 Epoch=13 TrainLOSS=0.5206\tValidLOSS=1.0372  ValidACC=0.7356  ValidAUC=0.8420\n",
      "\t\t\t f1_micro=0.7356  f1_macro=0.6892  f1_weighted=0.7434\n",
      "BestE=12 min=0.1/6.3\tBest_LOSS=1.0719  Best_ACC=0.7811  Best_AUC=0.8769\n",
      "\t\t\t best_f1_micro=0.7811  best_f1_macro=0.7282  best_f1_weighted=0.7844\n"
     ]
    },
    {
     "name": "stderr",
     "output_type": "stream",
     "text": [
      "Train E:14 - Loss:0.5448: 100%|█████████████████| 12/12 [00:02<00:00,  5.44it/s]\n",
      "Valid E:14 - Loss:0.8206: 100%|█████████████████| 36/36 [00:03<00:00, 10.80it/s]\n"
     ]
    },
    {
     "name": "stdout",
     "output_type": "stream",
     "text": [
      "Fold=01 Epoch=14 TrainLOSS=0.5448\tValidLOSS=0.8206  ValidACC=0.7846  ValidAUC=0.8472\n",
      "\t\t\t f1_micro=0.7846  f1_macro=0.7027  f1_weighted=0.7786\n",
      "BestE=12 min=0.1/6.4\tBest_LOSS=1.0719  Best_ACC=0.7811  Best_AUC=0.8769\n",
      "\t\t\t best_f1_micro=0.7811  best_f1_macro=0.7282  best_f1_weighted=0.7844\n"
     ]
    },
    {
     "name": "stderr",
     "output_type": "stream",
     "text": [
      "Train E:15 - Loss:0.4072: 100%|█████████████████| 12/12 [00:02<00:00,  5.54it/s]\n",
      "Valid E:15 - Loss:0.8641: 100%|█████████████████| 36/36 [00:03<00:00, 10.85it/s]\n"
     ]
    },
    {
     "name": "stdout",
     "output_type": "stream",
     "text": [
      "Fold=01 Epoch=15 TrainLOSS=0.4072\tValidLOSS=0.8641  ValidACC=0.7356  ValidAUC=0.8559\n",
      "\t\t\t f1_micro=0.7356  f1_macro=0.6884  f1_weighted=0.7434\n",
      "BestE=12 min=0.1/6.5\tBest_LOSS=1.0719  Best_ACC=0.7811  Best_AUC=0.8769\n",
      "\t\t\t best_f1_micro=0.7811  best_f1_macro=0.7282  best_f1_weighted=0.7844\n"
     ]
    },
    {
     "name": "stderr",
     "output_type": "stream",
     "text": [
      "Train E:16 - Loss:0.3421: 100%|█████████████████| 12/12 [00:02<00:00,  5.49it/s]\n",
      "Valid E:16 - Loss:0.7710: 100%|█████████████████| 36/36 [00:03<00:00, 10.77it/s]\n"
     ]
    },
    {
     "name": "stdout",
     "output_type": "stream",
     "text": [
      "########## >>>>>>>> Model Improved From F1-macro=0.7282174547166411 ----> loss==0.762015762015762\n",
      "Fold=01 Epoch=16 TrainLOSS=0.3421\tValidLOSS=0.7710  ValidACC=0.8074  ValidAUC=0.8853\n",
      "\t\t\t f1_micro=0.8074  f1_macro=0.7620  f1_weighted=0.8072\n",
      "BestE=16 min=0.1/6.6\tBest_LOSS=0.7710  Best_ACC=0.8074  Best_AUC=0.8853\n",
      "\t\t\t best_f1_micro=0.8074  best_f1_macro=0.7620  best_f1_weighted=0.8072\n"
     ]
    },
    {
     "name": "stderr",
     "output_type": "stream",
     "text": [
      "Train E:17 - Loss:0.1840: 100%|█████████████████| 12/12 [00:02<00:00,  5.57it/s]\n",
      "Valid E:17 - Loss:0.7712: 100%|█████████████████| 36/36 [00:03<00:00, 10.70it/s]\n"
     ]
    },
    {
     "name": "stdout",
     "output_type": "stream",
     "text": [
      "Fold=01 Epoch=17 TrainLOSS=0.1840\tValidLOSS=0.7712  ValidACC=0.7951  ValidAUC=0.8805\n",
      "\t\t\t f1_micro=0.7951  f1_macro=0.7343  f1_weighted=0.7926\n",
      "BestE=16 min=0.1/6.7\tBest_LOSS=0.7710  Best_ACC=0.8074  Best_AUC=0.8853\n",
      "\t\t\t best_f1_micro=0.8074  best_f1_macro=0.7620  best_f1_weighted=0.8072\n"
     ]
    },
    {
     "name": "stderr",
     "output_type": "stream",
     "text": [
      "Train E:18 - Loss:0.2333: 100%|█████████████████| 12/12 [00:02<00:00,  5.56it/s]\n",
      "Valid E:18 - Loss:0.7835: 100%|█████████████████| 36/36 [00:03<00:00, 10.77it/s]\n"
     ]
    },
    {
     "name": "stdout",
     "output_type": "stream",
     "text": [
      "Fold=01 Epoch=18 TrainLOSS=0.2333\tValidLOSS=0.7835  ValidACC=0.7933  ValidAUC=0.8778\n",
      "\t\t\t f1_micro=0.7933  f1_macro=0.7007  f1_weighted=0.7837\n",
      "BestE=16 min=0.1/6.8\tBest_LOSS=0.7710  Best_ACC=0.8074  Best_AUC=0.8853\n",
      "\t\t\t best_f1_micro=0.8074  best_f1_macro=0.7620  best_f1_weighted=0.8072\n"
     ]
    },
    {
     "name": "stderr",
     "output_type": "stream",
     "text": [
      "Train E:19 - Loss:0.2964: 100%|█████████████████| 12/12 [00:02<00:00,  5.48it/s]\n",
      "Valid E:19 - Loss:0.8158: 100%|█████████████████| 36/36 [00:03<00:00, 10.53it/s]\n"
     ]
    },
    {
     "name": "stdout",
     "output_type": "stream",
     "text": [
      "Fold=01 Epoch=19 TrainLOSS=0.2964\tValidLOSS=0.8158  ValidACC=0.8004  ValidAUC=0.8858\n",
      "\t\t\t f1_micro=0.8004  f1_macro=0.7377  f1_weighted=0.8006\n",
      "BestE=16 min=0.1/6.9\tBest_LOSS=0.7710  Best_ACC=0.8074  Best_AUC=0.8853\n",
      "\t\t\t best_f1_micro=0.8074  best_f1_macro=0.7620  best_f1_weighted=0.8072\n"
     ]
    },
    {
     "name": "stderr",
     "output_type": "stream",
     "text": [
      "Train E:20 - Loss:0.2718: 100%|█████████████████| 12/12 [00:02<00:00,  5.58it/s]\n",
      "Valid E:20 - Loss:0.8253: 100%|█████████████████| 36/36 [00:03<00:00, 10.86it/s]\n"
     ]
    },
    {
     "name": "stdout",
     "output_type": "stream",
     "text": [
      "Fold=01 Epoch=20 TrainLOSS=0.2718\tValidLOSS=0.8253  ValidACC=0.8039  ValidAUC=0.8857\n",
      "\t\t\t f1_micro=0.8039  f1_macro=0.7449  f1_weighted=0.8024\n",
      "BestE=16 min=0.1/7.0\tBest_LOSS=0.7710  Best_ACC=0.8074  Best_AUC=0.8853\n",
      "\t\t\t best_f1_micro=0.8074  best_f1_macro=0.7620  best_f1_weighted=0.8072\n"
     ]
    },
    {
     "name": "stderr",
     "output_type": "stream",
     "text": [
      "Train E:21 - Loss:0.1895: 100%|█████████████████| 12/12 [00:02<00:00,  5.47it/s]\n",
      "Valid E:21 - Loss:0.7986: 100%|█████████████████| 36/36 [00:03<00:00, 10.78it/s]\n"
     ]
    },
    {
     "name": "stdout",
     "output_type": "stream",
     "text": [
      "Fold=01 Epoch=21 TrainLOSS=0.1895\tValidLOSS=0.7986  ValidACC=0.7688  ValidAUC=0.8673\n",
      "\t\t\t f1_micro=0.7688  f1_macro=0.6983  f1_weighted=0.7661\n",
      "BestE=16 min=0.1/7.1\tBest_LOSS=0.7710  Best_ACC=0.8074  Best_AUC=0.8853\n",
      "\t\t\t best_f1_micro=0.8074  best_f1_macro=0.7620  best_f1_weighted=0.8072\n"
     ]
    },
    {
     "name": "stderr",
     "output_type": "stream",
     "text": [
      "Train E:22 - Loss:0.2334: 100%|█████████████████| 12/12 [00:02<00:00,  5.46it/s]\n",
      "Valid E:22 - Loss:0.8254: 100%|█████████████████| 36/36 [00:03<00:00, 10.82it/s]\n"
     ]
    },
    {
     "name": "stdout",
     "output_type": "stream",
     "text": [
      "Fold=01 Epoch=22 TrainLOSS=0.2334\tValidLOSS=0.8254  ValidACC=0.7881  ValidAUC=0.8719\n",
      "\t\t\t f1_micro=0.7881  f1_macro=0.7198  f1_weighted=0.7810\n",
      "BestE=16 min=0.1/7.2\tBest_LOSS=0.7710  Best_ACC=0.8074  Best_AUC=0.8853\n",
      "\t\t\t best_f1_micro=0.8074  best_f1_macro=0.7620  best_f1_weighted=0.8072\n"
     ]
    },
    {
     "name": "stderr",
     "output_type": "stream",
     "text": [
      "Train E:23 - Loss:0.2941: 100%|█████████████████| 12/12 [00:02<00:00,  5.53it/s]\n",
      "Valid E:23 - Loss:0.8089: 100%|█████████████████| 36/36 [00:03<00:00, 10.66it/s]\n"
     ]
    },
    {
     "name": "stdout",
     "output_type": "stream",
     "text": [
      "Fold=01 Epoch=23 TrainLOSS=0.2941\tValidLOSS=0.8089  ValidACC=0.7968  ValidAUC=0.8786\n",
      "\t\t\t f1_micro=0.7968  f1_macro=0.7369  f1_weighted=0.7949\n",
      "BestE=16 min=0.1/7.3\tBest_LOSS=0.7710  Best_ACC=0.8074  Best_AUC=0.8853\n",
      "\t\t\t best_f1_micro=0.8074  best_f1_macro=0.7620  best_f1_weighted=0.8072\n"
     ]
    },
    {
     "name": "stderr",
     "output_type": "stream",
     "text": [
      "Train E:24 - Loss:0.1111: 100%|█████████████████| 12/12 [00:02<00:00,  5.32it/s]\n",
      "Valid E:24 - Loss:0.8664: 100%|█████████████████| 36/36 [00:03<00:00, 10.70it/s]\n"
     ]
    },
    {
     "name": "stdout",
     "output_type": "stream",
     "text": [
      "Fold=01 Epoch=24 TrainLOSS=0.1111\tValidLOSS=0.8664  ValidACC=0.8021  ValidAUC=0.8772\n",
      "\t\t\t f1_micro=0.8021  f1_macro=0.7326  f1_weighted=0.7990\n",
      "BestE=16 min=0.1/7.4\tBest_LOSS=0.7710  Best_ACC=0.8074  Best_AUC=0.8853\n",
      "\t\t\t best_f1_micro=0.8074  best_f1_macro=0.7620  best_f1_weighted=0.8072\n"
     ]
    },
    {
     "name": "stderr",
     "output_type": "stream",
     "text": [
      "Train E:25 - Loss:0.1699: 100%|█████████████████| 12/12 [00:02<00:00,  5.29it/s]\n",
      "Valid E:25 - Loss:0.8477: 100%|█████████████████| 36/36 [00:03<00:00, 10.73it/s]\n"
     ]
    },
    {
     "name": "stdout",
     "output_type": "stream",
     "text": [
      "Fold=01 Epoch=25 TrainLOSS=0.1699\tValidLOSS=0.8477  ValidACC=0.8196  ValidAUC=0.8808\n",
      "\t\t\t f1_micro=0.8196  f1_macro=0.7600  f1_weighted=0.8158\n",
      "BestE=16 min=0.1/7.5\tBest_LOSS=0.7710  Best_ACC=0.8074  Best_AUC=0.8853\n",
      "\t\t\t best_f1_micro=0.8074  best_f1_macro=0.7620  best_f1_weighted=0.8072\n"
     ]
    },
    {
     "name": "stderr",
     "output_type": "stream",
     "text": [
      "Train E:26 - Loss:0.0948: 100%|█████████████████| 12/12 [00:02<00:00,  5.39it/s]\n",
      "Valid E:26 - Loss:0.8343: 100%|█████████████████| 36/36 [00:03<00:00, 10.43it/s]\n"
     ]
    },
    {
     "name": "stdout",
     "output_type": "stream",
     "text": [
      "Fold=01 Epoch=26 TrainLOSS=0.0948\tValidLOSS=0.8343  ValidACC=0.8091  ValidAUC=0.8816\n",
      "\t\t\t f1_micro=0.8091  f1_macro=0.7508  f1_weighted=0.8045\n",
      "BestE=16 min=0.1/7.6\tBest_LOSS=0.7710  Best_ACC=0.8074  Best_AUC=0.8853\n",
      "\t\t\t best_f1_micro=0.8074  best_f1_macro=0.7620  best_f1_weighted=0.8072\n"
     ]
    },
    {
     "name": "stderr",
     "output_type": "stream",
     "text": [
      "Train E:27 - Loss:0.1510: 100%|█████████████████| 12/12 [00:02<00:00,  5.29it/s]\n",
      "Valid E:27 - Loss:0.8351: 100%|█████████████████| 36/36 [00:03<00:00, 10.61it/s]\n"
     ]
    },
    {
     "name": "stdout",
     "output_type": "stream",
     "text": [
      "########## >>>>>>>> Model Improved From F1-macro=0.762015762015762 ----> loss==0.7778556036303401\n",
      "Fold=01 Epoch=27 TrainLOSS=0.1510\tValidLOSS=0.8351  ValidACC=0.8301  ValidAUC=0.8789\n",
      "\t\t\t f1_micro=0.8301  f1_macro=0.7779  f1_weighted=0.8288\n",
      "BestE=27 min=0.1/7.7\tBest_LOSS=0.8351  Best_ACC=0.8301  Best_AUC=0.8789\n",
      "\t\t\t best_f1_micro=0.8301  best_f1_macro=0.7779  best_f1_weighted=0.8288\n"
     ]
    },
    {
     "name": "stderr",
     "output_type": "stream",
     "text": [
      "Train E:28 - Loss:0.0998: 100%|█████████████████| 12/12 [00:02<00:00,  5.42it/s]\n",
      "Valid E:28 - Loss:0.8774: 100%|█████████████████| 36/36 [00:03<00:00, 10.44it/s]\n"
     ]
    },
    {
     "name": "stdout",
     "output_type": "stream",
     "text": [
      "Fold=01 Epoch=28 TrainLOSS=0.0998\tValidLOSS=0.8774  ValidACC=0.8074  ValidAUC=0.8743\n",
      "\t\t\t f1_micro=0.8074  f1_macro=0.7502  f1_weighted=0.8043\n",
      "BestE=27 min=0.1/7.8\tBest_LOSS=0.8351  Best_ACC=0.8301  Best_AUC=0.8789\n",
      "\t\t\t best_f1_micro=0.8301  best_f1_macro=0.7779  best_f1_weighted=0.8288\n"
     ]
    },
    {
     "name": "stderr",
     "output_type": "stream",
     "text": [
      "Train E:29 - Loss:0.0970: 100%|█████████████████| 12/12 [00:02<00:00,  5.28it/s]\n",
      "Valid E:29 - Loss:0.8787: 100%|█████████████████| 36/36 [00:03<00:00, 10.56it/s]\n"
     ]
    },
    {
     "name": "stdout",
     "output_type": "stream",
     "text": [
      "Fold=01 Epoch=29 TrainLOSS=0.0970\tValidLOSS=0.8787  ValidACC=0.8004  ValidAUC=0.8787\n",
      "\t\t\t f1_micro=0.8004  f1_macro=0.7405  f1_weighted=0.7963\n",
      "BestE=27 min=0.1/7.9\tBest_LOSS=0.8351  Best_ACC=0.8301  Best_AUC=0.8789\n",
      "\t\t\t best_f1_micro=0.8301  best_f1_macro=0.7779  best_f1_weighted=0.8288\n"
     ]
    },
    {
     "name": "stderr",
     "output_type": "stream",
     "text": [
      "Train E:30 - Loss:0.0988: 100%|█████████████████| 12/12 [00:02<00:00,  5.24it/s]\n",
      "Valid E:30 - Loss:0.8695: 100%|█████████████████| 36/36 [00:03<00:00, 10.73it/s]\n"
     ]
    },
    {
     "name": "stdout",
     "output_type": "stream",
     "text": [
      "Fold=01 Epoch=30 TrainLOSS=0.0988\tValidLOSS=0.8695  ValidACC=0.8109  ValidAUC=0.8816\n",
      "\t\t\t f1_micro=0.8109  f1_macro=0.7602  f1_weighted=0.8083\n",
      "BestE=27 min=0.1/8.0\tBest_LOSS=0.8351  Best_ACC=0.8301  Best_AUC=0.8789\n",
      "\t\t\t best_f1_micro=0.8301  best_f1_macro=0.7779  best_f1_weighted=0.8288\n"
     ]
    },
    {
     "name": "stderr",
     "output_type": "stream",
     "text": [
      "Train E:31 - Loss:0.0802: 100%|█████████████████| 12/12 [00:02<00:00,  5.48it/s]\n",
      "Valid E:31 - Loss:0.8323: 100%|█████████████████| 36/36 [00:03<00:00, 10.72it/s]\n"
     ]
    },
    {
     "name": "stdout",
     "output_type": "stream",
     "text": [
      "Fold=01 Epoch=31 TrainLOSS=0.0802\tValidLOSS=0.8323  ValidACC=0.8126  ValidAUC=0.8832\n",
      "\t\t\t f1_micro=0.8126  f1_macro=0.7647  f1_weighted=0.8113\n",
      "BestE=27 min=0.1/8.1\tBest_LOSS=0.8351  Best_ACC=0.8301  Best_AUC=0.8789\n",
      "\t\t\t best_f1_micro=0.8301  best_f1_macro=0.7779  best_f1_weighted=0.8288\n"
     ]
    },
    {
     "name": "stderr",
     "output_type": "stream",
     "text": [
      "Train E:32 - Loss:0.1743: 100%|█████████████████| 12/12 [00:02<00:00,  5.32it/s]\n",
      "Valid E:32 - Loss:0.7979: 100%|█████████████████| 36/36 [00:03<00:00, 10.69it/s]\n"
     ]
    },
    {
     "name": "stdout",
     "output_type": "stream",
     "text": [
      "Fold=01 Epoch=32 TrainLOSS=0.1743\tValidLOSS=0.7979  ValidACC=0.8214  ValidAUC=0.8854\n",
      "\t\t\t f1_micro=0.8214  f1_macro=0.7688  f1_weighted=0.8177\n",
      "BestE=27 min=0.1/8.2\tBest_LOSS=0.8351  Best_ACC=0.8301  Best_AUC=0.8789\n",
      "\t\t\t best_f1_micro=0.8301  best_f1_macro=0.7779  best_f1_weighted=0.8288\n"
     ]
    },
    {
     "name": "stderr",
     "output_type": "stream",
     "text": [
      "Train E:33 - Loss:0.0445: 100%|█████████████████| 12/12 [00:02<00:00,  5.52it/s]\n",
      "Valid E:33 - Loss:0.8076: 100%|█████████████████| 36/36 [00:03<00:00, 10.76it/s]\n"
     ]
    },
    {
     "name": "stdout",
     "output_type": "stream",
     "text": [
      "Fold=01 Epoch=33 TrainLOSS=0.0445\tValidLOSS=0.8076  ValidACC=0.8196  ValidAUC=0.8851\n",
      "\t\t\t f1_micro=0.8196  f1_macro=0.7673  f1_weighted=0.8158\n",
      "BestE=27 min=0.1/8.3\tBest_LOSS=0.8351  Best_ACC=0.8301  Best_AUC=0.8789\n",
      "\t\t\t best_f1_micro=0.8301  best_f1_macro=0.7779  best_f1_weighted=0.8288\n"
     ]
    },
    {
     "name": "stderr",
     "output_type": "stream",
     "text": [
      "Train E:34 - Loss:0.1003: 100%|█████████████████| 12/12 [00:02<00:00,  5.49it/s]\n",
      "Valid E:34 - Loss:0.8095: 100%|█████████████████| 36/36 [00:03<00:00, 10.69it/s]\n"
     ]
    },
    {
     "name": "stdout",
     "output_type": "stream",
     "text": [
      "Fold=01 Epoch=34 TrainLOSS=0.1003\tValidLOSS=0.8095  ValidACC=0.8214  ValidAUC=0.8838\n",
      "\t\t\t f1_micro=0.8214  f1_macro=0.7628  f1_weighted=0.8169\n",
      "BestE=27 min=0.1/8.4\tBest_LOSS=0.8351  Best_ACC=0.8301  Best_AUC=0.8789\n",
      "\t\t\t best_f1_micro=0.8301  best_f1_macro=0.7779  best_f1_weighted=0.8288\n"
     ]
    },
    {
     "name": "stderr",
     "output_type": "stream",
     "text": [
      "Train E:35 - Loss:0.0329: 100%|█████████████████| 12/12 [00:02<00:00,  5.64it/s]\n",
      "Valid E:35 - Loss:0.7940: 100%|█████████████████| 36/36 [00:03<00:00, 10.88it/s]\n"
     ]
    },
    {
     "name": "stdout",
     "output_type": "stream",
     "text": [
      "Fold=01 Epoch=35 TrainLOSS=0.0329\tValidLOSS=0.7940  ValidACC=0.8074  ValidAUC=0.8858\n",
      "\t\t\t f1_micro=0.8074  f1_macro=0.7534  f1_weighted=0.8050\n",
      "BestE=27 min=0.1/8.5\tBest_LOSS=0.8351  Best_ACC=0.8301  Best_AUC=0.8789\n",
      "\t\t\t best_f1_micro=0.8301  best_f1_macro=0.7779  best_f1_weighted=0.8288\n"
     ]
    },
    {
     "name": "stderr",
     "output_type": "stream",
     "text": [
      "Train E:36 - Loss:0.0273: 100%|█████████████████| 12/12 [00:02<00:00,  5.60it/s]\n",
      "Valid E:36 - Loss:0.8004: 100%|█████████████████| 36/36 [00:03<00:00, 10.71it/s]\n"
     ]
    },
    {
     "name": "stdout",
     "output_type": "stream",
     "text": [
      "Fold=01 Epoch=36 TrainLOSS=0.0273\tValidLOSS=0.8004  ValidACC=0.8074  ValidAUC=0.8844\n",
      "\t\t\t f1_micro=0.8074  f1_macro=0.7559  f1_weighted=0.8048\n",
      "BestE=27 min=0.1/8.6\tBest_LOSS=0.8351  Best_ACC=0.8301  Best_AUC=0.8789\n",
      "\t\t\t best_f1_micro=0.8301  best_f1_macro=0.7779  best_f1_weighted=0.8288\n"
     ]
    },
    {
     "name": "stderr",
     "output_type": "stream",
     "text": [
      "Train E:37 - Loss:0.0702: 100%|█████████████████| 12/12 [00:02<00:00,  5.46it/s]\n",
      "Valid E:37 - Loss:0.7835: 100%|█████████████████| 36/36 [00:03<00:00, 10.63it/s]\n"
     ]
    },
    {
     "name": "stdout",
     "output_type": "stream",
     "text": [
      "Fold=01 Epoch=37 TrainLOSS=0.0702\tValidLOSS=0.7835  ValidACC=0.8196  ValidAUC=0.8832\n",
      "\t\t\t f1_micro=0.8196  f1_macro=0.7700  f1_weighted=0.8160\n",
      "BestE=27 min=0.1/8.7\tBest_LOSS=0.8351  Best_ACC=0.8301  Best_AUC=0.8789\n",
      "\t\t\t best_f1_micro=0.8301  best_f1_macro=0.7779  best_f1_weighted=0.8288\n"
     ]
    },
    {
     "name": "stderr",
     "output_type": "stream",
     "text": [
      "Train E:38 - Loss:0.0315: 100%|█████████████████| 12/12 [00:02<00:00,  5.55it/s]\n",
      "Valid E:38 - Loss:0.8170: 100%|█████████████████| 36/36 [00:03<00:00, 10.64it/s]\n"
     ]
    },
    {
     "name": "stdout",
     "output_type": "stream",
     "text": [
      "Fold=01 Epoch=38 TrainLOSS=0.0315\tValidLOSS=0.8170  ValidACC=0.8161  ValidAUC=0.8830\n",
      "\t\t\t f1_micro=0.8161  f1_macro=0.7647  f1_weighted=0.8126\n",
      "BestE=27 min=0.1/8.8\tBest_LOSS=0.8351  Best_ACC=0.8301  Best_AUC=0.8789\n",
      "\t\t\t best_f1_micro=0.8301  best_f1_macro=0.7779  best_f1_weighted=0.8288\n"
     ]
    },
    {
     "name": "stderr",
     "output_type": "stream",
     "text": [
      "Train E:39 - Loss:0.0348: 100%|█████████████████| 12/12 [00:02<00:00,  5.51it/s]\n",
      "Valid E:39 - Loss:0.8197: 100%|█████████████████| 36/36 [00:03<00:00, 10.40it/s]\n"
     ]
    },
    {
     "name": "stdout",
     "output_type": "stream",
     "text": [
      "Fold=01 Epoch=39 TrainLOSS=0.0348\tValidLOSS=0.8197  ValidACC=0.8126  ValidAUC=0.8817\n",
      "\t\t\t f1_micro=0.8126  f1_macro=0.7643  f1_weighted=0.8100\n",
      "BestE=27 min=0.1/8.9\tBest_LOSS=0.8351  Best_ACC=0.8301  Best_AUC=0.8789\n",
      "\t\t\t best_f1_micro=0.8301  best_f1_macro=0.7779  best_f1_weighted=0.8288\n"
     ]
    },
    {
     "name": "stderr",
     "output_type": "stream",
     "text": [
      "Train E:40 - Loss:0.0398: 100%|█████████████████| 12/12 [00:02<00:00,  5.49it/s]\n",
      "Valid E:40 - Loss:0.8000: 100%|█████████████████| 36/36 [00:03<00:00, 10.72it/s]\n"
     ]
    },
    {
     "name": "stdout",
     "output_type": "stream",
     "text": [
      "Fold=01 Epoch=40 TrainLOSS=0.0398\tValidLOSS=0.8000  ValidACC=0.8091  ValidAUC=0.8829\n",
      "\t\t\t f1_micro=0.8091  f1_macro=0.7614  f1_weighted=0.8062\n",
      "BestE=27 min=0.1/9.0\tBest_LOSS=0.8351  Best_ACC=0.8301  Best_AUC=0.8789\n",
      "\t\t\t best_f1_micro=0.8301  best_f1_macro=0.7779  best_f1_weighted=0.8288\n"
     ]
    },
    {
     "name": "stderr",
     "output_type": "stream",
     "text": [
      "Train E:41 - Loss:0.0543: 100%|█████████████████| 12/12 [00:02<00:00,  5.57it/s]\n",
      "Valid E:41 - Loss:0.8141: 100%|█████████████████| 36/36 [00:03<00:00, 10.71it/s]\n"
     ]
    },
    {
     "name": "stdout",
     "output_type": "stream",
     "text": [
      "Fold=01 Epoch=41 TrainLOSS=0.0543\tValidLOSS=0.8141  ValidACC=0.8004  ValidAUC=0.8828\n",
      "\t\t\t f1_micro=0.8004  f1_macro=0.7541  f1_weighted=0.7983\n",
      "BestE=27 min=0.1/9.1\tBest_LOSS=0.8351  Best_ACC=0.8301  Best_AUC=0.8789\n",
      "\t\t\t best_f1_micro=0.8301  best_f1_macro=0.7779  best_f1_weighted=0.8288\n"
     ]
    },
    {
     "name": "stderr",
     "output_type": "stream",
     "text": [
      "Train E:42 - Loss:0.0714: 100%|█████████████████| 12/12 [00:02<00:00,  5.51it/s]\n",
      "Valid E:42 - Loss:0.8002: 100%|█████████████████| 36/36 [00:03<00:00, 10.42it/s]\n"
     ]
    },
    {
     "name": "stdout",
     "output_type": "stream",
     "text": [
      "Fold=01 Epoch=42 TrainLOSS=0.0714\tValidLOSS=0.8002  ValidACC=0.8021  ValidAUC=0.8842\n",
      "\t\t\t f1_micro=0.8021  f1_macro=0.7551  f1_weighted=0.7997\n",
      "BestE=27 min=0.1/9.2\tBest_LOSS=0.8351  Best_ACC=0.8301  Best_AUC=0.8789\n",
      "\t\t\t best_f1_micro=0.8301  best_f1_macro=0.7779  best_f1_weighted=0.8288\n"
     ]
    },
    {
     "name": "stderr",
     "output_type": "stream",
     "text": [
      "Train E:43 - Loss:0.0413: 100%|█████████████████| 12/12 [00:02<00:00,  5.48it/s]\n",
      "Valid E:43 - Loss:0.8088: 100%|█████████████████| 36/36 [00:03<00:00, 10.90it/s]\n"
     ]
    },
    {
     "name": "stdout",
     "output_type": "stream",
     "text": [
      "Fold=01 Epoch=43 TrainLOSS=0.0413\tValidLOSS=0.8088  ValidACC=0.8161  ValidAUC=0.8837\n",
      "\t\t\t f1_micro=0.8161  f1_macro=0.7715  f1_weighted=0.8136\n",
      "BestE=27 min=0.1/9.3\tBest_LOSS=0.8351  Best_ACC=0.8301  Best_AUC=0.8789\n",
      "\t\t\t best_f1_micro=0.8301  best_f1_macro=0.7779  best_f1_weighted=0.8288\n"
     ]
    },
    {
     "name": "stderr",
     "output_type": "stream",
     "text": [
      "Train E:44 - Loss:0.0168: 100%|█████████████████| 12/12 [00:02<00:00,  5.55it/s]\n",
      "Valid E:44 - Loss:0.8019: 100%|█████████████████| 36/36 [00:03<00:00, 10.77it/s]\n"
     ]
    },
    {
     "name": "stdout",
     "output_type": "stream",
     "text": [
      "Fold=01 Epoch=44 TrainLOSS=0.0168\tValidLOSS=0.8019  ValidACC=0.8179  ValidAUC=0.8847\n",
      "\t\t\t f1_micro=0.8179  f1_macro=0.7673  f1_weighted=0.8143\n",
      "BestE=27 min=0.1/9.4\tBest_LOSS=0.8351  Best_ACC=0.8301  Best_AUC=0.8789\n",
      "\t\t\t best_f1_micro=0.8301  best_f1_macro=0.7779  best_f1_weighted=0.8288\n"
     ]
    },
    {
     "name": "stderr",
     "output_type": "stream",
     "text": [
      "Train E:45 - Loss:0.0636: 100%|█████████████████| 12/12 [00:02<00:00,  5.53it/s]\n",
      "Valid E:45 - Loss:0.8180: 100%|█████████████████| 36/36 [00:03<00:00, 10.73it/s]\n"
     ]
    },
    {
     "name": "stdout",
     "output_type": "stream",
     "text": [
      "Fold=01 Epoch=45 TrainLOSS=0.0636\tValidLOSS=0.8180  ValidACC=0.8231  ValidAUC=0.8846\n",
      "\t\t\t f1_micro=0.8231  f1_macro=0.7714  f1_weighted=0.8196\n",
      "BestE=27 min=0.1/9.5\tBest_LOSS=0.8351  Best_ACC=0.8301  Best_AUC=0.8789\n",
      "\t\t\t best_f1_micro=0.8301  best_f1_macro=0.7779  best_f1_weighted=0.8288\n"
     ]
    },
    {
     "name": "stderr",
     "output_type": "stream",
     "text": [
      "Train E:46 - Loss:0.0387: 100%|█████████████████| 12/12 [00:02<00:00,  5.54it/s]\n",
      "Valid E:46 - Loss:0.8034: 100%|█████████████████| 36/36 [00:03<00:00, 10.91it/s]\n"
     ]
    },
    {
     "name": "stdout",
     "output_type": "stream",
     "text": [
      "Fold=01 Epoch=46 TrainLOSS=0.0387\tValidLOSS=0.8034  ValidACC=0.8179  ValidAUC=0.8845\n",
      "\t\t\t f1_micro=0.8179  f1_macro=0.7680  f1_weighted=0.8148\n",
      "BestE=27 min=0.1/9.6\tBest_LOSS=0.8351  Best_ACC=0.8301  Best_AUC=0.8789\n",
      "\t\t\t best_f1_micro=0.8301  best_f1_macro=0.7779  best_f1_weighted=0.8288\n"
     ]
    },
    {
     "name": "stderr",
     "output_type": "stream",
     "text": [
      "Train E:47 - Loss:0.0218: 100%|█████████████████| 12/12 [00:02<00:00,  5.59it/s]\n",
      "Valid E:47 - Loss:0.8062: 100%|█████████████████| 36/36 [00:03<00:00, 10.72it/s]\n"
     ]
    },
    {
     "name": "stdout",
     "output_type": "stream",
     "text": [
      "Fold=01 Epoch=47 TrainLOSS=0.0218\tValidLOSS=0.8062  ValidACC=0.8074  ValidAUC=0.8838\n",
      "\t\t\t f1_micro=0.8074  f1_macro=0.7589  f1_weighted=0.8048\n",
      "BestE=27 min=0.1/9.7\tBest_LOSS=0.8351  Best_ACC=0.8301  Best_AUC=0.8789\n",
      "\t\t\t best_f1_micro=0.8301  best_f1_macro=0.7779  best_f1_weighted=0.8288\n"
     ]
    },
    {
     "name": "stderr",
     "output_type": "stream",
     "text": [
      "Train E:48 - Loss:0.0341: 100%|█████████████████| 12/12 [00:02<00:00,  5.57it/s]\n",
      "Valid E:48 - Loss:0.7954: 100%|█████████████████| 36/36 [00:03<00:00, 10.96it/s]\n"
     ]
    },
    {
     "name": "stdout",
     "output_type": "stream",
     "text": [
      "Fold=01 Epoch=48 TrainLOSS=0.0341\tValidLOSS=0.7954  ValidACC=0.8056  ValidAUC=0.8840\n",
      "\t\t\t f1_micro=0.8056  f1_macro=0.7600  f1_weighted=0.8025\n",
      "BestE=27 min=0.1/9.8\tBest_LOSS=0.8351  Best_ACC=0.8301  Best_AUC=0.8789\n",
      "\t\t\t best_f1_micro=0.8301  best_f1_macro=0.7779  best_f1_weighted=0.8288\n"
     ]
    },
    {
     "name": "stderr",
     "output_type": "stream",
     "text": [
      "Train E:49 - Loss:0.0351: 100%|█████████████████| 12/12 [00:02<00:00,  5.63it/s]\n",
      "Valid E:49 - Loss:0.8103: 100%|█████████████████| 36/36 [00:03<00:00, 10.78it/s]\n"
     ]
    },
    {
     "name": "stdout",
     "output_type": "stream",
     "text": [
      "Fold=01 Epoch=49 TrainLOSS=0.0351\tValidLOSS=0.8103  ValidACC=0.8161  ValidAUC=0.8848\n",
      "\t\t\t f1_micro=0.8161  f1_macro=0.7662  f1_weighted=0.8129\n",
      "BestE=27 min=0.1/9.9\tBest_LOSS=0.8351  Best_ACC=0.8301  Best_AUC=0.8789\n",
      "\t\t\t best_f1_micro=0.8301  best_f1_macro=0.7779  best_f1_weighted=0.8288\n",
      "FOLD: 2\n",
      "(1143, 6) (571, 6)\n"
     ]
    },
    {
     "name": "stderr",
     "output_type": "stream",
     "text": [
      "Train E:0 - Loss:2.0805: 100%|██████████████████| 12/12 [00:02<00:00,  5.56it/s]\n",
      "Valid E:0 - Loss:2.4338: 100%|██████████████████| 36/36 [00:03<00:00, 10.76it/s]\n"
     ]
    },
    {
     "name": "stdout",
     "output_type": "stream",
     "text": [
      "########## >>>>>>>> Model Improved From F1-macro=0 ----> loss==0.1993037756296979\n",
      "Fold=02 Epoch=00 TrainLOSS=2.0805\tValidLOSS=2.4338  ValidACC=0.1979  ValidAUC=0.4747\n",
      "\t\t\t f1_micro=0.1979  f1_macro=0.1993  f1_weighted=0.1979\n",
      "BestE=00 min=0.1/10.0\tBest_LOSS=2.4338  Best_ACC=0.1979  Best_AUC=0.4747\n",
      "\t\t\t best_f1_micro=0.1979  best_f1_macro=0.1993  best_f1_weighted=0.1979\n"
     ]
    },
    {
     "name": "stderr",
     "output_type": "stream",
     "text": [
      "Train E:1 - Loss:1.2168: 100%|██████████████████| 12/12 [00:02<00:00,  5.52it/s]\n",
      "Valid E:1 - Loss:4.1809: 100%|██████████████████| 36/36 [00:03<00:00, 10.83it/s]\n"
     ]
    },
    {
     "name": "stdout",
     "output_type": "stream",
     "text": [
      "Fold=02 Epoch=01 TrainLOSS=1.2168\tValidLOSS=4.1809  ValidACC=0.1996  ValidAUC=0.4425\n",
      "\t\t\t f1_micro=0.1996  f1_macro=0.1722  f1_weighted=0.1896\n",
      "BestE=00 min=0.1/10.1\tBest_LOSS=2.4338  Best_ACC=0.1979  Best_AUC=0.4747\n",
      "\t\t\t best_f1_micro=0.1979  best_f1_macro=0.1993  best_f1_weighted=0.1979\n"
     ]
    },
    {
     "name": "stderr",
     "output_type": "stream",
     "text": [
      "Train E:2 - Loss:1.1341: 100%|██████████████████| 12/12 [00:02<00:00,  5.46it/s]\n",
      "Valid E:2 - Loss:2.7756: 100%|██████████████████| 36/36 [00:03<00:00,  9.98it/s]\n"
     ]
    },
    {
     "name": "stdout",
     "output_type": "stream",
     "text": [
      "########## >>>>>>>> Model Improved From F1-macro=0.1993037756296979 ----> loss==0.3206962900721471\n",
      "Fold=02 Epoch=02 TrainLOSS=1.1341\tValidLOSS=2.7756  ValidACC=0.4046  ValidAUC=0.5675\n",
      "\t\t\t f1_micro=0.4046  f1_macro=0.3207  f1_weighted=0.3882\n",
      "BestE=02 min=0.1/10.2\tBest_LOSS=2.7756  Best_ACC=0.4046  Best_AUC=0.5675\n",
      "\t\t\t best_f1_micro=0.4046  best_f1_macro=0.3207  best_f1_weighted=0.3882\n"
     ]
    },
    {
     "name": "stderr",
     "output_type": "stream",
     "text": [
      "Train E:3 - Loss:0.8006: 100%|██████████████████| 12/12 [00:02<00:00,  4.95it/s]\n",
      "Valid E:3 - Loss:2.5520: 100%|██████████████████| 36/36 [00:03<00:00,  9.96it/s]\n"
     ]
    },
    {
     "name": "stdout",
     "output_type": "stream",
     "text": [
      "########## >>>>>>>> Model Improved From F1-macro=0.3206962900721471 ----> loss==0.36596468705242097\n",
      "Fold=02 Epoch=03 TrainLOSS=0.8006\tValidLOSS=2.5520  ValidACC=0.3748  ValidAUC=0.7241\n",
      "\t\t\t f1_micro=0.3748  f1_macro=0.3660  f1_weighted=0.4108\n",
      "BestE=03 min=0.1/10.3\tBest_LOSS=2.5520  Best_ACC=0.3748  Best_AUC=0.7241\n",
      "\t\t\t best_f1_micro=0.3748  best_f1_macro=0.3660  best_f1_weighted=0.4108\n"
     ]
    },
    {
     "name": "stderr",
     "output_type": "stream",
     "text": [
      "Train E:4 - Loss:0.9806: 100%|██████████████████| 12/12 [00:02<00:00,  5.29it/s]\n",
      "Valid E:4 - Loss:1.4836: 100%|██████████████████| 36/36 [00:03<00:00, 10.80it/s]\n"
     ]
    },
    {
     "name": "stdout",
     "output_type": "stream",
     "text": [
      "########## >>>>>>>> Model Improved From F1-macro=0.36596468705242097 ----> loss==0.5585838334649826\n",
      "Fold=02 Epoch=04 TrainLOSS=0.9806\tValidLOSS=1.4836  ValidACC=0.6392  ValidAUC=0.7666\n",
      "\t\t\t f1_micro=0.6392  f1_macro=0.5586  f1_weighted=0.6296\n",
      "BestE=04 min=0.1/10.4\tBest_LOSS=1.4836  Best_ACC=0.6392  Best_AUC=0.7666\n",
      "\t\t\t best_f1_micro=0.6392  best_f1_macro=0.5586  best_f1_weighted=0.6296\n"
     ]
    },
    {
     "name": "stderr",
     "output_type": "stream",
     "text": [
      "Train E:5 - Loss:0.8138: 100%|██████████████████| 12/12 [00:02<00:00,  5.43it/s]\n",
      "Valid E:5 - Loss:1.2223: 100%|██████████████████| 36/36 [00:03<00:00, 10.70it/s]\n"
     ]
    },
    {
     "name": "stdout",
     "output_type": "stream",
     "text": [
      "########## >>>>>>>> Model Improved From F1-macro=0.5585838334649826 ----> loss==0.609551172646181\n",
      "Fold=02 Epoch=05 TrainLOSS=0.8138\tValidLOSS=1.2223  ValidACC=0.6813  ValidAUC=0.8256\n",
      "\t\t\t f1_micro=0.6813  f1_macro=0.6096  f1_weighted=0.6720\n",
      "BestE=05 min=0.1/10.5\tBest_LOSS=1.2223  Best_ACC=0.6813  Best_AUC=0.8256\n",
      "\t\t\t best_f1_micro=0.6813  best_f1_macro=0.6096  best_f1_weighted=0.6720\n"
     ]
    },
    {
     "name": "stderr",
     "output_type": "stream",
     "text": [
      "Train E:6 - Loss:0.7486: 100%|██████████████████| 12/12 [00:02<00:00,  5.48it/s]\n",
      "Valid E:6 - Loss:1.2105: 100%|██████████████████| 36/36 [00:03<00:00, 10.79it/s]\n"
     ]
    },
    {
     "name": "stdout",
     "output_type": "stream",
     "text": [
      "########## >>>>>>>> Model Improved From F1-macro=0.609551172646181 ----> loss==0.6204804557716485\n",
      "Fold=02 Epoch=06 TrainLOSS=0.7486\tValidLOSS=1.2105  ValidACC=0.6743  ValidAUC=0.8286\n",
      "\t\t\t f1_micro=0.6743  f1_macro=0.6205  f1_weighted=0.6918\n",
      "BestE=06 min=0.1/10.6\tBest_LOSS=1.2105  Best_ACC=0.6743  Best_AUC=0.8286\n",
      "\t\t\t best_f1_micro=0.6743  best_f1_macro=0.6205  best_f1_weighted=0.6918\n"
     ]
    },
    {
     "name": "stderr",
     "output_type": "stream",
     "text": [
      "Train E:7 - Loss:0.6820: 100%|██████████████████| 12/12 [00:02<00:00,  5.43it/s]\n",
      "Valid E:7 - Loss:0.9032: 100%|██████████████████| 36/36 [00:03<00:00, 10.76it/s]\n"
     ]
    },
    {
     "name": "stdout",
     "output_type": "stream",
     "text": [
      "########## >>>>>>>> Model Improved From F1-macro=0.6204804557716485 ----> loss==0.664220435009201\n",
      "Fold=02 Epoch=07 TrainLOSS=0.6820\tValidLOSS=0.9032  ValidACC=0.7145  ValidAUC=0.8004\n",
      "\t\t\t f1_micro=0.7145  f1_macro=0.6642  f1_weighted=0.7136\n",
      "BestE=07 min=0.1/10.7\tBest_LOSS=0.9032  Best_ACC=0.7145  Best_AUC=0.8004\n",
      "\t\t\t best_f1_micro=0.7145  best_f1_macro=0.6642  best_f1_weighted=0.7136\n"
     ]
    },
    {
     "name": "stderr",
     "output_type": "stream",
     "text": [
      "Train E:8 - Loss:0.6935: 100%|██████████████████| 12/12 [00:02<00:00,  5.09it/s]\n",
      "Valid E:8 - Loss:1.0503: 100%|██████████████████| 36/36 [00:03<00:00, 10.73it/s]\n"
     ]
    },
    {
     "name": "stdout",
     "output_type": "stream",
     "text": [
      "########## >>>>>>>> Model Improved From F1-macro=0.664220435009201 ----> loss==0.6760205961564733\n",
      "Fold=02 Epoch=08 TrainLOSS=0.6935\tValidLOSS=1.0503  ValidACC=0.7285  ValidAUC=0.8208\n",
      "\t\t\t f1_micro=0.7285  f1_macro=0.6760  f1_weighted=0.7260\n",
      "BestE=08 min=0.1/10.8\tBest_LOSS=1.0503  Best_ACC=0.7285  Best_AUC=0.8208\n",
      "\t\t\t best_f1_micro=0.7285  best_f1_macro=0.6760  best_f1_weighted=0.7260\n"
     ]
    },
    {
     "name": "stderr",
     "output_type": "stream",
     "text": [
      "Train E:9 - Loss:0.6301: 100%|██████████████████| 12/12 [00:02<00:00,  5.61it/s]\n",
      "Valid E:9 - Loss:1.0782: 100%|██████████████████| 36/36 [00:03<00:00, 10.60it/s]\n"
     ]
    },
    {
     "name": "stdout",
     "output_type": "stream",
     "text": [
      "Fold=02 Epoch=09 TrainLOSS=0.6301\tValidLOSS=1.0782  ValidACC=0.6970  ValidAUC=0.8101\n",
      "\t\t\t f1_micro=0.6970  f1_macro=0.6384  f1_weighted=0.7032\n",
      "BestE=08 min=0.1/10.9\tBest_LOSS=1.0503  Best_ACC=0.7285  Best_AUC=0.8208\n",
      "\t\t\t best_f1_micro=0.7285  best_f1_macro=0.6760  best_f1_weighted=0.7260\n"
     ]
    },
    {
     "name": "stderr",
     "output_type": "stream",
     "text": [
      "Train E:10 - Loss:0.5200: 100%|█████████████████| 12/12 [00:02<00:00,  5.49it/s]\n",
      "Valid E:10 - Loss:0.9435: 100%|█████████████████| 36/36 [00:03<00:00, 10.70it/s]\n"
     ]
    },
    {
     "name": "stdout",
     "output_type": "stream",
     "text": [
      "Fold=02 Epoch=10 TrainLOSS=0.5200\tValidLOSS=0.9435  ValidACC=0.7285  ValidAUC=0.8298\n",
      "\t\t\t f1_micro=0.7285  f1_macro=0.6719  f1_weighted=0.7284\n",
      "BestE=08 min=0.1/11.0\tBest_LOSS=1.0503  Best_ACC=0.7285  Best_AUC=0.8208\n",
      "\t\t\t best_f1_micro=0.7285  best_f1_macro=0.6760  best_f1_weighted=0.7260\n"
     ]
    },
    {
     "name": "stderr",
     "output_type": "stream",
     "text": [
      "Train E:11 - Loss:0.4707: 100%|█████████████████| 12/12 [00:02<00:00,  5.45it/s]\n",
      "Valid E:11 - Loss:0.8377: 100%|█████████████████| 36/36 [00:03<00:00, 10.66it/s]\n"
     ]
    },
    {
     "name": "stdout",
     "output_type": "stream",
     "text": [
      "########## >>>>>>>> Model Improved From F1-macro=0.6760205961564733 ----> loss==0.686225505703705\n",
      "Fold=02 Epoch=11 TrainLOSS=0.4707\tValidLOSS=0.8377  ValidACC=0.7426  ValidAUC=0.8473\n",
      "\t\t\t f1_micro=0.7426  f1_macro=0.6862  f1_weighted=0.7461\n",
      "BestE=11 min=0.1/11.1\tBest_LOSS=0.8377  Best_ACC=0.7426  Best_AUC=0.8473\n",
      "\t\t\t best_f1_micro=0.7426  best_f1_macro=0.6862  best_f1_weighted=0.7461\n"
     ]
    },
    {
     "name": "stderr",
     "output_type": "stream",
     "text": [
      "Train E:12 - Loss:0.3754: 100%|█████████████████| 12/12 [00:02<00:00,  5.62it/s]\n",
      "Valid E:12 - Loss:0.8267: 100%|█████████████████| 36/36 [00:03<00:00, 10.91it/s]\n"
     ]
    },
    {
     "name": "stdout",
     "output_type": "stream",
     "text": [
      "########## >>>>>>>> Model Improved From F1-macro=0.686225505703705 ----> loss==0.7155950472067302\n",
      "Fold=02 Epoch=12 TrainLOSS=0.3754\tValidLOSS=0.8267  ValidACC=0.7618  ValidAUC=0.8575\n",
      "\t\t\t f1_micro=0.7618  f1_macro=0.7156  f1_weighted=0.7624\n",
      "BestE=12 min=0.1/11.2\tBest_LOSS=0.8267  Best_ACC=0.7618  Best_AUC=0.8575\n",
      "\t\t\t best_f1_micro=0.7618  best_f1_macro=0.7156  best_f1_weighted=0.7624\n"
     ]
    },
    {
     "name": "stderr",
     "output_type": "stream",
     "text": [
      "Train E:13 - Loss:0.4351: 100%|█████████████████| 12/12 [00:02<00:00,  5.61it/s]\n",
      "Valid E:13 - Loss:0.7881: 100%|█████████████████| 36/36 [00:03<00:00, 10.88it/s]\n"
     ]
    },
    {
     "name": "stdout",
     "output_type": "stream",
     "text": [
      "Fold=02 Epoch=13 TrainLOSS=0.4351\tValidLOSS=0.7881  ValidACC=0.7461  ValidAUC=0.8313\n",
      "\t\t\t f1_micro=0.7461  f1_macro=0.7026  f1_weighted=0.7483\n",
      "BestE=12 min=0.1/11.3\tBest_LOSS=0.8267  Best_ACC=0.7618  Best_AUC=0.8575\n",
      "\t\t\t best_f1_micro=0.7618  best_f1_macro=0.7156  best_f1_weighted=0.7624\n"
     ]
    },
    {
     "name": "stderr",
     "output_type": "stream",
     "text": [
      "Train E:14 - Loss:0.3282: 100%|█████████████████| 12/12 [00:02<00:00,  5.64it/s]\n",
      "Valid E:14 - Loss:0.7979: 100%|█████████████████| 36/36 [00:03<00:00, 10.77it/s]\n"
     ]
    },
    {
     "name": "stdout",
     "output_type": "stream",
     "text": [
      "Fold=02 Epoch=14 TrainLOSS=0.3282\tValidLOSS=0.7979  ValidACC=0.7566  ValidAUC=0.8474\n",
      "\t\t\t f1_micro=0.7566  f1_macro=0.7043  f1_weighted=0.7548\n",
      "BestE=12 min=0.1/11.4\tBest_LOSS=0.8267  Best_ACC=0.7618  Best_AUC=0.8575\n",
      "\t\t\t best_f1_micro=0.7618  best_f1_macro=0.7156  best_f1_weighted=0.7624\n"
     ]
    },
    {
     "name": "stderr",
     "output_type": "stream",
     "text": [
      "Train E:15 - Loss:0.2537: 100%|█████████████████| 12/12 [00:02<00:00,  5.53it/s]\n",
      "Valid E:15 - Loss:0.8150: 100%|█████████████████| 36/36 [00:03<00:00, 10.76it/s]\n"
     ]
    },
    {
     "name": "stdout",
     "output_type": "stream",
     "text": [
      "Fold=02 Epoch=15 TrainLOSS=0.2537\tValidLOSS=0.8150  ValidACC=0.7513  ValidAUC=0.8466\n",
      "\t\t\t f1_micro=0.7513  f1_macro=0.6965  f1_weighted=0.7482\n",
      "BestE=12 min=0.1/11.5\tBest_LOSS=0.8267  Best_ACC=0.7618  Best_AUC=0.8575\n",
      "\t\t\t best_f1_micro=0.7618  best_f1_macro=0.7156  best_f1_weighted=0.7624\n"
     ]
    },
    {
     "name": "stderr",
     "output_type": "stream",
     "text": [
      "Train E:16 - Loss:0.1955: 100%|█████████████████| 12/12 [00:02<00:00,  5.59it/s]\n",
      "Valid E:16 - Loss:0.9358: 100%|█████████████████| 36/36 [00:03<00:00, 10.73it/s]\n"
     ]
    },
    {
     "name": "stdout",
     "output_type": "stream",
     "text": [
      "########## >>>>>>>> Model Improved From F1-macro=0.7155950472067302 ----> loss==0.7166725547052311\n",
      "Fold=02 Epoch=16 TrainLOSS=0.1955\tValidLOSS=0.9358  ValidACC=0.7601  ValidAUC=0.8594\n",
      "\t\t\t f1_micro=0.7601  f1_macro=0.7167  f1_weighted=0.7590\n",
      "BestE=16 min=0.1/11.6\tBest_LOSS=0.9358  Best_ACC=0.7601  Best_AUC=0.8594\n",
      "\t\t\t best_f1_micro=0.7601  best_f1_macro=0.7167  best_f1_weighted=0.7590\n"
     ]
    },
    {
     "name": "stderr",
     "output_type": "stream",
     "text": [
      "Train E:17 - Loss:0.1685: 100%|█████████████████| 12/12 [00:02<00:00,  5.59it/s]\n",
      "Valid E:17 - Loss:0.9830: 100%|█████████████████| 36/36 [00:03<00:00, 10.82it/s]\n"
     ]
    },
    {
     "name": "stdout",
     "output_type": "stream",
     "text": [
      "Fold=02 Epoch=17 TrainLOSS=0.1685\tValidLOSS=0.9830  ValidACC=0.7250  ValidAUC=0.8434\n",
      "\t\t\t f1_micro=0.7250  f1_macro=0.6649  f1_weighted=0.7245\n",
      "BestE=16 min=0.1/11.7\tBest_LOSS=0.9358  Best_ACC=0.7601  Best_AUC=0.8594\n",
      "\t\t\t best_f1_micro=0.7601  best_f1_macro=0.7167  best_f1_weighted=0.7590\n"
     ]
    },
    {
     "name": "stderr",
     "output_type": "stream",
     "text": [
      "Train E:18 - Loss:0.2743: 100%|█████████████████| 12/12 [00:02<00:00,  5.61it/s]\n",
      "Valid E:18 - Loss:0.8976: 100%|█████████████████| 36/36 [00:03<00:00, 10.83it/s]\n"
     ]
    },
    {
     "name": "stdout",
     "output_type": "stream",
     "text": [
      "Fold=02 Epoch=18 TrainLOSS=0.2743\tValidLOSS=0.8976  ValidACC=0.7443  ValidAUC=0.8469\n",
      "\t\t\t f1_micro=0.7443  f1_macro=0.6893  f1_weighted=0.7400\n",
      "BestE=16 min=0.1/11.8\tBest_LOSS=0.9358  Best_ACC=0.7601  Best_AUC=0.8594\n",
      "\t\t\t best_f1_micro=0.7601  best_f1_macro=0.7167  best_f1_weighted=0.7590\n"
     ]
    },
    {
     "name": "stderr",
     "output_type": "stream",
     "text": [
      "Train E:19 - Loss:0.1440: 100%|█████████████████| 12/12 [00:02<00:00,  5.51it/s]\n",
      "Valid E:19 - Loss:0.8927: 100%|█████████████████| 36/36 [00:03<00:00, 10.81it/s]\n"
     ]
    },
    {
     "name": "stdout",
     "output_type": "stream",
     "text": [
      "Fold=02 Epoch=19 TrainLOSS=0.1440\tValidLOSS=0.8927  ValidACC=0.7338  ValidAUC=0.8436\n",
      "\t\t\t f1_micro=0.7338  f1_macro=0.6772  f1_weighted=0.7313\n",
      "BestE=16 min=0.1/11.9\tBest_LOSS=0.9358  Best_ACC=0.7601  Best_AUC=0.8594\n",
      "\t\t\t best_f1_micro=0.7601  best_f1_macro=0.7167  best_f1_weighted=0.7590\n"
     ]
    },
    {
     "name": "stderr",
     "output_type": "stream",
     "text": [
      "Train E:20 - Loss:0.1891: 100%|█████████████████| 12/12 [00:02<00:00,  5.47it/s]\n",
      "Valid E:20 - Loss:0.9192: 100%|█████████████████| 36/36 [00:03<00:00, 10.62it/s]\n"
     ]
    },
    {
     "name": "stdout",
     "output_type": "stream",
     "text": [
      "Fold=02 Epoch=20 TrainLOSS=0.1891\tValidLOSS=0.9192  ValidACC=0.7373  ValidAUC=0.8542\n",
      "\t\t\t f1_micro=0.7373  f1_macro=0.6802  f1_weighted=0.7342\n",
      "BestE=16 min=0.1/12.0\tBest_LOSS=0.9358  Best_ACC=0.7601  Best_AUC=0.8594\n",
      "\t\t\t best_f1_micro=0.7601  best_f1_macro=0.7167  best_f1_weighted=0.7590\n"
     ]
    },
    {
     "name": "stderr",
     "output_type": "stream",
     "text": [
      "Train E:21 - Loss:0.1542: 100%|█████████████████| 12/12 [00:02<00:00,  5.47it/s]\n",
      "Valid E:21 - Loss:1.0184: 100%|█████████████████| 36/36 [00:03<00:00, 10.74it/s]\n"
     ]
    },
    {
     "name": "stdout",
     "output_type": "stream",
     "text": [
      "Fold=02 Epoch=21 TrainLOSS=0.1542\tValidLOSS=1.0184  ValidACC=0.7478  ValidAUC=0.8636\n",
      "\t\t\t f1_micro=0.7478  f1_macro=0.6890  f1_weighted=0.7469\n",
      "BestE=16 min=0.1/12.1\tBest_LOSS=0.9358  Best_ACC=0.7601  Best_AUC=0.8594\n",
      "\t\t\t best_f1_micro=0.7601  best_f1_macro=0.7167  best_f1_weighted=0.7590\n"
     ]
    },
    {
     "name": "stderr",
     "output_type": "stream",
     "text": [
      "Train E:22 - Loss:0.1831: 100%|█████████████████| 12/12 [00:02<00:00,  5.50it/s]\n",
      "Valid E:22 - Loss:0.8916: 100%|█████████████████| 36/36 [00:03<00:00, 10.94it/s]\n"
     ]
    },
    {
     "name": "stdout",
     "output_type": "stream",
     "text": [
      "########## >>>>>>>> Model Improved From F1-macro=0.7166725547052311 ----> loss==0.7272967861453755\n",
      "Fold=02 Epoch=22 TrainLOSS=0.1831\tValidLOSS=0.8916  ValidACC=0.7741  ValidAUC=0.8737\n",
      "\t\t\t f1_micro=0.7741  f1_macro=0.7273  f1_weighted=0.7731\n",
      "BestE=22 min=0.1/12.2\tBest_LOSS=0.8916  Best_ACC=0.7741  Best_AUC=0.8737\n",
      "\t\t\t best_f1_micro=0.7741  best_f1_macro=0.7273  best_f1_weighted=0.7731\n"
     ]
    },
    {
     "name": "stderr",
     "output_type": "stream",
     "text": [
      "Train E:23 - Loss:0.1951: 100%|█████████████████| 12/12 [00:02<00:00,  5.41it/s]\n",
      "Valid E:23 - Loss:0.8516: 100%|█████████████████| 36/36 [00:03<00:00, 10.84it/s]\n"
     ]
    },
    {
     "name": "stdout",
     "output_type": "stream",
     "text": [
      "Fold=02 Epoch=23 TrainLOSS=0.1951\tValidLOSS=0.8516  ValidACC=0.7671  ValidAUC=0.8770\n",
      "\t\t\t f1_micro=0.7671  f1_macro=0.7147  f1_weighted=0.7665\n",
      "BestE=22 min=0.1/12.2\tBest_LOSS=0.8916  Best_ACC=0.7741  Best_AUC=0.8737\n",
      "\t\t\t best_f1_micro=0.7741  best_f1_macro=0.7273  best_f1_weighted=0.7731\n"
     ]
    },
    {
     "name": "stderr",
     "output_type": "stream",
     "text": [
      "Train E:24 - Loss:0.0691: 100%|█████████████████| 12/12 [00:02<00:00,  5.59it/s]\n",
      "Valid E:24 - Loss:0.8283: 100%|█████████████████| 36/36 [00:03<00:00, 10.80it/s]\n"
     ]
    },
    {
     "name": "stdout",
     "output_type": "stream",
     "text": [
      "Fold=02 Epoch=24 TrainLOSS=0.0691\tValidLOSS=0.8283  ValidACC=0.7653  ValidAUC=0.8702\n",
      "\t\t\t f1_micro=0.7653  f1_macro=0.7190  f1_weighted=0.7655\n",
      "BestE=22 min=0.1/12.3\tBest_LOSS=0.8916  Best_ACC=0.7741  Best_AUC=0.8737\n",
      "\t\t\t best_f1_micro=0.7741  best_f1_macro=0.7273  best_f1_weighted=0.7731\n"
     ]
    },
    {
     "name": "stderr",
     "output_type": "stream",
     "text": [
      "Train E:25 - Loss:0.1236: 100%|█████████████████| 12/12 [00:02<00:00,  5.57it/s]\n",
      "Valid E:25 - Loss:0.8838: 100%|█████████████████| 36/36 [00:03<00:00, 10.85it/s]\n"
     ]
    },
    {
     "name": "stdout",
     "output_type": "stream",
     "text": [
      "Fold=02 Epoch=25 TrainLOSS=0.1236\tValidLOSS=0.8838  ValidACC=0.7566  ValidAUC=0.8661\n",
      "\t\t\t f1_micro=0.7566  f1_macro=0.7090  f1_weighted=0.7550\n",
      "BestE=22 min=0.1/12.4\tBest_LOSS=0.8916  Best_ACC=0.7741  Best_AUC=0.8737\n",
      "\t\t\t best_f1_micro=0.7741  best_f1_macro=0.7273  best_f1_weighted=0.7731\n"
     ]
    },
    {
     "name": "stderr",
     "output_type": "stream",
     "text": [
      "Train E:26 - Loss:0.1372: 100%|█████████████████| 12/12 [00:02<00:00,  5.66it/s]\n",
      "Valid E:26 - Loss:0.8155: 100%|█████████████████| 36/36 [00:03<00:00, 10.68it/s]\n"
     ]
    },
    {
     "name": "stdout",
     "output_type": "stream",
     "text": [
      "Fold=02 Epoch=26 TrainLOSS=0.1372\tValidLOSS=0.8155  ValidACC=0.7776  ValidAUC=0.8685\n",
      "\t\t\t f1_micro=0.7776  f1_macro=0.7266  f1_weighted=0.7738\n",
      "BestE=22 min=0.1/12.5\tBest_LOSS=0.8916  Best_ACC=0.7741  Best_AUC=0.8737\n",
      "\t\t\t best_f1_micro=0.7741  best_f1_macro=0.7273  best_f1_weighted=0.7731\n"
     ]
    },
    {
     "name": "stderr",
     "output_type": "stream",
     "text": [
      "Train E:27 - Loss:0.2084: 100%|█████████████████| 12/12 [00:02<00:00,  5.61it/s]\n",
      "Valid E:27 - Loss:0.8107: 100%|█████████████████| 36/36 [00:03<00:00, 10.76it/s]\n"
     ]
    },
    {
     "name": "stdout",
     "output_type": "stream",
     "text": [
      "Fold=02 Epoch=27 TrainLOSS=0.2084\tValidLOSS=0.8107  ValidACC=0.7426  ValidAUC=0.8557\n",
      "\t\t\t f1_micro=0.7426  f1_macro=0.6989  f1_weighted=0.7402\n",
      "BestE=22 min=0.1/12.6\tBest_LOSS=0.8916  Best_ACC=0.7741  Best_AUC=0.8737\n",
      "\t\t\t best_f1_micro=0.7741  best_f1_macro=0.7273  best_f1_weighted=0.7731\n"
     ]
    },
    {
     "name": "stderr",
     "output_type": "stream",
     "text": [
      "Train E:28 - Loss:0.1076: 100%|█████████████████| 12/12 [00:02<00:00,  5.52it/s]\n",
      "Valid E:28 - Loss:0.8004: 100%|█████████████████| 36/36 [00:03<00:00, 10.77it/s]\n"
     ]
    },
    {
     "name": "stdout",
     "output_type": "stream",
     "text": [
      "Fold=02 Epoch=28 TrainLOSS=0.1076\tValidLOSS=0.8004  ValidACC=0.7583  ValidAUC=0.8575\n",
      "\t\t\t f1_micro=0.7583  f1_macro=0.7235  f1_weighted=0.7578\n",
      "BestE=22 min=0.1/12.7\tBest_LOSS=0.8916  Best_ACC=0.7741  Best_AUC=0.8737\n",
      "\t\t\t best_f1_micro=0.7741  best_f1_macro=0.7273  best_f1_weighted=0.7731\n"
     ]
    },
    {
     "name": "stderr",
     "output_type": "stream",
     "text": [
      "Train E:29 - Loss:0.0588: 100%|█████████████████| 12/12 [00:02<00:00,  5.52it/s]\n",
      "Valid E:29 - Loss:0.8392: 100%|█████████████████| 36/36 [00:03<00:00, 10.77it/s]\n"
     ]
    },
    {
     "name": "stdout",
     "output_type": "stream",
     "text": [
      "Fold=02 Epoch=29 TrainLOSS=0.0588\tValidLOSS=0.8392  ValidACC=0.7566  ValidAUC=0.8624\n",
      "\t\t\t f1_micro=0.7566  f1_macro=0.7132  f1_weighted=0.7548\n",
      "BestE=22 min=0.1/12.8\tBest_LOSS=0.8916  Best_ACC=0.7741  Best_AUC=0.8737\n",
      "\t\t\t best_f1_micro=0.7741  best_f1_macro=0.7273  best_f1_weighted=0.7731\n"
     ]
    },
    {
     "name": "stderr",
     "output_type": "stream",
     "text": [
      "Train E:30 - Loss:0.0558: 100%|█████████████████| 12/12 [00:02<00:00,  5.45it/s]\n",
      "Valid E:30 - Loss:0.8382: 100%|█████████████████| 36/36 [00:03<00:00, 10.49it/s]\n"
     ]
    },
    {
     "name": "stdout",
     "output_type": "stream",
     "text": [
      "Fold=02 Epoch=30 TrainLOSS=0.0558\tValidLOSS=0.8382  ValidACC=0.7636  ValidAUC=0.8701\n",
      "\t\t\t f1_micro=0.7636  f1_macro=0.7255  f1_weighted=0.7625\n",
      "BestE=22 min=0.1/12.9\tBest_LOSS=0.8916  Best_ACC=0.7741  Best_AUC=0.8737\n",
      "\t\t\t best_f1_micro=0.7741  best_f1_macro=0.7273  best_f1_weighted=0.7731\n"
     ]
    },
    {
     "name": "stderr",
     "output_type": "stream",
     "text": [
      "Train E:31 - Loss:0.0808: 100%|█████████████████| 12/12 [00:02<00:00,  5.49it/s]\n",
      "Valid E:31 - Loss:0.8534: 100%|█████████████████| 36/36 [00:03<00:00, 10.69it/s]\n"
     ]
    },
    {
     "name": "stdout",
     "output_type": "stream",
     "text": [
      "########## >>>>>>>> Model Improved From F1-macro=0.7272967861453755 ----> loss==0.7362911156200186\n",
      "Fold=02 Epoch=31 TrainLOSS=0.0808\tValidLOSS=0.8534  ValidACC=0.7793  ValidAUC=0.8726\n",
      "\t\t\t f1_micro=0.7793  f1_macro=0.7363  f1_weighted=0.7775\n",
      "BestE=31 min=0.1/13.0\tBest_LOSS=0.8534  Best_ACC=0.7793  Best_AUC=0.8726\n",
      "\t\t\t best_f1_micro=0.7793  best_f1_macro=0.7363  best_f1_weighted=0.7775\n"
     ]
    },
    {
     "name": "stderr",
     "output_type": "stream",
     "text": [
      "Train E:32 - Loss:0.0826: 100%|█████████████████| 12/12 [00:02<00:00,  5.58it/s]\n",
      "Valid E:32 - Loss:0.8775: 100%|█████████████████| 36/36 [00:03<00:00, 10.76it/s]\n"
     ]
    },
    {
     "name": "stdout",
     "output_type": "stream",
     "text": [
      "Fold=02 Epoch=32 TrainLOSS=0.0826\tValidLOSS=0.8775  ValidACC=0.7811  ValidAUC=0.8731\n",
      "\t\t\t f1_micro=0.7811  f1_macro=0.7332  f1_weighted=0.7780\n",
      "BestE=31 min=0.1/13.1\tBest_LOSS=0.8534  Best_ACC=0.7793  Best_AUC=0.8726\n",
      "\t\t\t best_f1_micro=0.7793  best_f1_macro=0.7363  best_f1_weighted=0.7775\n"
     ]
    },
    {
     "name": "stderr",
     "output_type": "stream",
     "text": [
      "Train E:33 - Loss:0.0573: 100%|█████████████████| 12/12 [00:02<00:00,  5.48it/s]\n",
      "Valid E:33 - Loss:0.8626: 100%|█████████████████| 36/36 [00:03<00:00, 10.87it/s]\n"
     ]
    },
    {
     "name": "stdout",
     "output_type": "stream",
     "text": [
      "########## >>>>>>>> Model Improved From F1-macro=0.7362911156200186 ----> loss==0.7365642338387408\n",
      "Fold=02 Epoch=33 TrainLOSS=0.0573\tValidLOSS=0.8626  ValidACC=0.7846  ValidAUC=0.8766\n",
      "\t\t\t f1_micro=0.7846  f1_macro=0.7366  f1_weighted=0.7808\n",
      "BestE=33 min=0.1/13.2\tBest_LOSS=0.8626  Best_ACC=0.7846  Best_AUC=0.8766\n",
      "\t\t\t best_f1_micro=0.7846  best_f1_macro=0.7366  best_f1_weighted=0.7808\n"
     ]
    },
    {
     "name": "stderr",
     "output_type": "stream",
     "text": [
      "Train E:34 - Loss:0.0598: 100%|█████████████████| 12/12 [00:02<00:00,  5.58it/s]\n",
      "Valid E:34 - Loss:0.8826: 100%|█████████████████| 36/36 [00:03<00:00, 10.85it/s]\n"
     ]
    },
    {
     "name": "stdout",
     "output_type": "stream",
     "text": [
      "########## >>>>>>>> Model Improved From F1-macro=0.7365642338387408 ----> loss==0.7472389077507907\n",
      "Fold=02 Epoch=34 TrainLOSS=0.0598\tValidLOSS=0.8826  ValidACC=0.7846  ValidAUC=0.8780\n",
      "\t\t\t f1_micro=0.7846  f1_macro=0.7472  f1_weighted=0.7830\n",
      "BestE=34 min=0.1/13.3\tBest_LOSS=0.8826  Best_ACC=0.7846  Best_AUC=0.8780\n",
      "\t\t\t best_f1_micro=0.7846  best_f1_macro=0.7472  best_f1_weighted=0.7830\n"
     ]
    },
    {
     "name": "stderr",
     "output_type": "stream",
     "text": [
      "Train E:35 - Loss:0.0736: 100%|█████████████████| 12/12 [00:02<00:00,  5.52it/s]\n",
      "Valid E:35 - Loss:0.8600: 100%|█████████████████| 36/36 [00:03<00:00, 10.77it/s]\n"
     ]
    },
    {
     "name": "stdout",
     "output_type": "stream",
     "text": [
      "Fold=02 Epoch=35 TrainLOSS=0.0736\tValidLOSS=0.8600  ValidACC=0.7776  ValidAUC=0.8774\n",
      "\t\t\t f1_micro=0.7776  f1_macro=0.7262  f1_weighted=0.7749\n",
      "BestE=34 min=0.1/13.4\tBest_LOSS=0.8826  Best_ACC=0.7846  Best_AUC=0.8780\n",
      "\t\t\t best_f1_micro=0.7846  best_f1_macro=0.7472  best_f1_weighted=0.7830\n"
     ]
    },
    {
     "name": "stderr",
     "output_type": "stream",
     "text": [
      "Train E:36 - Loss:0.0446: 100%|█████████████████| 12/12 [00:02<00:00,  5.58it/s]\n",
      "Valid E:36 - Loss:0.8531: 100%|█████████████████| 36/36 [00:03<00:00, 10.83it/s]\n"
     ]
    },
    {
     "name": "stdout",
     "output_type": "stream",
     "text": [
      "Fold=02 Epoch=36 TrainLOSS=0.0446\tValidLOSS=0.8531  ValidACC=0.7688  ValidAUC=0.8784\n",
      "\t\t\t f1_micro=0.7688  f1_macro=0.7261  f1_weighted=0.7676\n",
      "BestE=34 min=0.1/13.5\tBest_LOSS=0.8826  Best_ACC=0.7846  Best_AUC=0.8780\n",
      "\t\t\t best_f1_micro=0.7846  best_f1_macro=0.7472  best_f1_weighted=0.7830\n"
     ]
    },
    {
     "name": "stderr",
     "output_type": "stream",
     "text": [
      "Train E:37 - Loss:0.0380: 100%|█████████████████| 12/12 [00:02<00:00,  5.57it/s]\n",
      "Valid E:37 - Loss:0.8342: 100%|█████████████████| 36/36 [00:03<00:00, 10.82it/s]\n"
     ]
    },
    {
     "name": "stdout",
     "output_type": "stream",
     "text": [
      "Fold=02 Epoch=37 TrainLOSS=0.0380\tValidLOSS=0.8342  ValidACC=0.7828  ValidAUC=0.8796\n",
      "\t\t\t f1_micro=0.7828  f1_macro=0.7457  f1_weighted=0.7813\n",
      "BestE=34 min=0.1/13.6\tBest_LOSS=0.8826  Best_ACC=0.7846  Best_AUC=0.8780\n",
      "\t\t\t best_f1_micro=0.7846  best_f1_macro=0.7472  best_f1_weighted=0.7830\n"
     ]
    },
    {
     "name": "stderr",
     "output_type": "stream",
     "text": [
      "Train E:38 - Loss:0.0641: 100%|█████████████████| 12/12 [00:02<00:00,  5.51it/s]\n",
      "Valid E:38 - Loss:0.8574: 100%|█████████████████| 36/36 [00:03<00:00, 10.74it/s]\n"
     ]
    },
    {
     "name": "stdout",
     "output_type": "stream",
     "text": [
      "Fold=02 Epoch=38 TrainLOSS=0.0641\tValidLOSS=0.8574  ValidACC=0.7776  ValidAUC=0.8777\n",
      "\t\t\t f1_micro=0.7776  f1_macro=0.7371  f1_weighted=0.7759\n",
      "BestE=34 min=0.1/13.7\tBest_LOSS=0.8826  Best_ACC=0.7846  Best_AUC=0.8780\n",
      "\t\t\t best_f1_micro=0.7846  best_f1_macro=0.7472  best_f1_weighted=0.7830\n"
     ]
    },
    {
     "name": "stderr",
     "output_type": "stream",
     "text": [
      "Train E:39 - Loss:0.0318: 100%|█████████████████| 12/12 [00:02<00:00,  5.58it/s]\n",
      "Valid E:39 - Loss:0.8078: 100%|█████████████████| 36/36 [00:03<00:00, 10.91it/s]\n"
     ]
    },
    {
     "name": "stdout",
     "output_type": "stream",
     "text": [
      "Fold=02 Epoch=39 TrainLOSS=0.0318\tValidLOSS=0.8078  ValidACC=0.7758  ValidAUC=0.8807\n",
      "\t\t\t f1_micro=0.7758  f1_macro=0.7327  f1_weighted=0.7744\n",
      "BestE=34 min=0.1/13.8\tBest_LOSS=0.8826  Best_ACC=0.7846  Best_AUC=0.8780\n",
      "\t\t\t best_f1_micro=0.7846  best_f1_macro=0.7472  best_f1_weighted=0.7830\n"
     ]
    },
    {
     "name": "stderr",
     "output_type": "stream",
     "text": [
      "Train E:40 - Loss:0.0445: 100%|█████████████████| 12/12 [00:02<00:00,  5.65it/s]\n",
      "Valid E:40 - Loss:0.8337: 100%|█████████████████| 36/36 [00:03<00:00, 10.74it/s]\n"
     ]
    },
    {
     "name": "stdout",
     "output_type": "stream",
     "text": [
      "Fold=02 Epoch=40 TrainLOSS=0.0445\tValidLOSS=0.8337  ValidACC=0.7881  ValidAUC=0.8788\n",
      "\t\t\t f1_micro=0.7881  f1_macro=0.7452  f1_weighted=0.7864\n",
      "BestE=34 min=0.1/13.9\tBest_LOSS=0.8826  Best_ACC=0.7846  Best_AUC=0.8780\n",
      "\t\t\t best_f1_micro=0.7846  best_f1_macro=0.7472  best_f1_weighted=0.7830\n"
     ]
    },
    {
     "name": "stderr",
     "output_type": "stream",
     "text": [
      "Train E:41 - Loss:0.0279: 100%|█████████████████| 12/12 [00:02<00:00,  5.54it/s]\n",
      "Valid E:41 - Loss:0.8086: 100%|█████████████████| 36/36 [00:03<00:00, 10.74it/s]\n"
     ]
    },
    {
     "name": "stdout",
     "output_type": "stream",
     "text": [
      "########## >>>>>>>> Model Improved From F1-macro=0.7472389077507907 ----> loss==0.7520871311111028\n",
      "Fold=02 Epoch=41 TrainLOSS=0.0279\tValidLOSS=0.8086  ValidACC=0.7916  ValidAUC=0.8785\n",
      "\t\t\t f1_micro=0.7916  f1_macro=0.7521  f1_weighted=0.7901\n",
      "BestE=41 min=0.1/14.0\tBest_LOSS=0.8086  Best_ACC=0.7916  Best_AUC=0.8785\n",
      "\t\t\t best_f1_micro=0.7916  best_f1_macro=0.7521  best_f1_weighted=0.7901\n"
     ]
    },
    {
     "name": "stderr",
     "output_type": "stream",
     "text": [
      "Train E:42 - Loss:0.0340: 100%|█████████████████| 12/12 [00:02<00:00,  5.53it/s]\n",
      "Valid E:42 - Loss:0.7852: 100%|█████████████████| 36/36 [00:03<00:00, 10.83it/s]\n"
     ]
    },
    {
     "name": "stdout",
     "output_type": "stream",
     "text": [
      "########## >>>>>>>> Model Improved From F1-macro=0.7520871311111028 ----> loss==0.7558293066692747\n",
      "Fold=02 Epoch=42 TrainLOSS=0.0340\tValidLOSS=0.7852  ValidACC=0.8021  ValidAUC=0.8791\n",
      "\t\t\t f1_micro=0.8021  f1_macro=0.7558  f1_weighted=0.7996\n",
      "BestE=42 min=0.1/14.1\tBest_LOSS=0.7852  Best_ACC=0.8021  Best_AUC=0.8791\n",
      "\t\t\t best_f1_micro=0.8021  best_f1_macro=0.7558  best_f1_weighted=0.7996\n"
     ]
    },
    {
     "name": "stderr",
     "output_type": "stream",
     "text": [
      "Train E:43 - Loss:0.0199: 100%|█████████████████| 12/12 [00:02<00:00,  5.54it/s]\n",
      "Valid E:43 - Loss:0.8161: 100%|█████████████████| 36/36 [00:03<00:00, 10.69it/s]\n"
     ]
    },
    {
     "name": "stdout",
     "output_type": "stream",
     "text": [
      "Fold=02 Epoch=43 TrainLOSS=0.0199\tValidLOSS=0.8161  ValidACC=0.7951  ValidAUC=0.8806\n",
      "\t\t\t f1_micro=0.7951  f1_macro=0.7517  f1_weighted=0.7935\n",
      "BestE=42 min=0.1/14.2\tBest_LOSS=0.7852  Best_ACC=0.8021  Best_AUC=0.8791\n",
      "\t\t\t best_f1_micro=0.8021  best_f1_macro=0.7558  best_f1_weighted=0.7996\n"
     ]
    },
    {
     "name": "stderr",
     "output_type": "stream",
     "text": [
      "Train E:44 - Loss:0.0112: 100%|█████████████████| 12/12 [00:02<00:00,  5.52it/s]\n",
      "Valid E:44 - Loss:0.8220: 100%|█████████████████| 36/36 [00:03<00:00, 10.79it/s]\n"
     ]
    },
    {
     "name": "stdout",
     "output_type": "stream",
     "text": [
      "Fold=02 Epoch=44 TrainLOSS=0.0112\tValidLOSS=0.8220  ValidACC=0.7916  ValidAUC=0.8803\n",
      "\t\t\t f1_micro=0.7916  f1_macro=0.7439  f1_weighted=0.7892\n",
      "BestE=42 min=0.1/14.3\tBest_LOSS=0.7852  Best_ACC=0.8021  Best_AUC=0.8791\n",
      "\t\t\t best_f1_micro=0.8021  best_f1_macro=0.7558  best_f1_weighted=0.7996\n"
     ]
    },
    {
     "name": "stderr",
     "output_type": "stream",
     "text": [
      "Train E:45 - Loss:0.0256: 100%|█████████████████| 12/12 [00:02<00:00,  5.41it/s]\n",
      "Valid E:45 - Loss:0.8294: 100%|█████████████████| 36/36 [00:03<00:00, 10.88it/s]\n"
     ]
    },
    {
     "name": "stdout",
     "output_type": "stream",
     "text": [
      "Fold=02 Epoch=45 TrainLOSS=0.0256\tValidLOSS=0.8294  ValidACC=0.7916  ValidAUC=0.8807\n",
      "\t\t\t f1_micro=0.7916  f1_macro=0.7456  f1_weighted=0.7896\n",
      "BestE=42 min=0.1/14.4\tBest_LOSS=0.7852  Best_ACC=0.8021  Best_AUC=0.8791\n",
      "\t\t\t best_f1_micro=0.8021  best_f1_macro=0.7558  best_f1_weighted=0.7996\n"
     ]
    },
    {
     "name": "stderr",
     "output_type": "stream",
     "text": [
      "Train E:46 - Loss:0.0200: 100%|█████████████████| 12/12 [00:02<00:00,  5.40it/s]\n",
      "Valid E:46 - Loss:0.8267: 100%|█████████████████| 36/36 [00:03<00:00, 10.64it/s]\n"
     ]
    },
    {
     "name": "stdout",
     "output_type": "stream",
     "text": [
      "Fold=02 Epoch=46 TrainLOSS=0.0200\tValidLOSS=0.8267  ValidACC=0.7898  ValidAUC=0.8815\n",
      "\t\t\t f1_micro=0.7898  f1_macro=0.7469  f1_weighted=0.7878\n",
      "BestE=42 min=0.1/14.5\tBest_LOSS=0.7852  Best_ACC=0.8021  Best_AUC=0.8791\n",
      "\t\t\t best_f1_micro=0.8021  best_f1_macro=0.7558  best_f1_weighted=0.7996\n"
     ]
    },
    {
     "name": "stderr",
     "output_type": "stream",
     "text": [
      "Train E:47 - Loss:0.0194: 100%|█████████████████| 12/12 [00:02<00:00,  5.47it/s]\n",
      "Valid E:47 - Loss:0.8254: 100%|█████████████████| 36/36 [00:03<00:00, 10.63it/s]\n"
     ]
    },
    {
     "name": "stdout",
     "output_type": "stream",
     "text": [
      "Fold=02 Epoch=47 TrainLOSS=0.0194\tValidLOSS=0.8254  ValidACC=0.7968  ValidAUC=0.8799\n",
      "\t\t\t f1_micro=0.7968  f1_macro=0.7523  f1_weighted=0.7947\n",
      "BestE=42 min=0.1/14.6\tBest_LOSS=0.7852  Best_ACC=0.8021  Best_AUC=0.8791\n",
      "\t\t\t best_f1_micro=0.8021  best_f1_macro=0.7558  best_f1_weighted=0.7996\n"
     ]
    },
    {
     "name": "stderr",
     "output_type": "stream",
     "text": [
      "Train E:48 - Loss:0.0254: 100%|█████████████████| 12/12 [00:02<00:00,  5.55it/s]\n",
      "Valid E:48 - Loss:0.8331: 100%|█████████████████| 36/36 [00:03<00:00, 10.69it/s]\n"
     ]
    },
    {
     "name": "stdout",
     "output_type": "stream",
     "text": [
      "Fold=02 Epoch=48 TrainLOSS=0.0254\tValidLOSS=0.8331  ValidACC=0.7863  ValidAUC=0.8800\n",
      "\t\t\t f1_micro=0.7863  f1_macro=0.7412  f1_weighted=0.7839\n",
      "BestE=42 min=0.1/14.7\tBest_LOSS=0.7852  Best_ACC=0.8021  Best_AUC=0.8791\n",
      "\t\t\t best_f1_micro=0.8021  best_f1_macro=0.7558  best_f1_weighted=0.7996\n"
     ]
    },
    {
     "name": "stderr",
     "output_type": "stream",
     "text": [
      "Train E:49 - Loss:0.0452: 100%|█████████████████| 12/12 [00:02<00:00,  5.54it/s]\n",
      "Valid E:49 - Loss:0.8478: 100%|█████████████████| 36/36 [00:03<00:00, 10.47it/s]\n"
     ]
    },
    {
     "name": "stdout",
     "output_type": "stream",
     "text": [
      "Fold=02 Epoch=49 TrainLOSS=0.0452\tValidLOSS=0.8478  ValidACC=0.7863  ValidAUC=0.8783\n",
      "\t\t\t f1_micro=0.7863  f1_macro=0.7398  f1_weighted=0.7840\n",
      "BestE=42 min=0.1/14.8\tBest_LOSS=0.7852  Best_ACC=0.8021  Best_AUC=0.8791\n",
      "\t\t\t best_f1_micro=0.8021  best_f1_macro=0.7558  best_f1_weighted=0.7996\n",
      "\n",
      "\n",
      "BEST FINAL F1-MACRO= 0.7622460262830636 ACC= 0.8179696616102684\n"
     ]
    }
   ],
   "source": [
    "if TRAIN_MODEL:\n",
    "    start = time.time()\n",
    "    trues_total = []\n",
    "    preds_total = []\n",
    "    for fold in np.arange(RUN_FOLDS): \n",
    "        print('FOLD:',fold)\n",
    "        # Only valid fold from original train\n",
    "        valid_df_fold = train_df.iloc[:len_train_df].reset_index(drop=True)\n",
    "        valid_df_fold = valid_df_fold.loc[valid_df_fold['kfold'] == fold].reset_index(drop=True)\n",
    "        train_df_fold = train_df[train_df['kfold'] != fold].reset_index(drop=True)\n",
    "        print(train_df_fold.shape, valid_df_fold.shape)\n",
    "        \n",
    "        model = Model()\n",
    "        if PREVIOUS_MODEL!='None':\n",
    "            model.load_state_dict(torch.load(f'{PREVIOUS_MODEL}modelo_fold-{fold}.bin'))\n",
    "        model = model.to(device)\n",
    "\n",
    "        # optimizer = torch.optim.Adam(model.parameters(), lr=LR)\n",
    "        # https://pythonawesome.com/a-collection-of-optimizers-for-pytorch/\n",
    "        optimizer = optim.DiffGrad(model.parameters(), lr=LR)\n",
    "        if USA_FP16:\n",
    "            scaler = torch.cuda.amp.GradScaler()\n",
    "            \n",
    "        scheduler = CosineAnnealingWarmUpRestarts(optimizer, T_0=ITERS_EPOCH*EPOCHS_CYCLE, T_mult=T_MULT, \n",
    "                                          eta_max=ETA_MAX, T_up=ITERS_EPOCH*EPOCHS_UP, gamma=GAMMA)\n",
    "        # scheduler = None\n",
    "        criterion = nn.CrossEntropyLoss()\n",
    "#         criterion = nn.BCEWithLogitsLoss() # Multilabel\n",
    "\n",
    "    \n",
    "        # train loader\n",
    "        # ------------\n",
    "        trainset = ImgDataset(df=train_df_fold, mode=\"train\")\n",
    "        train_loader = DataLoader(trainset, batch_size=BATCH_TRAIN, shuffle=True, drop_last=False) #, num_workers=NUM_WORKERS)\n",
    "            \n",
    "        # valid loader\n",
    "        # ------------\n",
    "        validset = ImgDataset(df=valid_df_fold, mode=\"valid\")\n",
    "        valid_loader = DataLoader(validset, batch_size=BATCH_VALID, shuffle=False, drop_last=False) #, num_workers=NUM_WORKERS)\n",
    "\n",
    "        # Inicializamos variables\n",
    "        # -----------------------\n",
    "        best_auc = 0\n",
    "        best_acc = 0\n",
    "        best_f1_micro = 0\n",
    "        best_f1_macro = 0\n",
    "        best_f1_weighted = 0\n",
    "        best_epoch = 0\n",
    "        best_loss = np.inf\n",
    "        early_stop_count = 0\n",
    "        res = []\n",
    "        best_preds_fold = []\n",
    "        best_trues_fold = []  \n",
    "        best_thr = [0.0, 0.0, 0.0, 0.0, 0.0]\n",
    "\n",
    "        # Bucle principal\n",
    "        # ---------------\n",
    "        \n",
    "        for epoch in range(NUM_EPOCHS):\n",
    "            seed_everything(SEED*(epoch+1))\n",
    "            \n",
    "            # use balanced train dataset\n",
    "            # 0    860\n",
    "            # 2    658\n",
    "            # 1    196\n",
    "            ttt1 = train_df_fold.query('label==0').sample(SAMPLES_BY_CLASS, replace=True).reset_index(drop=True)\n",
    "            ttt2 = train_df_fold.query('label==1').sample(SAMPLES_BY_CLASS, replace=True).reset_index(drop=True)\n",
    "            ttt3 = train_df_fold.query('label==2').sample(SAMPLES_BY_CLASS, replace=True).reset_index(drop=True)\n",
    "            trainset = ImgDataset(df=pd.concat([ttt1,ttt2,ttt3]).reset_index(drop=True), mode=\"train\")\n",
    "            train_loader = DataLoader(trainset, batch_size=BATCH_TRAIN, shuffle=True, drop_last=False)\n",
    "\n",
    "            start_epoch = time.time()\n",
    "#             warnings.filterwarnings('ignore')\n",
    "            train_loss, y_true_train, y_pred_train = train_epoch(model, train_loader, criterion, optimizer, scheduler, epoch)\n",
    "#             warnings.filterwarnings('ignore')\n",
    "            valid_loss, y_true_valid, y_pred_valid = valid_epoch(model, valid_loader, criterion, epoch)\n",
    "            \n",
    "            \n",
    "            final_loss = criterion(torch.tensor(y_pred_valid), torch.argmax(torch.tensor(y_true_valid),dim=1))\n",
    "            valid_auc = mean_auc(y_true_valid, y_pred_valid)\n",
    "            valid_acc = np.mean(np.argmax(y_true_valid,1)==np.argmax(y_pred_valid,1))\n",
    "            f1_micro = metrics.f1_score(np.argmax(y_true_valid,1), np.argmax(y_pred_valid,1), average='micro')\n",
    "            f1_macro = metrics.f1_score(np.argmax(y_true_valid,1), np.argmax(y_pred_valid,1), average='macro')\n",
    "            f1_weighted = metrics.f1_score(np.argmax(y_true_valid,1), np.argmax(y_pred_valid,1), average='weighted')\n",
    "            \n",
    "            # Save the best model and results\n",
    "            # --------------------------------\n",
    "            if f1_macro > best_f1_macro:\n",
    "                print(f\"########## >>>>>>>> Model Improved From F1-macro={best_f1_macro} ----> loss=={f1_macro}\")\n",
    "                # print(f\"########## >>>>>>>> Model Mejorado de loss={best_auc} ----> loss=={valid_auc}\")\n",
    "                torch.save(model.state_dict(), output_dir / f'modelo_fold-{fold}.bin')\n",
    "                best_epoch = epoch\n",
    "                best_loss = valid_loss\n",
    "                best_acc = valid_acc\n",
    "                best_auc = valid_auc\n",
    "                best_f1_micro = f1_micro\n",
    "                best_f1_macro = f1_macro\n",
    "                best_f1_weighted = f1_weighted\n",
    "                best_thr_all = best_thr.copy()\n",
    "                early_stop_count = 0\n",
    "                best_preds_fold = y_pred_valid\n",
    "                best_trues_fold = y_true_valid\n",
    "            else:\n",
    "                early_stop_count += 1\n",
    "\n",
    "                \n",
    "            tiempo = round(((time.time() - start)/60),2)\n",
    "            tiempo_epoch = round(((time.time() - start_epoch)/60),2)\n",
    "#             clear_output(wait=True) #to clean warnings\n",
    "            print(f'Fold={fold:02d} Epoch={epoch:02d} TrainLOSS={train_loss:.04f}\\tValidLOSS={valid_loss:.04f}  ValidACC={valid_acc:.04f}  ValidAUC={valid_auc:0.4f}')\n",
    "            print(f'\\t\\t\\t f1_micro={f1_micro:.04f}  f1_macro={f1_macro:.04f}  f1_weighted={f1_weighted:0.4f}')\n",
    "            print(f'BestE={best_epoch:02d} min={tiempo_epoch:.01f}/{tiempo:.01f}\\tBest_LOSS={best_loss:.04f}  Best_ACC={best_acc:.04f}  Best_AUC={best_auc:.04f}')\n",
    "            print(f'\\t\\t\\t best_f1_micro={best_f1_micro:.04f}  best_f1_macro={best_f1_macro:.04f}  best_f1_weighted={best_f1_weighted:0.4f}')\n",
    "\n",
    "\n",
    "            # Guarda resultados del epoch\n",
    "            # ---------------------------\n",
    "            if scheduler.__class__ ==  torch.optim.lr_scheduler.OneCycleLR:\n",
    "                lr = scheduler.get_last_lr()[0]\n",
    "            else:\n",
    "                lr = optimizer.param_groups[0]['lr']\n",
    "\n",
    "            res.append(dict({'fold':fold, 'epoch':epoch, 'lr':lr, 'tiempo':tiempo,\n",
    "                             'trn_loss':train_loss, 'val_loss':valid_loss, \n",
    "                             'val_acc':valid_acc, 'val_auc':valid_auc,\n",
    "                             'f1_micro':f1_micro, 'f1_macro':f1_macro, 'f1_weighted':f1_weighted,\n",
    "                             'best_epoch':best_epoch, 'best_loss':best_loss,\n",
    "                             'best_acc':best_acc, 'best_auc':best_auc,\n",
    "                             'best_f1_micro':best_f1_micro, 'best_f1_macro':best_f1_macro, 'best_f1_weighted':best_f1_weighted,\n",
    "                             }))\n",
    "            res_df = pd.DataFrame(res)\n",
    "            res_df.to_csv(output_dir / f'modelo_fold-{fold}.csv')\n",
    "\n",
    "            # Guarda predicciones\n",
    "            # -------------------\n",
    "            with open(output_dir / f'modelo_fold-{fold}.pkl', 'wb') as file:\n",
    "                pickle.dump(best_preds_fold, file)\n",
    "                pickle.dump(best_trues_fold, file)\n",
    "\n",
    "            if COMMAND!='CONSOLE':\n",
    "                # Draw curves if not in console\n",
    "                # -----------------------------\n",
    "                fig, axs = plt.subplots(2,2, figsize=(15,15))\n",
    "                axs[0,0].plot(res_df['trn_loss'].values, label='trn_loss')\n",
    "                axs[0,0].plot(res_df['val_loss'].values, label='val_loss')\n",
    "                axs[0,0].set_xlabel('Epochs')\n",
    "                axs[0,0].set_ylabel('Loss')\n",
    "                axs[0,0].set_title(f'Val_loss={valid_loss:.6f} Best={best_loss:.6f} in Epoch{best_epoch}')\n",
    "                axs[0,0].legend(loc='upper right')\n",
    "\n",
    "                axs[0,1].plot(res_df['val_acc'].values, label='val_acc')\n",
    "    #             axs[0,1].plot(res_df['f1_micro'].values, label='f1_micro')\n",
    "                axs[0,1].plot(res_df['f1_macro'].values, label='f1_macro')\n",
    "        #         axs[0,1].plot(res_df['f1_weighted'].values, label='f1_weighted')\n",
    "                axs[0,1].set_xlabel('Epochs')\n",
    "                axs[0,1].set_ylabel('Acc y f1macro')\n",
    "                axs[0,1].set_title(f'ACC={valid_acc:.4f} fmac={f1_macro:.5f} Best:[ACC={best_acc:.4f} fmac={best_f1_macro:.5f}')\n",
    "                axs[0,1].legend(loc='lower right')\n",
    "\n",
    "                axs[1,0].plot(res_df['val_auc'].values, label='auc')\n",
    "                axs[1,0].set_xlabel('Epochs')\n",
    "                axs[1,0].set_ylabel('AUC MEAN')\n",
    "                axs[1,0].set_title(f'AUC={valid_auc:.6f} BestAUC={best_auc:.6f} in Epoch{best_epoch}')\n",
    "\n",
    "                axs[1,1].plot(res_df['lr'].values)\n",
    "                axs[1,1].set_xlabel('Epochs')\n",
    "                axs[1,1].set_ylabel('Learning Rate')\n",
    "                axs[1,1].set_title(f'Learning Rate={lr:.8f} Max={res_df.lr.max():.8f} Min={res_df.lr.min():.8f}')\n",
    "                fig.savefig(output_dir / f'modelo_fold-{fold}.png',facecolor='white', edgecolor='white')\n",
    "                plt.close(fig)\n",
    "\n",
    "            # Si se alcanza parada temprana sal\n",
    "            # ---------------------------------\n",
    "            if EARLY_STOP == early_stop_count:\n",
    "                print('\\n !!! ALCANZADO EARLY STOPPING EN EL EPOCH:', epoch, '!!! MEJOR MODELO EN EPOCH:', best_epoch)\n",
    "                break\n",
    "        trues_total.append(best_trues_fold)\n",
    "        preds_total.append(best_preds_fold)\n",
    "\n",
    "    best_trues_fold = np.vstack(trues_total)\n",
    "    best_preds_fold = np.vstack(preds_total)\n",
    "    FINAL_F1MACRO =  metrics.f1_score(np.argmax(best_trues_fold,1), np.argmax(best_preds_fold,1), average='macro')\n",
    "    FINAL_ACC = np.mean(np.argmax(best_trues_fold,1)==np.argmax(best_preds_fold,1))\n",
    "    print('\\n\\nBEST FINAL F1-MACRO=', FINAL_F1MACRO, \"ACC=\", FINAL_ACC)"
   ]
  },
  {
   "cell_type": "markdown",
   "id": "de1b9512",
   "metadata": {},
   "source": [
    "# Crea Submission"
   ]
  },
  {
   "cell_type": "code",
   "execution_count": 28,
   "id": "5e22f87d",
   "metadata": {
    "ExecuteTime": {
     "end_time": "2022-11-16T00:22:51.844402Z",
     "start_time": "2022-11-16T00:22:39.648110Z"
    }
   },
   "outputs": [
    {
     "name": "stdout",
     "output_type": "stream",
     "text": [
      "\n",
      "\n",
      "CREATING SUBMISSION results/BASIC_MODEL_008_HORIZONTAL_FLIP WITH F1-MACRO=0.7622460262830636 and ACC=0.8179696616102684\n"
     ]
    },
    {
     "name": "stderr",
     "output_type": "stream",
     "text": [
      "Valid E:-1 - Loss:3.2670: 100%|█████████████████| 40/40 [00:03<00:00, 10.41it/s]\n",
      "Valid E:-1 - Loss:3.4611: 100%|█████████████████| 40/40 [00:03<00:00, 10.51it/s]\n",
      "Valid E:-1 - Loss:3.0058: 100%|█████████████████| 40/40 [00:03<00:00, 10.75it/s]"
     ]
    },
    {
     "name": "stdout",
     "output_type": "stream",
     "text": [
      "     target  label\n",
      "7         1      2\n",
      "51        4      1\n",
      "2         6      0\n",
      "550       9      1\n",
      "511      15      0\n",
      "LAST TWO ROWS...\n",
      "    F1MACRO      ACC                                OUTPUT_DIR  TRAIN_MODEL  CREATE_SUBMISSION  VERBOSE  INCLUDE_TEST TARGET_DIR_PREDS PREVIOUS_MODEL               BACKBONE\n",
      "0  0.762246  0.81797  results/BASIC_MODEL_008_HORIZONTAL_FLIP/         True               True        0         False             None           None  tf_efficientnet_b3_ns\n"
     ]
    },
    {
     "name": "stderr",
     "output_type": "stream",
     "text": [
      "\n"
     ]
    }
   ],
   "source": [
    "if CREATE_SUBMISSION:\n",
    "    print(f'\\n\\nCREATING SUBMISSION {output_dir} WITH F1-MACRO={FINAL_F1MACRO} and ACC={FINAL_ACC}')\n",
    "\n",
    "    # Obtrain preds with the models\n",
    "    preds_test = []\n",
    "    testset = ImgDataset(df=test_df, mode=\"test\")\n",
    "    test_loader = DataLoader(testset, batch_size=BATCH_VALID, shuffle=False, drop_last=False)\n",
    "    for fold in np.arange(RUN_FOLDS): \n",
    "        model = Model()\n",
    "        model.load_state_dict(torch.load(output_dir / f'modelo_fold-{fold}.bin'))\n",
    "        model = model.to(device)\n",
    "        _, _, y_pred_tst = valid_epoch(model, test_loader, criterion, -1)\n",
    "        preds_test.append(y_pred_tst)\n",
    "    preds_test = np.stack(preds_test)\n",
    "    preds_test = np.mean(preds_test, axis=0)\n",
    "    with open(output_dir / f'preds_test.pkl', 'wb') as file:\n",
    "        pickle.dump(preds_test, file)\n",
    "        \n",
    "    # Create Submission\n",
    "    submission=test_df.copy()[['example_path']]\n",
    "    submission['target']= submission['example_path'].str.split('/').str[-1].str.strip('.png')\n",
    "    submission['label'] = np.argmax(preds_test, 1)\n",
    "    submission = submission.drop(columns=['example_path'])\n",
    "    submission = submission.astype({'label':'int','target':'int'})\n",
    "    submission=submission.sort_values(by=['target'])\n",
    "    print(submission.head())\n",
    "    submission.to_csv(output_dir / 'submission.csv',index=False)\n",
    "    submission.set_index('target').rename(columns={\"label\": \"target\"}).to_json(output_dir / 'submission.json',orient=\"columns\")\n",
    "    \n",
    "# Save results in a csv\n",
    "res_dict = {**dict(F1MACRO=np.round(FINAL_F1MACRO,6), ACC=np.round(FINAL_ACC,6)), **vars(arg_in)}\n",
    "res_dict = pd.DataFrame(res_dict, index=[0])\n",
    "name_resultados = f'results/resuls_console_v{VERSION}.csv'\n",
    "if not os.path.exists(name_resultados):\n",
    "    res_dict.to_csv(name_resultados, index=False)\n",
    "else:\n",
    "    resultados = pd.read_csv(name_resultados)\n",
    "    res_dict = pd.concat([resultados, res_dict]).reset_index(drop=True)\n",
    "    res_dict.to_csv(name_resultados, index=False)\n",
    "\n",
    "print('LAST TWO ROWS...')\n",
    "print(res_dict.tail(2).iloc[:,:10])\n",
    "    \n",
    "    "
   ]
  },
  {
   "cell_type": "markdown",
   "id": "5b9601d7",
   "metadata": {},
   "source": [
    "# Scripts"
   ]
  },
  {
   "cell_type": "markdown",
   "id": "b8706976",
   "metadata": {},
   "source": [
    "## Scripts for searching best agumentations"
   ]
  },
  {
   "cell_type": "code",
   "execution_count": null,
   "id": "bde550f4",
   "metadata": {
    "ExecuteTime": {
     "end_time": "2022-11-17T08:43:32.030353Z",
     "start_time": "2022-11-17T08:43:32.030344Z"
    }
   },
   "outputs": [],
   "source": [
    "if False:\n",
    "    with open(f\"colorjitter_brightness.sh\", mode=\"w\") as f:\n",
    "        for brightness in np.linspace(0.001,0.20,11):\n",
    "            cmdline = f\"python 01006_FINAL_CODE.py --OUTPUT_DIR results/MODEL_23_BRIGHTNESS{brightness}/\"\n",
    "            cmdline += \" --VERBOSE 0 --BACKBONE tf_efficientnet_b3_ns --GPU_DEVICE cuda:0\"\n",
    "            cmdline += \" --NUM_EPOCHS 100 --BATCH_SIZE 16 --LR 0.00001 --NUM_FOLDS 3 --RUN_FOLDS 1\"\n",
    "            cmdline += f\" --AUGMENTATION True --HORIZONTAL_FLIP 0.50 --COLORJITTER_PROB 0.50 --COLORJITTER_BRIGHTNESS {brightness}\"\n",
    "            cmdline += \" --INCLUDE_TEST False --TARGET_DIR_PREDS None\"\n",
    "            cmdline += \"\\n\"\n",
    "            f.write(cmdline)\n",
    "    f.close()"
   ]
  },
  {
   "cell_type": "code",
   "execution_count": null,
   "id": "11d4fff4",
   "metadata": {
    "ExecuteTime": {
     "end_time": "2022-11-17T08:43:32.031241Z",
     "start_time": "2022-11-17T08:43:32.031234Z"
    }
   },
   "outputs": [],
   "source": [
    "if False:\n",
    "    with open(f\"colorjitter_contrast.sh\", mode=\"w\") as f:\n",
    "        for contrast in np.linspace(0.001,0.20,11):\n",
    "            cmdline = f\"python 01006_FINAL_CODE.py --OUTPUT_DIR results/MODEL_23_CONTRAST{contrast}/\"\n",
    "            cmdline += \" --VERBOSE 0 --BACKBONE tf_efficientnet_b3_ns --GPU_DEVICE cuda:0\"\n",
    "            cmdline += \" --NUM_EPOCHS 100 --BATCH_SIZE 16 --LR 0.00001 --NUM_FOLDS 3 --RUN_FOLDS 1\"\n",
    "            cmdline += f\" --AUGMENTATION True --HORIZONTAL_FLIP 0.50 --COLORJITTER_PROB 0.50 --COLORJITTER_CONTRAST {contrast}\"\n",
    "            cmdline += \" --INCLUDE_TEST False --TARGET_DIR_PREDS None\"\n",
    "            cmdline += \"\\n\"\n",
    "            f.write(cmdline)\n",
    "    f.close()"
   ]
  },
  {
   "cell_type": "code",
   "execution_count": null,
   "id": "5c6914c8",
   "metadata": {
    "ExecuteTime": {
     "end_time": "2022-11-17T08:43:32.032260Z",
     "start_time": "2022-11-17T08:43:32.032254Z"
    }
   },
   "outputs": [],
   "source": [
    "if False:\n",
    "    with open(f\"colorjitter_saturation.sh\", mode=\"w\") as f:\n",
    "        for saturation in np.linspace(0.001,0.20,11):\n",
    "            cmdline = f\"python 01006_FINAL_CODE.py --OUTPUT_DIR results/MODEL_23_SATURATION{saturation}/\"\n",
    "            cmdline += \" --VERBOSE 0 --BACKBONE tf_efficientnet_b3_ns --GPU_DEVICE cuda:0\"\n",
    "            cmdline += \" --NUM_EPOCHS 100 --BATCH_SIZE 16 --LR 0.00001 --NUM_FOLDS 3 --RUN_FOLDS 1\"\n",
    "            cmdline += f\" --AUGMENTATION True --HORIZONTAL_FLIP 0.50 --COLORJITTER_PROB 0.50 --COLORJITTER_SATURATION {saturation}\"\n",
    "            cmdline += \" --INCLUDE_TEST False --TARGET_DIR_PREDS None\"\n",
    "            cmdline += \"\\n\"\n",
    "            f.write(cmdline)\n",
    "    f.close()"
   ]
  },
  {
   "cell_type": "code",
   "execution_count": null,
   "id": "b6a6724b",
   "metadata": {
    "ExecuteTime": {
     "end_time": "2022-11-17T08:43:32.033227Z",
     "start_time": "2022-11-17T08:43:32.033220Z"
    }
   },
   "outputs": [],
   "source": [
    "if False:\n",
    "    with open(f\"colorjitter_hue.sh\", mode=\"w\") as f:\n",
    "        for hue in np.linspace(0.001,0.20,11):\n",
    "            cmdline = f\"python 01006_FINAL_CODE.py --OUTPUT_DIR results/MODEL_23_HUE{hue}/\"\n",
    "            cmdline += \" --VERBOSE 0 --BACKBONE tf_efficientnet_b3_ns --GPU_DEVICE cuda:0\"\n",
    "            cmdline += \" --NUM_EPOCHS 100 --BATCH_SIZE 16 --LR 0.00001 --NUM_FOLDS 3 --RUN_FOLDS 1\"\n",
    "            cmdline += f\" --AUGMENTATION True --HORIZONTAL_FLIP 0.50 --COLORJITTER_PROB 0.50 --COLORJITTER_HUE {hue}\"\n",
    "            cmdline += \" --INCLUDE_TEST False --TARGET_DIR_PREDS None\"\n",
    "            cmdline += \"\\n\"\n",
    "            f.write(cmdline)\n",
    "    f.close()"
   ]
  },
  {
   "cell_type": "code",
   "execution_count": null,
   "id": "dabece9f",
   "metadata": {
    "ExecuteTime": {
     "end_time": "2022-11-17T08:43:32.034011Z",
     "start_time": "2022-11-17T08:43:32.034005Z"
    }
   },
   "outputs": [],
   "source": [
    "if False:\n",
    "    with open(f\"erasing.sh\", mode=\"w\") as f:\n",
    "        for erasing in np.linspace(0.04,0.25,11):\n",
    "            cmdline = f\"python 01006_FINAL_CODE.py --OUTPUT_DIR results/MODEL_23_ERASING{erasing}/\"\n",
    "            cmdline += \" --VERBOSE 0 --BACKBONE tf_efficientnet_b3_ns --GPU_DEVICE cuda:0\"\n",
    "            cmdline += \" --NUM_EPOCHS 100 --BATCH_SIZE 16 --LR 0.00001 --NUM_FOLDS 3 --RUN_FOLDS 1\"\n",
    "            cmdline += f\" --AUGMENTATION True --HORIZONTAL_FLIP 0.50 --ERASING_MAX_PROB 0.50 --ERASING_MAX_RATIO {erasing}\"\n",
    "            cmdline += \" --INCLUDE_TEST False --TARGET_DIR_PREDS None\"\n",
    "            cmdline += \"\\n\"\n",
    "            f.write(cmdline)\n",
    "    f.close()"
   ]
  },
  {
   "cell_type": "code",
   "execution_count": null,
   "id": "2c934870",
   "metadata": {
    "ExecuteTime": {
     "end_time": "2022-11-17T08:43:32.034911Z",
     "start_time": "2022-11-17T08:43:32.034905Z"
    }
   },
   "outputs": [],
   "source": [
    "if False:\n",
    "    with open(f\"rotation.sh\", mode=\"w\") as f:\n",
    "        for rotation in np.linspace(0.01,0.25,11):\n",
    "            cmdline = f\"python 01006_FINAL_CODE.py --OUTPUT_DIR results/MODEL_23_ROTATION{rotation}/\"\n",
    "            cmdline += \" --VERBOSE 0 --BACKBONE tf_efficientnet_b3_ns --GPU_DEVICE cuda:0\"\n",
    "            cmdline += \" --NUM_EPOCHS 100 --BATCH_SIZE 16 --LR 0.00001 --NUM_FOLDS 3 --RUN_FOLDS 1\"\n",
    "            cmdline += f\" --AUGMENTATION True --HORIZONTAL_FLIP 0.50 --ROTATION_PROB 0.50 --ROTATION_DEGREES {rotation}\"\n",
    "            cmdline += \" --INCLUDE_TEST False --TARGET_DIR_PREDS None\"\n",
    "            cmdline += \"\\n\"\n",
    "            f.write(cmdline)\n",
    "    f.close()"
   ]
  },
  {
   "cell_type": "code",
   "execution_count": null,
   "id": "d38ab585",
   "metadata": {
    "ExecuteTime": {
     "end_time": "2022-11-17T08:43:32.035731Z",
     "start_time": "2022-11-17T08:43:32.035722Z"
    }
   },
   "outputs": [],
   "source": [
    "if False:\n",
    "    with open(f\"sharpness.sh\", mode=\"w\") as f:\n",
    "        for sharpness in np.linspace(0.001,0.25,11):\n",
    "            cmdline = f\"python 01006_FINAL_CODE.py --OUTPUT_DIR results/MODEL_23_SHARPNESS{sharpness}/\"\n",
    "            cmdline += \" --VERBOSE 0 --BACKBONE tf_efficientnet_b3_ns --GPU_DEVICE cuda:1\"\n",
    "            cmdline += \" --NUM_EPOCHS 100 --BATCH_SIZE 16 --LR 0.00001 --NUM_FOLDS 3 --RUN_FOLDS 1\"\n",
    "            cmdline += f\" --AUGMENTATION True --HORIZONTAL_FLIP 0.50 --SHARPNESS_PROB 0.50 --SHARPNESS_VALUE {sharpness}\"\n",
    "            cmdline += \" --INCLUDE_TEST False --TARGET_DIR_PREDS None\"\n",
    "            cmdline += \"\\n\"\n",
    "            f.write(cmdline)\n",
    "    f.close()"
   ]
  },
  {
   "cell_type": "code",
   "execution_count": null,
   "id": "772729c9",
   "metadata": {
    "ExecuteTime": {
     "end_time": "2022-11-17T08:43:32.036483Z",
     "start_time": "2022-11-17T08:43:32.036477Z"
    }
   },
   "outputs": [],
   "source": [
    "if False:\n",
    "    with open(f\"motionblur.sh\", mode=\"w\") as f:\n",
    "        for kernelsize in np.arange(5,20,2):\n",
    "            cmdline = f\"python 01006_FINAL_CODE.py --OUTPUT_DIR results/MODEL_23_MOTIONBLUR_KERNEL_SIZE{kernelsize}/\"\n",
    "            cmdline += \" --VERBOSE 0 --BACKBONE tf_efficientnet_b3_ns --GPU_DEVICE cuda:0\"\n",
    "            cmdline += \" --NUM_EPOCHS 100 --BATCH_SIZE 16 --LR 0.00001 --NUM_FOLDS 3 --RUN_FOLDS 1\"\n",
    "            cmdline += f\" --AUGMENTATION True --HORIZONTAL_FLIP 0.50 --MOTIONBLUR_PROB 0.50 --MOTIONBLUR_KERNEL_SIZE {kernelsize}\"\n",
    "            cmdline += \" --INCLUDE_TEST False --TARGET_DIR_PREDS None\"\n",
    "            cmdline += \"\\n\"\n",
    "            f.write(cmdline)\n",
    "    f.close()"
   ]
  },
  {
   "cell_type": "code",
   "execution_count": null,
   "id": "68f5addc",
   "metadata": {
    "ExecuteTime": {
     "end_time": "2022-11-17T08:43:32.037058Z",
     "start_time": "2022-11-17T08:43:32.037051Z"
    }
   },
   "outputs": [],
   "source": [
    "# [i for i in timm.list_models(pretrained=True) if 'seresnext' in i]"
   ]
  },
  {
   "cell_type": "markdown",
   "id": "630de9e0",
   "metadata": {},
   "source": [
    "## Scripts for random search of best models"
   ]
  },
  {
   "cell_type": "code",
   "execution_count": 11,
   "id": "95cb63e2",
   "metadata": {
    "ExecuteTime": {
     "end_time": "2022-11-17T12:11:27.127167Z",
     "start_time": "2022-11-17T12:11:27.120220Z"
    }
   },
   "outputs": [],
   "source": [
    "# Random Search Best Models\n",
    "if False:\n",
    "    backbones_list = np.array(['tf_efficientnet_b2_ns',\n",
    "     'tf_efficientnet_b3_ns',\n",
    "     'tf_efficientnet_b4_ns',\n",
    "     'tf_efficientnet_b5_ns',\n",
    "     'tf_efficientnet_b6_ns',\n",
    "     'tf_efficientnet_b7_ns',\n",
    "     'ig_resnext101_32x16d',\n",
    "     'ig_resnext101_32x8d',\n",
    "#      'tresnet_l_448',\n",
    "#      'tresnet_m_448',\n",
    "#      'tresnet_xl_448',\n",
    "#      'vit_base_patch8_224',\n",
    "#      'vit_base_patch16_384',\n",
    "#      'vit_base_patch32_384',\n",
    "     'resnest14d',\n",
    "     'resnest26d',\n",
    "     'resnest50d',\n",
    "     'resnest101e',\n",
    "     'resnest200e',\n",
    "     'seresnext26d_32x4d',\n",
    "     'seresnext50_32x4d',\n",
    "     'seresnext101d_32x8d'])\n",
    "\n",
    "    brightness_min_max = (0.07, 0.09)\n",
    "    contrast_min_max = (0.07, 0.09) # \n",
    "    saturation_min_max = (0.01, 0.20)\n",
    "    hue_min_max = (0, 0.1)\n",
    "    erasing_min_max = (0.07, 0.09) # \n",
    "    rotation_min_max = (0.01, 20.00)\n",
    "    sharpness_min_max = (0.06, 0.20) # \n",
    "    blur_motion_min_max = np.array([5, 7]) #np.arange(5,8,2) #Must be odd and >3\n",
    "\n",
    "    random.seed(4567)\n",
    "    np.random.seed(4567)\n",
    "    for name_server in ['gru0', 'gru1', 'e29', 'e30', 'e31', 'ramon']:\n",
    "        with open(f\"best_backbone_server_{name_server}_NUEVO.sh\", mode=\"w\") as f:\n",
    "            for num_model in np.arange(500): #len(backbones_list)):\n",
    "                prob_augment = np.random.uniform(low=0.10, high=0.30)\n",
    "                backbone = np.random.choice(backbones_list) #backbones_list[num_model] #\n",
    "\n",
    "                brightness = np.random.uniform(low=brightness_min_max[0], high=brightness_min_max[1])\n",
    "                contrast = np.random.uniform(low=contrast_min_max[0], high=contrast_min_max[1])\n",
    "                saturation = np.random.uniform(low=saturation_min_max[0], high=saturation_min_max[1])\n",
    "                hue = np.random.uniform(low=hue_min_max[0], high=hue_min_max[1])\n",
    "                erasing = np.random.uniform(low=erasing_min_max[0], high=erasing_min_max[1])\n",
    "                rotation = np.random.uniform(low=rotation_min_max[0], high=rotation_min_max[1])\n",
    "                sharpness = np.random.uniform(low=sharpness_min_max[0], high=sharpness_min_max[1])\n",
    "                kernelsize = np.random.choice(blur_motion_min_max)\n",
    "\n",
    "                gpu_device = 'cuda:0' if name_server!='gru1' else 'cuda:1'\n",
    "                output_dir_script = \"results/MODEL_BEST_BACKBONE/\" if name_server!='gru1' else \"results/MODEL_BEST_BACKBONE_GRU1/\"\n",
    "                cmdline = f\"python 01006_FINAL_CODE.py --OUTPUT_DIR {output_dir_script}\"\n",
    "                cmdline += f\" --VERBOSE 0 --BACKBONE {backbone} --GPU_DEVICE {gpu_device} --VERSION 01003\"\n",
    "                cmdline += \" --NUM_EPOCHS 130 --BATCH_SIZE 16 --LR 0.00001 --NUM_FOLDS 3 --RUN_FOLDS 1\"\n",
    "#                 cmdline += \" --NUM_EPOCHS 2 --BATCH_SIZE 16 --LR 0.00001 --NUM_FOLDS 3 --RUN_FOLDS 1\"\n",
    "                cmdline += f\" --AUGMENTATION True --HORIZONTAL_FLIP 0.50\"\n",
    "                cmdline += f\" --COLORJITTER_PROB {prob_augment}\"\n",
    "    #             cmdline += f\" --COLORJITTER_BRIGHTNESS {brightness}\"\n",
    "#                 cmdline += f\" --COLORJITTER_CONTRAST {contrast}\"\n",
    "                cmdline += f\" --COLORJITTER_SATURATION {saturation}\"\n",
    "#                 cmdline += f\" --COLORJITTER_HUE {hue}\"\n",
    "#                 cmdline += f\" --ERASING_MAX_PROB {prob_augment} --ERASING_MAX_RATIO {erasing}\"\n",
    "                cmdline += f\" --ROTATION_PROB {prob_augment} --ROTATION_DEGREES {rotation}\"\n",
    "                cmdline += f\" --SHARPNESS_PROB {prob_augment} --SHARPNESS_VALUE {sharpness}\"\n",
    "                cmdline += f\" --MOTIONBLUR_PROB {prob_augment} --MOTIONBLUR_KERNEL_SIZE {kernelsize}\"\n",
    "                cmdline += \" --INCLUDE_TEST False --TARGET_DIR_PREDS None\"\n",
    "                cmdline += \"\\n\"\n",
    "                f.write(cmdline)\n",
    "        f.close()"
   ]
  },
  {
   "cell_type": "markdown",
   "id": "3799f013",
   "metadata": {},
   "source": [
    "## Scripts for training the best models with Pseudolabeling"
   ]
  },
  {
   "cell_type": "code",
   "execution_count": 3,
   "id": "016b8009",
   "metadata": {
    "ExecuteTime": {
     "end_time": "2022-11-17T23:09:03.705388Z",
     "start_time": "2022-11-17T23:09:03.683496Z"
    }
   },
   "outputs": [],
   "source": [
    "if True:\n",
    "    best_models_df = pd.read_csv('results/the_best_models_final.csv')\n",
    "    best_models_df = best_models_df.sort_values('F1MACRO', ascending=False)\n",
    "    name_server_list = ['gru0', 'gru1', 'e29', 'e30', 'e31', 'ramon']\n",
    "    for nrow, row in best_models_df.head(12).iterrows():\n",
    "        name_server = name_server_list[nrow % 6]\n",
    "        prob_augment = row['COLORJITTER_PROB']\n",
    "        backbone = row['BACKBONE']\n",
    "        saturation = row['COLORJITTER_SATURATION']\n",
    "        rotation = row['ROTATION_DEGREES']\n",
    "        sharpness = row['SHARPNESS_VALUE']\n",
    "        kernelsize = row['MOTIONBLUR_KERNEL_SIZE']\n",
    "        output_dir_script = f\"results/BESTMODEL{nrow}/\"\n",
    "        output_dir_script_test = f\"results/BESTMODEL{nrow}_TEST/\"\n",
    "        gpu_device = 'cuda:0' if name_server!='gru1' else 'cuda:1'\n",
    "\n",
    "        with open(f\"Final_model_{name_server}_num_model{nrow}.sh\", mode=\"w\") as f:\n",
    "            # Original Model\n",
    "            cmdline = f\"python 01006_FINAL_CODE.py --OUTPUT_DIR {output_dir_script}\"\n",
    "            cmdline += f\" --VERBOSE 0 --BACKBONE {backbone} --GPU_DEVICE {gpu_device} --VERSION 01004\"\n",
    "            cmdline += \" --NUM_EPOCHS 130 --BATCH_SIZE 16 --LR 0.00001 --NUM_FOLDS 5 --RUN_FOLDS 5\"\n",
    "    #                 cmdline += \" --NUM_EPOCHS 2 --BATCH_SIZE 16 --LR 0.00001 --NUM_FOLDS 3 --RUN_FOLDS 1\"\n",
    "            cmdline += f\" --AUGMENTATION True --HORIZONTAL_FLIP 0.50\"\n",
    "            cmdline += f\" --COLORJITTER_PROB {prob_augment}\"\n",
    "    #             cmdline += f\" --COLORJITTER_BRIGHTNESS {brightness}\"\n",
    "    #                 cmdline += f\" --COLORJITTER_CONTRAST {contrast}\"\n",
    "            cmdline += f\" --COLORJITTER_SATURATION {saturation}\"\n",
    "    #                 cmdline += f\" --COLORJITTER_HUE {hue}\"\n",
    "    #                 cmdline += f\" --ERASING_MAX_PROB {prob_augment} --ERASING_MAX_RATIO {erasing}\"\n",
    "            cmdline += f\" --ROTATION_PROB {prob_augment} --ROTATION_DEGREES {rotation}\"\n",
    "            cmdline += f\" --SHARPNESS_PROB {prob_augment} --SHARPNESS_VALUE {sharpness}\"\n",
    "            cmdline += f\" --MOTIONBLUR_PROB {prob_augment} --MOTIONBLUR_KERNEL_SIZE {kernelsize}\"\n",
    "            cmdline += \" --INCLUDE_TEST False --TARGET_DIR_PREDS None\"\n",
    "            cmdline += \"\\n\"\n",
    "            f.write(cmdline)\n",
    "        \n",
    "            # Original Model with Pseudo-labelling\n",
    "            cmdline = f\"python 01006_FINAL_CODE.py --OUTPUT_DIR {output_dir_script_test}\"\n",
    "            cmdline += f\" --VERBOSE 0 --BACKBONE {backbone} --GPU_DEVICE {gpu_device} --VERSION 01004\"\n",
    "            cmdline += \" --NUM_EPOCHS 130 --BATCH_SIZE 16 --LR 0.00001 --NUM_FOLDS 5 --RUN_FOLDS 5\"\n",
    "    #                 cmdline += \" --NUM_EPOCHS 2 --BATCH_SIZE 16 --LR 0.00001 --NUM_FOLDS 3 --RUN_FOLDS 1\"\n",
    "            cmdline += f\" --AUGMENTATION True --HORIZONTAL_FLIP 0.50\"\n",
    "            cmdline += f\" --COLORJITTER_PROB {prob_augment}\"\n",
    "    #             cmdline += f\" --COLORJITTER_BRIGHTNESS {brightness}\"\n",
    "    #                 cmdline += f\" --COLORJITTER_CONTRAST {contrast}\"\n",
    "            cmdline += f\" --COLORJITTER_SATURATION {saturation}\"\n",
    "    #                 cmdline += f\" --COLORJITTER_HUE {hue}\"\n",
    "    #                 cmdline += f\" --ERASING_MAX_PROB {prob_augment} --ERASING_MAX_RATIO {erasing}\"\n",
    "            cmdline += f\" --ROTATION_PROB {prob_augment} --ROTATION_DEGREES {rotation}\"\n",
    "            cmdline += f\" --SHARPNESS_PROB {prob_augment} --SHARPNESS_VALUE {sharpness}\"\n",
    "            cmdline += f\" --MOTIONBLUR_PROB {prob_augment} --MOTIONBLUR_KERNEL_SIZE {kernelsize}\"\n",
    "            cmdline += f\" --INCLUDE_TEST True --TARGET_DIR_PREDS {output_dir_script}\"\n",
    "            cmdline += \"\\n\"\n",
    "            f.write(cmdline)\n",
    "        f.close()\n",
    "        \n",
    "    "
   ]
  },
  {
   "cell_type": "markdown",
   "id": "3f32b0e7",
   "metadata": {},
   "source": [
    "# Ensembling"
   ]
  },
  {
   "cell_type": "markdown",
   "id": "238e3959",
   "metadata": {},
   "source": [
    "## Load preds from the best models"
   ]
  },
  {
   "cell_type": "code",
   "execution_count": 125,
   "id": "041588ea",
   "metadata": {
    "ExecuteTime": {
     "end_time": "2022-11-18T12:40:48.265938Z",
     "start_time": "2022-11-18T12:40:48.261579Z"
    }
   },
   "outputs": [
    {
     "data": {
      "text/plain": [
       "['best_models/BESTMODEL0_TEST/',\n",
       " 'best_models/BESTMODEL1_TEST/',\n",
       " 'best_models/BESTMODEL2_TEST/',\n",
       " 'best_models/BESTMODEL3_TEST/',\n",
       " 'best_models/BESTMODEL4_TEST/',\n",
       " 'best_models/BESTMODEL5_TEST/',\n",
       " 'best_models/BESTMODEL6_TEST/',\n",
       " 'best_models/BESTMODEL7_TEST/',\n",
       " 'best_models/BESTMODEL8_TEST/',\n",
       " 'best_models/BESTMODEL9_TEST/',\n",
       " 'best_models/BESTMODEL11_TEST/']"
      ]
     },
     "execution_count": 125,
     "metadata": {},
     "output_type": "execute_result"
    }
   ],
   "source": [
    "best_models_to_ensemble = [f\"best_models/BESTMODEL{i}_TEST/\" for i in [0,1,2,3,4,5,6,7,8,9,11]] # [1, 2, 6, 3, 11, 8, 5, 7, 0]] #[0,1,2,3,5,6,7,8,9,11]] #np.arange(12)]\n",
    "best_models_to_ensemble"
   ]
  },
  {
   "cell_type": "code",
   "execution_count": 126,
   "id": "f968d749",
   "metadata": {
    "ExecuteTime": {
     "end_time": "2022-11-18T12:40:48.298139Z",
     "start_time": "2022-11-18T12:40:48.267901Z"
    }
   },
   "outputs": [
    {
     "name": "stdout",
     "output_type": "stream",
     "text": [
      "best_models/BESTMODEL0_TEST/ F1-MACRO=0.7835420168213352 ACC=0.8325554259043174\n",
      "best_models/BESTMODEL1_TEST/ F1-MACRO=0.8027667429525586 ACC=0.8488914819136523\n",
      "best_models/BESTMODEL2_TEST/ F1-MACRO=0.80095633588301 ACC=0.8418903150525088\n",
      "best_models/BESTMODEL3_TEST/ F1-MACRO=0.7926227475975832 ACC=0.8337222870478413\n",
      "best_models/BESTMODEL4_TEST/ F1-MACRO=0.7888924431658023 ACC=0.838973162193699\n",
      "best_models/BESTMODEL5_TEST/ F1-MACRO=0.7870926319914475 ACC=0.8325554259043174\n",
      "best_models/BESTMODEL6_TEST/ F1-MACRO=0.7958160480750842 ACC=0.8471411901983664\n",
      "best_models/BESTMODEL7_TEST/ F1-MACRO=0.7857459446498605 ACC=0.8325554259043174\n",
      "best_models/BESTMODEL8_TEST/ F1-MACRO=0.7911476587182683 ACC=0.8337222870478413\n",
      "best_models/BESTMODEL9_TEST/ F1-MACRO=0.790127016767388 ACC=0.8354725787631272\n",
      "best_models/BESTMODEL11_TEST/ F1-MACRO=0.7924930630847008 ACC=0.8424737456242707\n"
     ]
    }
   ],
   "source": [
    "test_preds_list = []\n",
    "valid_preds_list = []\n",
    "valid_trues_list = []\n",
    "for dir_model in best_models_to_ensemble:\n",
    "    # Valid preds\n",
    "    trues_total = []\n",
    "    preds_total = []\n",
    "    for fold in np.arange(5):\n",
    "        with open(f'{dir_model}modelo_fold-{fold}.pkl', 'rb') as file:\n",
    "            best_preds_fold = pickle.load(file)\n",
    "            best_trues_fold = pickle.load(file)\n",
    "        trues_total.append(best_trues_fold)\n",
    "        preds_total.append(best_preds_fold)\n",
    "        \n",
    "    preds_total = np.vstack(preds_total)\n",
    "    trues_total = np.vstack(trues_total)\n",
    "    \n",
    "    FINAL_F1MACRO =  metrics.f1_score(np.argmax(trues_total,1), np.argmax(preds_total,1), average='macro')\n",
    "    FINAL_ACC = np.mean(np.argmax(trues_total,1)==np.argmax(preds_total,1))\n",
    "    print(f'{dir_model} F1-MACRO={FINAL_F1MACRO} ACC={FINAL_ACC}')\n",
    "    \n",
    "    # Test preds\n",
    "    with open(f'{dir_model}preds_test.pkl', 'rb') as file:\n",
    "        preds_test = pickle.load(file)\n",
    "        \n",
    "    valid_preds_list.append(preds_total)\n",
    "    valid_trues_list.append(trues_total)\n",
    "    test_preds_list.append(preds_test)"
   ]
  },
  {
   "cell_type": "markdown",
   "id": "15938275",
   "metadata": {},
   "source": [
    "## Search the best weighted ensemble"
   ]
  },
  {
   "cell_type": "code",
   "execution_count": 127,
   "id": "93afc070",
   "metadata": {
    "ExecuteTime": {
     "end_time": "2022-11-18T12:40:48.301321Z",
     "start_time": "2022-11-18T12:40:48.299264Z"
    }
   },
   "outputs": [],
   "source": [
    "for i in range(len(best_models_to_ensemble)):\n",
    "    assert np.sum(valid_trues_list[0]!=valid_trues_list[i])==0"
   ]
  },
  {
   "cell_type": "code",
   "execution_count": 128,
   "id": "9b4694e4",
   "metadata": {
    "ExecuteTime": {
     "end_time": "2022-11-18T12:40:48.375133Z",
     "start_time": "2022-11-18T12:40:48.302370Z"
    }
   },
   "outputs": [
    {
     "name": "stdout",
     "output_type": "stream",
     "text": [
      "(0, 1, 2)\n",
      "-0.8032883721805218\n",
      "(0, 1, 3)\n",
      "-0.8095547267680288\n",
      "(0, 1, 4)\n",
      "-0.7981950515956538\n",
      "(0, 1, 5)\n",
      "-0.8036428335898093\n",
      "(0, 1, 6)\n",
      "-0.8070266536907408\n",
      "(0, 1, 7)\n",
      "-0.801738468591772\n",
      "(0, 1, 8)\n",
      "-0.800881005462878\n",
      "(0, 1, 9)\n",
      "-0.8032059678761939\n",
      "(0, 2, 3)\n",
      "-0.7971129308052447\n",
      "(0, 2, 4)\n",
      "-0.8000778667452219\n",
      "(0, 2, 5)\n",
      "-0.7990566425972115\n",
      "(0, 2, 6)\n",
      "-0.8006965779153449\n",
      "(0, 2, 7)\n",
      "-0.7985120282360388\n",
      "(0, 2, 8)\n",
      "-0.8031602033821627\n",
      "(0, 2, 9)\n",
      "-0.8048137507824801\n",
      "(0, 3, 4)\n",
      "-0.7983748545476343\n",
      "(0, 3, 5)\n",
      "-0.7957610288701572\n",
      "(0, 3, 6)\n",
      "-0.7986399644830393\n",
      "(0, 3, 7)\n",
      "-0.7981041365067806\n",
      "(0, 3, 8)\n",
      "-0.7975560420830927\n",
      "(0, 3, 9)\n",
      "-0.799092807257542\n",
      "(0, 4, 5)\n",
      "-0.7877332731502292\n",
      "(0, 4, 6)\n",
      "-0.7974743449843992\n",
      "(0, 4, 7)\n",
      "-0.792418272324082\n",
      "(0, 4, 8)\n",
      "-0.7913956293667771\n",
      "(0, 4, 9)\n",
      "-0.7957311820713534\n",
      "(0, 5, 6)\n",
      "-0.7945663364485341\n",
      "(0, 5, 7)\n",
      "-0.7902215164155709\n",
      "(0, 5, 8)\n",
      "-0.7932565541327113\n",
      "(0, 5, 9)\n",
      "-0.7877450790268402\n",
      "(0, 6, 7)\n",
      "-0.7947131767155339\n",
      "(0, 6, 8)\n",
      "-0.801716656523839\n",
      "(0, 6, 9)\n",
      "-0.7971723396672251\n",
      "(0, 7, 8)\n",
      "-0.7909420195452515\n",
      "(0, 7, 9)\n",
      "-0.7922705404475273\n",
      "(0, 8, 9)\n",
      "-0.7914711842106659\n",
      "(1, 2, 3)\n",
      "-0.8139408357847587\n",
      "(1, 2, 4)\n",
      "-0.806094879621995\n",
      "(1, 2, 5)\n",
      "-0.7997584527532582\n",
      "(1, 2, 6)\n",
      "-0.8111083980956666\n",
      "(1, 2, 7)\n",
      "-0.7999239470257894\n",
      "(1, 2, 8)\n",
      "-0.8092142452614821\n",
      "(1, 2, 9)\n",
      "-0.8072200275525848\n",
      "(1, 3, 4)\n",
      "-0.8038328140898754\n",
      "(1, 3, 5)\n",
      "-0.8031014477133946\n",
      "(1, 3, 6)\n",
      "-0.799980793865727\n",
      "(1, 3, 7)\n",
      "-0.8043695336315965\n",
      "(1, 3, 8)\n",
      "-0.8000772165367961\n",
      "(1, 3, 9)\n",
      "-0.8010027742609536\n",
      "(1, 4, 5)\n",
      "-0.7921294490154919\n",
      "(1, 4, 6)\n",
      "-0.8005661577525677\n",
      "(1, 4, 7)\n",
      "-0.8029198985462608\n",
      "(1, 4, 8)\n",
      "-0.7964430292445993\n",
      "(1, 4, 9)\n",
      "-0.7967643413658978\n",
      "(1, 5, 6)\n",
      "-0.800584117242345\n",
      "(1, 5, 7)\n",
      "-0.7973801811312868\n",
      "(1, 5, 8)\n",
      "-0.7954380190592826\n",
      "(1, 5, 9)\n",
      "-0.8006303591044722\n",
      "(1, 6, 7)\n",
      "-0.8011122330752545\n",
      "(1, 6, 8)\n",
      "-0.8040350187235235\n",
      "(1, 6, 9)\n",
      "-0.8068885452100428\n",
      "(1, 7, 8)\n",
      "-0.8007892927867721\n",
      "(1, 7, 9)\n",
      "-0.7967399350616096\n",
      "(1, 8, 9)\n",
      "-0.8025791507403457\n",
      "(2, 3, 4)\n",
      "-0.8019570394178283\n",
      "(2, 3, 5)\n",
      "-0.803633048230164\n",
      "(2, 3, 6)\n",
      "-0.8005243948059301\n",
      "(2, 3, 7)\n",
      "-0.8011117667784692\n",
      "(2, 3, 8)\n",
      "-0.8054660732915927\n",
      "(2, 3, 9)\n",
      "-0.8046725869770692\n",
      "(2, 4, 5)\n",
      "-0.7922166202362529\n",
      "(2, 4, 6)\n",
      "-0.8029477205250046\n",
      "(2, 4, 7)\n",
      "-0.8068753683637846\n",
      "(2, 4, 8)\n",
      "-0.8021263958680045\n",
      "(2, 4, 9)\n",
      "-0.8002999077425308\n",
      "(2, 5, 6)\n",
      "-0.8038298688918868\n",
      "(2, 5, 7)\n",
      "-0.7981446169792696\n",
      "(2, 5, 8)\n",
      "-0.803820330678196\n",
      "(2, 5, 9)\n",
      "-0.8016894478302895\n",
      "(2, 6, 7)\n",
      "-0.7991213634234229\n",
      "(2, 6, 8)\n",
      "-0.8056054992014346\n",
      "(2, 6, 9)\n",
      "-0.7997434170342838\n",
      "(2, 7, 8)\n",
      "-0.7968661312618558\n",
      "(2, 7, 9)\n",
      "-0.7978740892440507\n",
      "(2, 8, 9)\n",
      "-0.8017889940229042\n",
      "(3, 4, 5)\n",
      "-0.7860465530057644\n",
      "(3, 4, 6)\n",
      "-0.7942685341661339\n",
      "(3, 4, 7)\n",
      "-0.7989884446450023\n",
      "(3, 4, 8)\n",
      "-0.7943710549006443\n",
      "(3, 4, 9)\n",
      "-0.8005843028539493\n",
      "(3, 5, 6)\n",
      "-0.7825445358576606\n",
      "(3, 5, 7)\n",
      "-0.7926987785924112\n",
      "(3, 5, 8)\n",
      "-0.7988646473233728\n",
      "(3, 5, 9)\n",
      "-0.7885044434693712\n",
      "(3, 6, 7)\n",
      "-0.7926395527937146\n",
      "(3, 6, 8)\n",
      "-0.7948752301111129\n",
      "(3, 6, 9)\n",
      "-0.7966968452645986\n",
      "(3, 7, 8)\n",
      "-0.7969692654387233\n",
      "(3, 7, 9)\n",
      "-0.7979299742409686\n",
      "(3, 8, 9)\n",
      "-0.7992822239622622\n",
      "(4, 5, 6)\n",
      "-0.7848330854379469\n",
      "(4, 5, 7)\n",
      "-0.7891195052593923\n",
      "(4, 5, 8)\n",
      "-0.7857240744578488\n",
      "(4, 5, 9)\n",
      "-0.7881195964736364\n",
      "(4, 6, 7)\n",
      "-0.7950870168659535\n",
      "(4, 6, 8)\n",
      "-0.7981956262327653\n",
      "(4, 6, 9)\n",
      "-0.7926917136959112\n",
      "(4, 7, 8)\n",
      "-0.7936982863318108\n",
      "(4, 7, 9)\n",
      "-0.797640321069506\n",
      "(4, 8, 9)\n",
      "-0.7895992870407276\n",
      "(5, 6, 7)\n",
      "-0.7953195215163218\n",
      "(5, 6, 8)\n",
      "-0.7931102916950467\n",
      "(5, 6, 9)\n",
      "-0.7943295517127206\n",
      "(5, 7, 8)\n",
      "-0.7990828343182933\n",
      "(5, 7, 9)\n",
      "-0.7941698169716135\n",
      "(5, 8, 9)\n",
      "-0.7981209628273297\n",
      "(6, 7, 8)\n",
      "-0.7959076919204838\n",
      "(6, 7, 9)\n",
      "-0.7976846794724306\n",
      "(6, 8, 9)\n",
      "-0.8024854226406523\n",
      "(7, 8, 9)\n",
      "-0.800636700994612\n"
     ]
    }
   ],
   "source": [
    "from scipy.optimize import minimize\n",
    "from itertools import combinations\n",
    "combi_iter = combinations(list(np.arange(10)), 3)\n",
    "\n",
    "    \n",
    "NUM_MODELS = 9\n",
    "def func_optim_corr(w):\n",
    "    w = list(w)\n",
    "    w.append((len(w)+1.0)-sum(w))\n",
    "    w = np.array(w)\n",
    "    w = w / len(w)\n",
    "    preds_tmp = []\n",
    "    for numptmp in range(len(COMBI)):\n",
    "        preds_public = valid_preds_list[COMBI[numptmp]]*w[numptmp]\n",
    "        preds_tmp.append(preds_public)\n",
    "    preds_tmp = np.stack(preds_tmp)\n",
    "    preds_tmp = np.mean(preds_tmp, axis=0)\n",
    "    score = metrics.f1_score(np.argmax(valid_trues_list[0],1), np.argmax(preds_tmp,1), average='macro')\n",
    "    \n",
    "    return -score\n",
    "\n",
    "for COMBI in combi_iter:\n",
    "    print(COMBI)\n",
    "    print(func_optim_corr(np.ones(len(COMBI)-1)))"
   ]
  },
  {
   "cell_type": "code",
   "execution_count": 129,
   "id": "6ce36be8",
   "metadata": {
    "ExecuteTime": {
     "end_time": "2022-11-18T12:48:26.340664Z",
     "start_time": "2022-11-18T12:40:48.376361Z"
    }
   },
   "outputs": [
    {
     "name": "stderr",
     "output_type": "stream",
     "text": [
      "100%|█████████████████████████████████████████████| 8/8 [07:37<00:00, 57.24s/it]\n"
     ]
    },
    {
     "data": {
      "text/html": [
       "<div>\n",
       "<style scoped>\n",
       "    .dataframe tbody tr th:only-of-type {\n",
       "        vertical-align: middle;\n",
       "    }\n",
       "\n",
       "    .dataframe tbody tr th {\n",
       "        vertical-align: top;\n",
       "    }\n",
       "\n",
       "    .dataframe thead th {\n",
       "        text-align: right;\n",
       "    }\n",
       "</style>\n",
       "<table border=\"1\" class=\"dataframe\">\n",
       "  <thead>\n",
       "    <tr style=\"text-align: right;\">\n",
       "      <th></th>\n",
       "      <th>COMBI</th>\n",
       "      <th>SCORE</th>\n",
       "      <th>W</th>\n",
       "    </tr>\n",
       "  </thead>\n",
       "  <tbody>\n",
       "    <tr>\n",
       "      <th>0</th>\n",
       "      <td>(0, 1)</td>\n",
       "      <td>0.807078</td>\n",
       "      <td>[0.07294902219408106, 0.9270509778059189]</td>\n",
       "    </tr>\n",
       "    <tr>\n",
       "      <th>1</th>\n",
       "      <td>(0, 2)</td>\n",
       "      <td>0.800956</td>\n",
       "      <td>[0.0026891953005411767, 0.9973108046994589]</td>\n",
       "    </tr>\n",
       "    <tr>\n",
       "      <th>2</th>\n",
       "      <td>(0, 3)</td>\n",
       "      <td>0.795891</td>\n",
       "      <td>[0.6151000097117969, 0.3848999902882031]</td>\n",
       "    </tr>\n",
       "    <tr>\n",
       "      <th>3</th>\n",
       "      <td>(0, 4)</td>\n",
       "      <td>0.787443</td>\n",
       "      <td>[0.880848976688157, 0.11915102331184302]</td>\n",
       "    </tr>\n",
       "    <tr>\n",
       "      <th>4</th>\n",
       "      <td>(0, 5)</td>\n",
       "      <td>0.789447</td>\n",
       "      <td>[0.08493049235728108, 0.9150695076427189]</td>\n",
       "    </tr>\n",
       "  </tbody>\n",
       "</table>\n",
       "</div>"
      ],
      "text/plain": [
       "    COMBI     SCORE                                            W\n",
       "0  (0, 1)  0.807078    [0.07294902219408106, 0.9270509778059189]\n",
       "1  (0, 2)  0.800956  [0.0026891953005411767, 0.9973108046994589]\n",
       "2  (0, 3)  0.795891     [0.6151000097117969, 0.3848999902882031]\n",
       "3  (0, 4)  0.787443     [0.880848976688157, 0.11915102331184302]\n",
       "4  (0, 5)  0.789447    [0.08493049235728108, 0.9150695076427189]"
      ]
     },
     "execution_count": 129,
     "metadata": {},
     "output_type": "execute_result"
    }
   ],
   "source": [
    "# Searching the best combination of models\n",
    "res = []\n",
    "for NUM_MODELS in tqdm(range(2,10)): # len(best_models_to_ensemble)+1)):\n",
    "    combi_iter = combinations(list(np.arange(len(best_models_to_ensemble))), NUM_MODELS)\n",
    "    for COMBI in combi_iter:\n",
    "#         print(COMBI)\n",
    "#         print(func_optim_corr(np.ones(len(COMBI)-1)))\n",
    "        res_optim = minimize(func_optim_corr, \n",
    "                             np.ones(len(COMBI)-1),\n",
    "                             method='Powell')\n",
    "        w = list(res_optim.x)\n",
    "        w.append((len(w)+1.0)-sum(w))\n",
    "        w = np.array(w)\n",
    "        w = w / len(w)\n",
    "#         print('\\nNumber of models=', NUM_MODELS, 'F1-MACRO=', -res_optim.fun, '\\nW=', w)\n",
    "        res.append(dict(COMBI=COMBI, SCORE= -res_optim.fun, W=w ))\n",
    "res = pd.DataFrame(res)\n",
    "res.head()"
   ]
  },
  {
   "cell_type": "code",
   "execution_count": 130,
   "id": "a986a023",
   "metadata": {
    "ExecuteTime": {
     "end_time": "2022-11-18T12:48:26.476406Z",
     "start_time": "2022-11-18T12:48:26.341568Z"
    }
   },
   "outputs": [
    {
     "data": {
      "text/html": [
       "<div>\n",
       "<style scoped>\n",
       "    .dataframe tbody tr th:only-of-type {\n",
       "        vertical-align: middle;\n",
       "    }\n",
       "\n",
       "    .dataframe tbody tr th {\n",
       "        vertical-align: top;\n",
       "    }\n",
       "\n",
       "    .dataframe thead th {\n",
       "        text-align: right;\n",
       "    }\n",
       "</style>\n",
       "<table border=\"1\" class=\"dataframe\">\n",
       "  <thead>\n",
       "    <tr style=\"text-align: right;\">\n",
       "      <th></th>\n",
       "      <th>COMBI</th>\n",
       "      <th>SCORE</th>\n",
       "      <th>W</th>\n",
       "    </tr>\n",
       "  </thead>\n",
       "  <tbody>\n",
       "    <tr>\n",
       "      <th>1708</th>\n",
       "      <td>(1, 2, 3, 5, 6, 8, 10)</td>\n",
       "      <td>0.823787</td>\n",
       "      <td>[0.4656827585813856, 0.07260930478900147, 0.26...</td>\n",
       "    </tr>\n",
       "    <tr>\n",
       "      <th>1292</th>\n",
       "      <td>(1, 2, 3, 6, 8, 9)</td>\n",
       "      <td>0.821910</td>\n",
       "      <td>[0.33378603846686256, 0.3350185082723272, 0.17...</td>\n",
       "    </tr>\n",
       "    <tr>\n",
       "      <th>1271</th>\n",
       "      <td>(1, 2, 3, 4, 6, 9)</td>\n",
       "      <td>0.821559</td>\n",
       "      <td>[0.3227810623877504, 0.5320589023535586, 0.105...</td>\n",
       "    </tr>\n",
       "    <tr>\n",
       "      <th>1810</th>\n",
       "      <td>(0, 1, 2, 3, 4, 5, 7, 10)</td>\n",
       "      <td>0.821014</td>\n",
       "      <td>[0.1900919149504506, 0.3723392187752632, 0.067...</td>\n",
       "    </tr>\n",
       "    <tr>\n",
       "      <th>826</th>\n",
       "      <td>(1, 3, 4, 7, 9)</td>\n",
       "      <td>0.820913</td>\n",
       "      <td>[0.571410296510532, 0.27180378416118994, 0.105...</td>\n",
       "    </tr>\n",
       "  </tbody>\n",
       "</table>\n",
       "</div>"
      ],
      "text/plain": [
       "                          COMBI     SCORE                                                  W\n",
       "1708     (1, 2, 3, 5, 6, 8, 10)  0.823787  [0.4656827585813856, 0.07260930478900147, 0.26...\n",
       "1292         (1, 2, 3, 6, 8, 9)  0.821910  [0.33378603846686256, 0.3350185082723272, 0.17...\n",
       "1271         (1, 2, 3, 4, 6, 9)  0.821559  [0.3227810623877504, 0.5320589023535586, 0.105...\n",
       "1810  (0, 1, 2, 3, 4, 5, 7, 10)  0.821014  [0.1900919149504506, 0.3723392187752632, 0.067...\n",
       "826             (1, 3, 4, 7, 9)  0.820913  [0.571410296510532, 0.27180378416118994, 0.105..."
      ]
     },
     "execution_count": 130,
     "metadata": {},
     "output_type": "execute_result"
    }
   ],
   "source": [
    "res = res.sort_values('SCORE', ascending=False)\n",
    "res.to_csv('BestCombi.csv')\n",
    "res.head()"
   ]
  },
  {
   "cell_type": "code",
   "execution_count": 131,
   "id": "ec2d0c54",
   "metadata": {
    "ExecuteTime": {
     "end_time": "2022-11-18T12:48:26.480315Z",
     "start_time": "2022-11-18T12:48:26.477292Z"
    }
   },
   "outputs": [
    {
     "data": {
      "text/plain": [
       "COMBI                               (1, 2, 3, 5, 6, 8, 10)\n",
       "SCORE                                             0.823787\n",
       "W        [0.4656827585813856, 0.07260930478900147, 0.26...\n",
       "Name: 1708, dtype: object"
      ]
     },
     "execution_count": 131,
     "metadata": {},
     "output_type": "execute_result"
    }
   ],
   "source": [
    "res.iloc[0]"
   ]
  },
  {
   "cell_type": "markdown",
   "id": "b8a851e7",
   "metadata": {},
   "source": [
    "## Create FINAL submission"
   ]
  },
  {
   "cell_type": "code",
   "execution_count": 132,
   "id": "66ddc39b",
   "metadata": {
    "ExecuteTime": {
     "end_time": "2022-11-18T12:48:26.807587Z",
     "start_time": "2022-11-18T12:48:26.481134Z"
    }
   },
   "outputs": [
    {
     "name": "stdout",
     "output_type": "stream",
     "text": [
      "0.8237866251349666\n",
      "W= [ 0.46568276  0.0726093   0.26963122  0.02682925  0.1716054   0.14150835\n",
      " -0.14786629]\n",
      "[ 0.46568276  0.0726093   0.26963122  0.02682925  0.1716054   0.14150835\n",
      " -0.14786629]\n"
     ]
    }
   ],
   "source": [
    "COMBI = res.iloc[0]['COMBI']\n",
    "res_optim = minimize(func_optim_corr, \n",
    "                             np.ones(len(COMBI)-1),\n",
    "                             method='Powell')\n",
    "w = list(res_optim.x)\n",
    "w.append((len(w)+1.0)-sum(w))\n",
    "w = np.array(w)\n",
    "w = w / len(w)\n",
    "print(-res_optim.fun)\n",
    "print('W=', w)\n",
    "print(res.iloc[0]['W'])"
   ]
  },
  {
   "cell_type": "code",
   "execution_count": 133,
   "id": "6f93e159",
   "metadata": {
    "ExecuteTime": {
     "end_time": "2022-11-18T12:48:26.811244Z",
     "start_time": "2022-11-18T12:48:26.808446Z"
    }
   },
   "outputs": [
    {
     "name": "stdout",
     "output_type": "stream",
     "text": [
      "[[-0.19450864 -0.7064993   0.80956537]\n",
      " [-0.30468768 -0.40818453  0.7707776 ]\n",
      " [ 0.92327017 -0.8561235  -0.23542917]\n",
      " [-0.2867386  -0.37562492  0.68049306]\n",
      " [-0.56239057 -0.38611668  0.91182715]\n",
      " [ 0.1254718  -0.44919726  0.27663383]\n",
      " [ 0.9121885  -0.619522   -0.30139902]\n",
      " [-0.48731947 -0.30373985  0.73871726]\n",
      " [-0.4077855  -0.43511987  0.6775182 ]\n",
      " [-0.3573003  -0.27328333  0.58566993]]\n"
     ]
    }
   ],
   "source": [
    "preds_test = []\n",
    "for numptmp in range(len(COMBI)):\n",
    "    preds_public = test_preds_list[COMBI[numptmp]]*w[numptmp]\n",
    "    preds_test.append(preds_public)\n",
    "preds_test = np.stack(preds_test)\n",
    "preds_test = np.mean(preds_test, axis=0)\n",
    "print(preds_test[:10,])"
   ]
  },
  {
   "cell_type": "code",
   "execution_count": 134,
   "id": "4b424760",
   "metadata": {
    "ExecuteTime": {
     "end_time": "2022-11-18T12:48:26.820139Z",
     "start_time": "2022-11-18T12:48:26.812068Z"
    }
   },
   "outputs": [
    {
     "data": {
      "text/html": [
       "<div>\n",
       "<style scoped>\n",
       "    .dataframe tbody tr th:only-of-type {\n",
       "        vertical-align: middle;\n",
       "    }\n",
       "\n",
       "    .dataframe tbody tr th {\n",
       "        vertical-align: top;\n",
       "    }\n",
       "\n",
       "    .dataframe thead th {\n",
       "        text-align: right;\n",
       "    }\n",
       "</style>\n",
       "<table border=\"1\" class=\"dataframe\">\n",
       "  <thead>\n",
       "    <tr style=\"text-align: right;\">\n",
       "      <th></th>\n",
       "      <th>latitude</th>\n",
       "      <th>longitude</th>\n",
       "      <th>year</th>\n",
       "      <th>example_path</th>\n",
       "    </tr>\n",
       "  </thead>\n",
       "  <tbody>\n",
       "    <tr>\n",
       "      <th>0</th>\n",
       "      <td>0.761681</td>\n",
       "      <td>122.755954</td>\n",
       "      <td>2006</td>\n",
       "      <td>train_test_data/test/69.png</td>\n",
       "    </tr>\n",
       "    <tr>\n",
       "      <th>1</th>\n",
       "      <td>-8.059785</td>\n",
       "      <td>113.053791</td>\n",
       "      <td>2007</td>\n",
       "      <td>train_test_data/test/469.png</td>\n",
       "    </tr>\n",
       "    <tr>\n",
       "      <th>2</th>\n",
       "      <td>-2.006610</td>\n",
       "      <td>111.746316</td>\n",
       "      <td>2002</td>\n",
       "      <td>train_test_data/test/6.png</td>\n",
       "    </tr>\n",
       "    <tr>\n",
       "      <th>3</th>\n",
       "      <td>0.901765</td>\n",
       "      <td>114.042495</td>\n",
       "      <td>2016</td>\n",
       "      <td>train_test_data/test/351.png</td>\n",
       "    </tr>\n",
       "    <tr>\n",
       "      <th>4</th>\n",
       "      <td>1.911210</td>\n",
       "      <td>100.829633</td>\n",
       "      <td>2008</td>\n",
       "      <td>train_test_data/test/1001.png</td>\n",
       "    </tr>\n",
       "  </tbody>\n",
       "</table>\n",
       "</div>"
      ],
      "text/plain": [
       "   latitude   longitude  year                   example_path\n",
       "0  0.761681  122.755954  2006    train_test_data/test/69.png\n",
       "1 -8.059785  113.053791  2007   train_test_data/test/469.png\n",
       "2 -2.006610  111.746316  2002     train_test_data/test/6.png\n",
       "3  0.901765  114.042495  2016   train_test_data/test/351.png\n",
       "4  1.911210  100.829633  2008  train_test_data/test/1001.png"
      ]
     },
     "execution_count": 134,
     "metadata": {},
     "output_type": "execute_result"
    }
   ],
   "source": [
    "test_df.head()"
   ]
  },
  {
   "cell_type": "code",
   "execution_count": 135,
   "id": "f84d5238",
   "metadata": {
    "ExecuteTime": {
     "end_time": "2022-11-18T12:48:26.832357Z",
     "start_time": "2022-11-18T12:48:26.822232Z"
    }
   },
   "outputs": [
    {
     "name": "stdout",
     "output_type": "stream",
     "text": [
      "     target  label\n",
      "7         1      2\n",
      "51        4      1\n",
      "2         6      0\n",
      "550       9      1\n",
      "511      15      0\n"
     ]
    }
   ],
   "source": [
    "# Create Submission\n",
    "test_df = pd.read_csv('test.csv')\n",
    "submission=test_df.copy()[['example_path']]\n",
    "submission['target']= submission['example_path'].str.split('/').str[-1].str.strip('.png')\n",
    "submission['label'] = np.argmax(preds_test, 1)\n",
    "submission = submission.drop(columns=['example_path'])\n",
    "submission = submission.astype({'label':'int','target':'int'})\n",
    "submission=submission.sort_values(by=['target'])\n",
    "print(submission.head())\n",
    "submission.to_csv('predictions.csv',index=False)\n",
    "submission.set_index('target').rename(columns={\"label\": \"target\"}).to_json('predictions.json',orient=\"columns\")"
   ]
  },
  {
   "cell_type": "code",
   "execution_count": 136,
   "id": "b133b505",
   "metadata": {
    "ExecuteTime": {
     "end_time": "2022-11-18T12:48:26.837251Z",
     "start_time": "2022-11-18T12:48:26.833207Z"
    }
   },
   "outputs": [
    {
     "data": {
      "text/html": [
       "<div>\n",
       "<style scoped>\n",
       "    .dataframe tbody tr th:only-of-type {\n",
       "        vertical-align: middle;\n",
       "    }\n",
       "\n",
       "    .dataframe tbody tr th {\n",
       "        vertical-align: top;\n",
       "    }\n",
       "\n",
       "    .dataframe thead th {\n",
       "        text-align: right;\n",
       "    }\n",
       "</style>\n",
       "<table border=\"1\" class=\"dataframe\">\n",
       "  <thead>\n",
       "    <tr style=\"text-align: right;\">\n",
       "      <th></th>\n",
       "      <th>target</th>\n",
       "      <th>label</th>\n",
       "    </tr>\n",
       "  </thead>\n",
       "  <tbody>\n",
       "    <tr>\n",
       "      <th>0</th>\n",
       "      <td>1</td>\n",
       "      <td>2</td>\n",
       "    </tr>\n",
       "    <tr>\n",
       "      <th>1</th>\n",
       "      <td>4</td>\n",
       "      <td>1</td>\n",
       "    </tr>\n",
       "    <tr>\n",
       "      <th>2</th>\n",
       "      <td>6</td>\n",
       "      <td>0</td>\n",
       "    </tr>\n",
       "    <tr>\n",
       "      <th>3</th>\n",
       "      <td>9</td>\n",
       "      <td>1</td>\n",
       "    </tr>\n",
       "    <tr>\n",
       "      <th>4</th>\n",
       "      <td>15</td>\n",
       "      <td>0</td>\n",
       "    </tr>\n",
       "  </tbody>\n",
       "</table>\n",
       "</div>"
      ],
      "text/plain": [
       "   target  label\n",
       "0       1      2\n",
       "1       4      1\n",
       "2       6      0\n",
       "3       9      1\n",
       "4      15      0"
      ]
     },
     "execution_count": 136,
     "metadata": {},
     "output_type": "execute_result"
    }
   ],
   "source": [
    "pd.read_csv('predictions.csv').head()"
   ]
  },
  {
   "cell_type": "code",
   "execution_count": 137,
   "id": "9cf85904",
   "metadata": {
    "ExecuteTime": {
     "end_time": "2022-11-18T12:48:26.967442Z",
     "start_time": "2022-11-18T12:48:26.838083Z"
    }
   },
   "outputs": [
    {
     "name": "stdout",
     "output_type": "stream",
     "text": [
      "{\"target\":{\"1\":2,\"4\":1,\"6\":0,\"9\":1,\"15\":0,\"24\":0,\"33\":2,\"34\":2,\"35\":2,\"36\":2,\"37\":0,\"39\":0,\"52\":0,\"54\":1,\"57\":0,\"58\":0,\"69\":2,\"74\":2,\"78\":0,\"80\":0,\"91\":1,\"97\":0,\"101\":1,\"103\":2,\"109\":2,\"118\":0,\"126\":0,\"136\":0,\"138\":0,\"140\":0,\"141\":2,\"143\":2,\"147\":1,\"149\":2,\"153\":2,\"155\":0,\"157\":2,\"161\":0,\"169\":2,\"170\":0,\"178\":0,\"187\":2,\"188\":2,\"190\":2,\"195\":0,\"204\":2,\"205\":2,\"206\":0,\"208\":2,\"211\":0,\"215\":0,\"216\":2,\"217\":0,\"219\":0,\"221\":2,\"222\":0,\"223\":2,\"229\":2,\"230\":0,\"243\":0,\"247\":1,\"251\":0,\"252\":0,\"253\":0,\"255\":0,\"264\":2,\"267\":0,\"275\":0,\"277\":0,\"280\":2,\"285\":0,\"287\":0,\"289\":0,\"292\":2,\"298\":0,\"299\":2,\"301\":2,\"305\":2,\"306\":2,\"308\":2,\"309\":0,\"318\":0,\"320\":2,\"328\":1,\"333\":0,\"336\":0,\"338\":0,\"339\":0,\"344\":0,\"345\":0,\"351\":2,\"353\":0,\"356\":0,\"358\":0,\"359\":0,\"366\":1,\"370\":0,\"378\":2,\"387\":2,\"394\":2,\"403\":1,\"404\":0,\"405\":0,\"409\":0,\"413\":2,\"418\":2,\"421\":0,\"423\":2,\"424\":0,\"426\":2,\"429\":1,\"430\":0,\"445\":2,\"446\":0,\"450\":2,\"451\":2,\"452\":0,\"454\":0,\"458\":0,\"469\":2,\"470\":2,\"473\":2,\"476\":0,\"481\":0,\"483\":2,\"486\":2,\"494\":2,\"496\":1,\"499\":0,\"500\":0,\"505\":0,\"507\":2,\"508\":2,\"510\":2,\"513\":0,\"514\":2,\"515\":0,\"516\":0,\"524\":0,\"533\":0,\"534\":2,\"536\":2,\"537\":0,\"542\":0,\"544\":0,\"549\":2,\"551\":2,\"556\":0,\"559\":1,\"560\":0,\"561\":1,\"574\":2,\"577\":2,\"584\":2,\"587\":0,\"588\":0,\"591\":0,\"593\":2,\"594\":2,\"595\":2,\"603\":0,\"610\":0,\"614\":0,\"615\":2,\"616\":0,\"620\":0,\"628\":0,\"630\":0,\"635\":0,\"636\":0,\"638\":0,\"643\":0,\"646\":0,\"647\":2,\"648\":2,\"650\":2,\"651\":2,\"652\":2,\"657\":0,\"660\":0,\"663\":2,\"665\":1,\"666\":0,\"667\":0,\"674\":2,\"678\":2,\"684\":0,\"693\":0,\"694\":0,\"696\":2,\"700\":0,\"705\":2,\"707\":0,\"710\":0,\"711\":1,\"716\":2,\"721\":0,\"727\":0,\"728\":0,\"732\":2,\"739\":0,\"741\":0,\"745\":0,\"747\":2,\"755\":1,\"758\":2,\"764\":0,\"767\":0,\"769\":2,\"773\":0,\"775\":2,\"776\":2,\"777\":0,\"780\":2,\"783\":2,\"791\":1,\"800\":0,\"806\":0,\"807\":0,\"808\":0,\"827\":0,\"829\":0,\"830\":0,\"836\":2,\"838\":2,\"841\":2,\"842\":2,\"849\":1,\"851\":2,\"852\":2,\"855\":2,\"860\":2,\"863\":2,\"864\":0,\"866\":0,\"870\":1,\"873\":2,\"880\":2,\"882\":2,\"883\":0,\"885\":2,\"887\":0,\"893\":2,\"902\":2,\"904\":0,\"906\":0,\"917\":2,\"919\":0,\"921\":0,\"933\":0,\"934\":0,\"938\":0,\"940\":2,\"949\":0,\"959\":0,\"960\":0,\"964\":2,\"966\":2,\"968\":2,\"975\":0,\"976\":0,\"977\":0,\"983\":0,\"984\":0,\"986\":2,\"988\":2,\"1000\":0,\"1001\":2,\"1002\":1,\"1004\":2,\"1005\":2,\"1006\":0,\"1007\":1,\"1012\":0,\"1013\":0,\"1024\":2,\"1025\":0,\"1026\":0,\"1028\":2,\"1034\":2,\"1036\":2,\"1047\":1,\"1048\":0,\"1049\":2,\"1050\":0,\"1055\":0,\"1057\":0,\"1066\":0,\"1069\":2,\"1071\":2,\"1089\":2,\"1093\":1,\"1094\":0,\"1099\":0,\"1104\":0,\"1105\":0,\"1110\":2,\"1111\":2,\"1113\":0,\"1116\":0,\"1117\":0,\"1122\":0,\"1124\":1,\"1125\":0,\"1129\":2,\"1133\":2,\"1145\":2,\"1152\":0,\"1153\":2,\"1160\":0,\"1163\":2,\"1168\":1,\"1176\":0,\"1178\":0,\"1181\":2,\"1182\":2,\"1187\":2,\"1188\":0,\"1191\":0,\"1192\":2,\"1198\":2,\"1200\":2,\"1201\":2,\"1202\":0,\"1207\":0,\"1208\":2,\"1209\":2,\"1220\":0,\"1224\":0,\"1229\":0,\"1231\":0,\"1238\":0,\"1247\":0,\"1249\":0,\"1251\":2,\"1255\":2,\"1257\":2,\"1258\":1,\"1259\":0,\"1262\":0,\"1263\":0,\"1265\":0,\"1266\":2,\"1267\":2,\"1268\":0,\"1270\":2,\"1271\":0,\"1276\":2,\"1278\":0,\"1281\":2,\"1282\":0,\"1284\":0,\"1285\":0,\"1287\":0,\"1288\":0,\"1289\":0,\"1290\":0,\"1291\":0,\"1294\":0,\"1295\":0,\"1301\":2,\"1304\":0,\"1312\":0,\"1316\":2,\"1318\":0,\"1325\":2,\"1333\":2,\"1336\":0,\"1349\":0,\"1352\":2,\"1358\":0,\"1361\":1,\"1362\":2,\"1366\":2,\"1368\":0,\"1369\":0,\"1370\":2,\"1371\":2,\"1378\":0,\"1380\":2,\"1381\":0,\"1382\":0,\"1386\":1,\"1389\":0,\"1395\":2,\"1397\":0,\"1398\":2,\"1404\":2,\"1405\":0,\"1407\":0,\"1411\":0,\"1412\":2,\"1413\":0,\"1424\":1,\"1427\":0,\"1437\":0,\"1438\":0,\"1439\":2,\"1445\":2,\"1448\":2,\"1449\":0,\"1451\":0,\"1453\":0,\"1459\":0,\"1464\":0,\"1469\":1,\"1472\":0,\"1475\":2,\"1479\":0,\"1482\":0,\"1484\":2,\"1489\":0,\"1490\":0,\"1492\":2,\"1494\":0,\"1501\":0,\"1505\":0,\"1509\":0,\"1511\":2,\"1513\":0,\"1514\":2,\"1516\":2,\"1518\":0,\"1519\":2,\"1525\":1,\"1527\":0,\"1530\":0,\"1538\":2,\"1542\":2,\"1543\":2,\"1544\":2,\"1546\":0,\"1547\":2,\"1548\":2,\"1551\":0,\"1559\":0,\"1565\":2,\"1568\":2,\"1572\":2,\"1574\":0,\"1575\":2,\"1580\":1,\"1582\":2,\"1585\":0,\"1589\":2,\"1590\":0,\"1598\":0,\"1605\":2,\"1612\":2,\"1614\":0,\"1615\":2,\"1620\":0,\"1621\":0,\"1629\":2,\"1630\":2,\"1633\":0,\"1636\":0,\"1642\":2,\"1644\":2,\"1647\":0,\"1651\":2,\"1652\":0,\"1653\":0,\"1658\":2,\"1661\":2,\"1664\":0,\"1668\":0,\"1685\":2,\"1687\":0,\"1689\":0,\"1692\":2,\"1693\":2,\"1697\":0,\"1700\":0,\"1706\":0,\"1708\":2,\"1716\":2,\"1721\":2,\"1722\":0,\"1727\":2,\"1728\":2,\"1730\":0,\"1731\":2,\"1739\":0,\"1740\":0,\"1742\":2,\"1744\":2,\"1745\":0,\"1746\":2,\"1757\":2,\"1761\":2,\"1766\":1,\"1769\":0,\"1773\":2,\"1780\":0,\"1790\":2,\"1794\":2,\"1798\":2,\"1800\":2,\"1802\":0,\"1804\":2,\"1805\":0,\"1806\":2,\"1814\":2,\"1818\":2,\"1819\":0,\"1822\":2,\"1824\":2,\"1826\":0,\"1828\":2,\"1830\":0,\"1831\":0,\"1837\":0,\"1838\":0,\"1843\":2,\"1844\":2,\"1845\":0,\"1847\":2,\"1861\":1,\"1865\":0,\"1868\":2,\"1873\":1,\"1877\":0,\"1878\":0,\"1881\":2,\"1884\":0,\"1892\":2,\"1893\":2,\"1901\":0,\"1907\":2,\"1910\":0,\"1912\":2,\"1914\":2,\"1915\":2,\"1920\":2,\"1921\":2,\"1926\":0,\"1927\":0,\"1929\":0,\"1932\":1,\"1936\":0,\"1941\":2,\"1942\":0,\"1943\":2,\"1952\":0,\"1956\":1,\"1968\":0,\"1973\":2,\"1975\":0,\"1978\":0,\"1981\":2,\"1983\":1,\"1988\":2,\"1990\":0,\"1994\":0,\"2000\":2,\"2001\":0,\"2008\":0,\"2011\":2,\"2014\":2,\"2024\":0,\"2028\":2,\"2030\":0,\"2032\":2,\"2036\":0,\"2039\":0,\"2044\":0,\"2047\":0,\"2050\":0,\"2064\":2,\"2069\":0,\"2073\":0,\"2076\":2,\"2079\":0,\"2085\":0,\"2087\":2,\"2092\":2,\"2094\":2,\"2107\":1,\"2111\":1,\"2112\":0,\"2114\":2,\"2131\":2,\"2135\":2,\"2138\":2,\"2144\":0,\"2146\":0,\"2147\":2,\"2150\":0,\"2152\":0,\"2153\":2,\"2162\":2,\"2164\":0,\"2174\":0,\"2186\":1,\"2188\":0,\"2189\":2,\"2195\":2,\"2197\":0,\"2198\":0,\"2203\":2,\"2205\":2,\"2207\":2,\"2211\":1,\"2215\":0,\"2216\":0,\"2219\":2,\"2223\":0,\"2228\":0,\"2232\":2,\"2235\":0,\"2242\":1,\"2248\":2,\"2249\":1,\"2256\":2,\"2260\":2,\"2266\":2,\"2267\":2,\"2273\":0,\"2278\":0,\"2287\":2,\"2291\":2,\"2300\":0,\"2302\":0,\"2304\":0,\"2307\":0,\"2321\":0,\"2328\":0,\"2329\":1,\"2337\":1,\"2341\":0,\"2342\":0,\"2345\":2,\"2347\":2,\"2348\":0}}"
     ]
    }
   ],
   "source": [
    "!head predictions.json"
   ]
  },
  {
   "cell_type": "code",
   "execution_count": 140,
   "id": "d4f7cb24",
   "metadata": {
    "ExecuteTime": {
     "end_time": "2022-11-18T13:16:54.229973Z",
     "start_time": "2022-11-18T13:16:54.224258Z"
    }
   },
   "outputs": [],
   "source": [
    "pd.DataFrame(preds_test).to_csv('preds_test_ensemble_0.8237866251349666.csv', index=False)"
   ]
  },
  {
   "cell_type": "code",
   "execution_count": null,
   "id": "a533fa01",
   "metadata": {},
   "outputs": [],
   "source": []
  }
 ],
 "metadata": {
  "kernelspec": {
   "display_name": "Python 3 (ipykernel)",
   "language": "python",
   "name": "python3"
  },
  "language_info": {
   "codemirror_mode": {
    "name": "ipython",
    "version": 3
   },
   "file_extension": ".py",
   "mimetype": "text/x-python",
   "name": "python",
   "nbconvert_exporter": "python",
   "pygments_lexer": "ipython3",
   "version": "3.10.8"
  },
  "toc": {
   "base_numbering": 1,
   "nav_menu": {},
   "number_sections": true,
   "sideBar": true,
   "skip_h1_title": false,
   "title_cell": "Table of Contents",
   "title_sidebar": "Contents",
   "toc_cell": false,
   "toc_position": {
    "height": "calc(100% - 180px)",
    "left": "10px",
    "top": "150px",
    "width": "165px"
   },
   "toc_section_display": true,
   "toc_window_display": true
  }
 },
 "nbformat": 4,
 "nbformat_minor": 5
}
